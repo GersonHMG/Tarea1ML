{
 "cells": [
  {
   "cell_type": "markdown",
   "metadata": {
    "id": "PAui1F5Youxz"
   },
   "source": [
    "<center><img src=\"data:image/png;base64,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\" title=\"Title text\" /></center>\n",
    "\n",
    "\n",
    "\n",
    "<hr style=\"height:2px;border:none\"/>\n",
    "<h1 align='center'> INF-398 INTRODUCCIÓN AL APRENDIZAJE AUTOMÁTICO - 2023-1 </h1>\n",
    "\n",
    "<H3 align='center'> Tarea 1  </H3>\n",
    "<hr style=\"height:2px;border:none\"/>"
   ]
  },
  {
   "cell_type": "markdown",
   "metadata": {
    "id": "afvVkQDipqL3"
   },
   "source": [
    "**Temas**  \n",
    "* Manipulaciones en pandas y numpy, imputación de datos y preprocesamientos\n",
    "* Feature Engineering\n",
    "* Regresión\n",
    "* Clasificación\n",
    "* Regularización\n",
    "* SVM\n",
    "\n",
    "\n",
    "**Formalidades**  \n",
    "* Equipos de trabajo de 3 personas (*Los estudiantes deben estar preparados para presentar la tarea el día de la entrega*)\n",
    "* El entregable debe ser un _Jupyter Notebook_ incluyendo los códigos utilizados, los resultados, los gráficos realizados y comentarios. Debe seguir una estructura similar a un informe (se debe introducir los problemas a trabajar, presentar los resultados y discutirlos), se penalizará fuertemente ausencia de comentarios, explicaciones de gráficos, _etc_. Las preguntas que deben responder se encuentran especificadas explícitamente con letras, ejemplo a) b) c), por lo tanto cualquier pregunta que se encuentre incompleta será penalizada con descuento del puntaje. Recuerde que los códigos presentes en este documento son solo una guía de referencia, por lo tanto no necesariamente funcionan, usted debe mostrar todos sus conocimientos aprendidos a lo largo de la carrera para que su código funcione como se espera. Si lo prefiere puede entregar un _Jupyter Notebook_ por pregunta o uno por toda la tarea, con tal de que todos los entregables esten bien identificados y se encuentren en el mismo repositorio de _Github_.\n",
    "* Se debe preparar una presentación del trabajo realizado y sus hallazgos. El presentador será elegido aleatoriamente y deberá apoyarse en el _Jupyter Notebook_ que entregarán. \n",
    "* Formato de entrega: envı́o de link del repositorio en _Github_, al correo electrónico de los ayudantes (<sebastian.sanchezl@sansano.usm.cl>), en copia al profesor (<cvalle@inf.utfsm.cl>). Especificar el siguiente asunto: [INF-398-2023-1 Tarea 1]. Invitar como colaborador a los usuarios de github \"ssanchezl\" para poder acceder al repositorio en caso de ser privado.\n",
    "\n",
    "* Fecha de presentaciones 12 de Mayo, en horario de clases.\n",
    "* Fecha de entrega: 13 de Mayo. Hora límite de entrega: 12:00 p.m. Cualquier _commit_ luego de la hora límite no será evaluado. Se realizará descuento por atrasos en envío del mail igualmente.  \n",
    "\n",
    "<hr style=\"height:2px;border:none\"/>"
   ]
  },
  {
   "cell_type": "markdown",
   "metadata": {
    "id": "ma71e6Q9WQ3v"
   },
   "source": [
    "Importe las librerías necesarias para cargar explorar el conjunto de datos."
   ]
  },
  {
   "cell_type": "code",
   "execution_count": 1,
   "metadata": {
    "id": "0PYCL-EyLDn0"
   },
   "outputs": [],
   "source": [
    "import numpy as np\n",
    "import pandas as pd\n",
    "import seaborn as sns\n",
    "import matplotlib.pyplot as plt\n",
    "import sklearn as sk\n",
    "from sklearn import preprocessing\n",
    "from sklearn.model_selection import train_test_split, cross_val_score, KFold, GridSearchCV\n",
    "from sklearn.linear_model import LinearRegression, SGDRegressor\n",
    "from sklearn.metrics import mean_squared_error, classification_report, confusion_matrix\n",
    "from sklearn.decomposition import PCA\n",
    "from sklearn.feature_selection import mutual_info_classif\n",
    "\n"
   ]
  },
  {
   "cell_type": "markdown",
   "metadata": {
    "id": "tgOo-Ccfr4kc"
   },
   "source": [
    "# 1. Regresión lineal para la predicción de la demanda de bicicletas compartidas en Seúl\n",
    "\n",
    "La regresión lineal es un modelo matemático que pertenece al aprendizaje supervisado, el cual intenta aplicar relaciones que predigan el resultado de un evento basándose en los datos de variables independientes. Llamaremos a este resultado: variable objetivo o _target_, y como es un modelo de regresión lineal la variable objetivo es una variable continua.\n",
    "\n",
    "<center><img src=https://t4.ftcdn.net/jpg/02/32/47/13/360_F_232471334_vfDHKHeRHtwkn0zvd8SM98THwQeYDn8y.jpg></center>\n",
    "\n",
    "Los sistemas de bicicletas compartidas son un medio para alquilar bicicletas en el que el proceso de afiliación, alquiler y devolución se automatiza a través de una red de _quioscos o puntos de estacionamiento_ repartidos por toda la ciudad. Gracias a estos sistemas, los usuarios pueden alquilar una bicicleta en un lugar y devolverla en otro cuando lo necesiten.\n",
    "\n",
    "En esta pregunta se le proporcionan datos de alquiler de la cantidad de bicicletas arrendadas por hora durante dos años según variables climáticas y laborales. \n",
    "\n",
    "Usted tiene separar el dataset en un conjunto de entrenamiento y en un conjunto de prueba, y el objetivo de esta pregunta será: **predecir el número total de bicicletas alquiladas en el conjunto de pruebas**.\n",
    "\n",
    "La base de datos y toda la información asociada a esta se puede encontrar en el siguiente link: https://www.kaggle.com/datasets/saurabhshahane/seoul-bike-sharing-demand-prediction."
   ]
  },
  {
   "cell_type": "markdown",
   "metadata": {
    "id": "ZwXkfql_NnIh"
   },
   "source": [
    "## 1.1 Manipulación y exploración del conjunto de datos\n",
    "\n",
    "Lo primero es obtener los datos, para esto se pueden descargar los archivos directamente de la página de Kaggle a través del link de la descripción de arriba.\n",
    "\n",
    "Existen distintas formas para obtener los datos, de las cuales usted debe elegir solo uno:\n",
    "\n",
    "1. Puede descargarlos y guardarlos en su directorio local y luego cargar los datos usando este notebook con Jupyter.\n",
    "\n",
    "2. Puede utilizar google colab. En este caso existen 2 formas de cargar los datos, montando su cuenta de google drive en el colab y guardar los datos en una carpeta de drive. La otra forma es cargar los datos de forma en la máquiva virtual que le asigna colab de manera **temporal**. Tenga cuidado si elige la forma temporal ya que si por alguna razón se desconecta del ambiente, deberá volver a descargar los datos.\n",
    "\n",
    "3. Existen muchas otras formas más pero usted puede obtener los datos con cualquier método que estime conveniente.\n",
    "\n",
    "\n",
    "También es posible descargarlos mediante la [API](https://github.com/Kaggle/kaggle-api#kaggle-api) de Kaggle siguiendo las instrucciones en la sección API credentials. Si desea utilizar google colab puede seguir este tutorial [Kaggle + Colab](https://galhever.medium.com/how-to-import-data-from-kaggle-to-google-colab-8160caa11e2)"
   ]
  },
  {
   "cell_type": "markdown",
   "metadata": {
    "id": "SwrAvQkg61WQ"
   },
   "source": [
    "Localizar y subir la api-key de kaggle"
   ]
  },
  {
   "cell_type": "code",
   "execution_count": 2,
   "metadata": {
    "colab": {
     "base_uri": "https://localhost:8080/",
     "height": 91
    },
    "id": "TWqskVWeHyyO",
    "outputId": "ae878db6-aae8-4e37-e2f4-dfd4edda7a1e"
   },
   "outputs": [],
   "source": [
    "#from google.colab import files\n",
    "#files.upload()"
   ]
  },
  {
   "cell_type": "markdown",
   "metadata": {
    "id": "W2sQwOqZ67zx"
   },
   "source": [
    "Otorgar permisos de lectura y escritura al archivo kaggle.json"
   ]
  },
  {
   "cell_type": "code",
   "execution_count": 3,
   "metadata": {
    "id": "S5x4CoYdKWTL"
   },
   "outputs": [],
   "source": [
    "#!mkdir -p ~/.kaggle\n",
    "#!cp kaggle.json ~/.kaggle/\n",
    "#!chmod 600 ~/.kaggle/kaggle.json"
   ]
  },
  {
   "cell_type": "markdown",
   "metadata": {
    "id": "lkCJq4h67QBE"
   },
   "source": [
    "Descargar el dataset"
   ]
  },
  {
   "cell_type": "code",
   "execution_count": 4,
   "metadata": {
    "colab": {
     "base_uri": "https://localhost:8080/"
    },
    "id": "iyWjZD3L_PCv",
    "outputId": "2f433769-b0a7-4367-ec5e-c21d3271ce36"
   },
   "outputs": [],
   "source": [
    "#!kaggle datasets download -d saurabhshahane/seoul-bike-sharing-demand-prediction"
   ]
  },
  {
   "cell_type": "markdown",
   "metadata": {
    "id": "f7DIRNYy7UrH"
   },
   "source": [
    "Descomprimir"
   ]
  },
  {
   "cell_type": "code",
   "execution_count": 5,
   "metadata": {
    "colab": {
     "base_uri": "https://localhost:8080/"
    },
    "id": "DvRKiEnzU5in",
    "outputId": "a8a68a8c-bdee-45f0-bbfd-4affb8d3b0ad"
   },
   "outputs": [],
   "source": [
    "#!unzip seoul-bike-sharing-demand-prediction.zip"
   ]
  },
  {
   "cell_type": "markdown",
   "metadata": {
    "id": "bz9zyBxkXgdB"
   },
   "source": [
    "### 1.1.1 Exploración del conjunto de datos\n",
    "\n",
    "\n"
   ]
  },
  {
   "cell_type": "code",
   "execution_count": 6,
   "metadata": {
    "id": "_ueS8iujKrSc"
   },
   "outputs": [],
   "source": [
    "data = pd.read_csv('SeoulBikeData.csv',encoding= 'unicode_escape')"
   ]
  },
  {
   "cell_type": "code",
   "execution_count": 7,
   "metadata": {
    "id": "WLUKTAS7KP_Y"
   },
   "outputs": [
    {
     "data": {
      "text/html": [
       "<div>\n",
       "<style scoped>\n",
       "    .dataframe tbody tr th:only-of-type {\n",
       "        vertical-align: middle;\n",
       "    }\n",
       "\n",
       "    .dataframe tbody tr th {\n",
       "        vertical-align: top;\n",
       "    }\n",
       "\n",
       "    .dataframe thead th {\n",
       "        text-align: right;\n",
       "    }\n",
       "</style>\n",
       "<table border=\"1\" class=\"dataframe\">\n",
       "  <thead>\n",
       "    <tr style=\"text-align: right;\">\n",
       "      <th></th>\n",
       "      <th>Date</th>\n",
       "      <th>Rented Bike Count</th>\n",
       "      <th>Hour</th>\n",
       "      <th>Temperature(°C)</th>\n",
       "      <th>Humidity(%)</th>\n",
       "      <th>Wind speed (m/s)</th>\n",
       "      <th>Visibility (10m)</th>\n",
       "      <th>Dew point temperature(°C)</th>\n",
       "      <th>Solar Radiation (MJ/m2)</th>\n",
       "      <th>Rainfall(mm)</th>\n",
       "      <th>Snowfall (cm)</th>\n",
       "      <th>Seasons</th>\n",
       "      <th>Holiday</th>\n",
       "      <th>Functioning Day</th>\n",
       "    </tr>\n",
       "  </thead>\n",
       "  <tbody>\n",
       "    <tr>\n",
       "      <th>0</th>\n",
       "      <td>01/12/2017</td>\n",
       "      <td>254</td>\n",
       "      <td>0</td>\n",
       "      <td>-5.2</td>\n",
       "      <td>37</td>\n",
       "      <td>2.2</td>\n",
       "      <td>2000</td>\n",
       "      <td>-17.6</td>\n",
       "      <td>0.0</td>\n",
       "      <td>0.0</td>\n",
       "      <td>0.0</td>\n",
       "      <td>Winter</td>\n",
       "      <td>No Holiday</td>\n",
       "      <td>Yes</td>\n",
       "    </tr>\n",
       "    <tr>\n",
       "      <th>1</th>\n",
       "      <td>01/12/2017</td>\n",
       "      <td>204</td>\n",
       "      <td>1</td>\n",
       "      <td>-5.5</td>\n",
       "      <td>38</td>\n",
       "      <td>0.8</td>\n",
       "      <td>2000</td>\n",
       "      <td>-17.6</td>\n",
       "      <td>0.0</td>\n",
       "      <td>0.0</td>\n",
       "      <td>0.0</td>\n",
       "      <td>Winter</td>\n",
       "      <td>No Holiday</td>\n",
       "      <td>Yes</td>\n",
       "    </tr>\n",
       "    <tr>\n",
       "      <th>2</th>\n",
       "      <td>01/12/2017</td>\n",
       "      <td>173</td>\n",
       "      <td>2</td>\n",
       "      <td>-6.0</td>\n",
       "      <td>39</td>\n",
       "      <td>1.0</td>\n",
       "      <td>2000</td>\n",
       "      <td>-17.7</td>\n",
       "      <td>0.0</td>\n",
       "      <td>0.0</td>\n",
       "      <td>0.0</td>\n",
       "      <td>Winter</td>\n",
       "      <td>No Holiday</td>\n",
       "      <td>Yes</td>\n",
       "    </tr>\n",
       "    <tr>\n",
       "      <th>3</th>\n",
       "      <td>01/12/2017</td>\n",
       "      <td>107</td>\n",
       "      <td>3</td>\n",
       "      <td>-6.2</td>\n",
       "      <td>40</td>\n",
       "      <td>0.9</td>\n",
       "      <td>2000</td>\n",
       "      <td>-17.6</td>\n",
       "      <td>0.0</td>\n",
       "      <td>0.0</td>\n",
       "      <td>0.0</td>\n",
       "      <td>Winter</td>\n",
       "      <td>No Holiday</td>\n",
       "      <td>Yes</td>\n",
       "    </tr>\n",
       "    <tr>\n",
       "      <th>4</th>\n",
       "      <td>01/12/2017</td>\n",
       "      <td>78</td>\n",
       "      <td>4</td>\n",
       "      <td>-6.0</td>\n",
       "      <td>36</td>\n",
       "      <td>2.3</td>\n",
       "      <td>2000</td>\n",
       "      <td>-18.6</td>\n",
       "      <td>0.0</td>\n",
       "      <td>0.0</td>\n",
       "      <td>0.0</td>\n",
       "      <td>Winter</td>\n",
       "      <td>No Holiday</td>\n",
       "      <td>Yes</td>\n",
       "    </tr>\n",
       "  </tbody>\n",
       "</table>\n",
       "</div>"
      ],
      "text/plain": [
       "         Date  Rented Bike Count  Hour  Temperature(°C)  Humidity(%)  \\\n",
       "0  01/12/2017                254     0             -5.2           37   \n",
       "1  01/12/2017                204     1             -5.5           38   \n",
       "2  01/12/2017                173     2             -6.0           39   \n",
       "3  01/12/2017                107     3             -6.2           40   \n",
       "4  01/12/2017                 78     4             -6.0           36   \n",
       "\n",
       "   Wind speed (m/s)  Visibility (10m)  Dew point temperature(°C)  \\\n",
       "0               2.2              2000                      -17.6   \n",
       "1               0.8              2000                      -17.6   \n",
       "2               1.0              2000                      -17.7   \n",
       "3               0.9              2000                      -17.6   \n",
       "4               2.3              2000                      -18.6   \n",
       "\n",
       "   Solar Radiation (MJ/m2)  Rainfall(mm)  Snowfall (cm) Seasons     Holiday  \\\n",
       "0                      0.0           0.0            0.0  Winter  No Holiday   \n",
       "1                      0.0           0.0            0.0  Winter  No Holiday   \n",
       "2                      0.0           0.0            0.0  Winter  No Holiday   \n",
       "3                      0.0           0.0            0.0  Winter  No Holiday   \n",
       "4                      0.0           0.0            0.0  Winter  No Holiday   \n",
       "\n",
       "  Functioning Day  \n",
       "0             Yes  \n",
       "1             Yes  \n",
       "2             Yes  \n",
       "3             Yes  \n",
       "4             Yes  "
      ]
     },
     "execution_count": 7,
     "metadata": {},
     "output_type": "execute_result"
    }
   ],
   "source": [
    "data.head()"
   ]
  },
  {
   "cell_type": "markdown",
   "metadata": {
    "id": "Kf6OuaXU6lAv"
   },
   "source": [
    "Explore el conjunto de datos y responda  brevemente las siguiente preguntas:\n",
    "\n",
    "> a) ¿Cuáles variables poseen valores numéricos y cuáles poseen valores categóricos?\n",
    "\n",
    "> b) ¿Qué aspecto tienen en común las variables _Date_ y _Season_?\n",
    "\n",
    "> c) Revise si faltan valores en los conjuntos de datos de prueba y de entrenamiento."
   ]
  },
  {
   "cell_type": "code",
   "execution_count": 8,
   "metadata": {},
   "outputs": [
    {
     "data": {
      "text/plain": [
       "Date                          object\n",
       "Rented Bike Count              int64\n",
       "Hour                           int64\n",
       "Temperature(°C)              float64\n",
       "Humidity(%)                    int64\n",
       "Wind speed (m/s)             float64\n",
       "Visibility (10m)               int64\n",
       "Dew point temperature(°C)    float64\n",
       "Solar Radiation (MJ/m2)      float64\n",
       "Rainfall(mm)                 float64\n",
       "Snowfall (cm)                float64\n",
       "Seasons                       object\n",
       "Holiday                       object\n",
       "Functioning Day               object\n",
       "dtype: object"
      ]
     },
     "execution_count": 8,
     "metadata": {},
     "output_type": "execute_result"
    }
   ],
   "source": [
    "data.dtypes"
   ]
  },
  {
   "cell_type": "markdown",
   "metadata": {},
   "source": [
    "a)\n",
    "-----\n",
    "#### Las variables que poseen valores numericos son:\n",
    "- Rented Bike Count\n",
    "- Hour\n",
    "- Temperature\n",
    "- Humidity\n",
    "- Wind speed\n",
    "- Visibility\n",
    "- Drew point temperature\n",
    "- Solar Radiation (MJ/m2)\n",
    "- Rainfall(mm)\n",
    "- Snowfall (cm)\n",
    "- Date\n",
    "#### Las variables que poseen valores categoricos:\n",
    "- Seasons\n",
    "- Holiday\n",
    "- Functioning Day\n"
   ]
  },
  {
   "cell_type": "markdown",
   "metadata": {},
   "source": [
    "b)\n",
    "----\n",
    "\n",
    " El aspecto en comun de estas variables es el tiempo. La variable Season nos entrega informacion de la estacion del año, que puede ser util para analizar la influencia de las condiciones climaticas en diferentes estaciones del año. Por otro lado, tenemos la variable date que puede ser util para tendencias a lo largo del tiempo."
   ]
  },
  {
   "cell_type": "markdown",
   "metadata": {},
   "source": [
    "c)\n",
    "-----\n"
   ]
  },
  {
   "cell_type": "code",
   "execution_count": 9,
   "metadata": {
    "id": "ItJ9oQzALZHU"
   },
   "outputs": [
    {
     "data": {
      "text/html": [
       "<div>\n",
       "<style scoped>\n",
       "    .dataframe tbody tr th:only-of-type {\n",
       "        vertical-align: middle;\n",
       "    }\n",
       "\n",
       "    .dataframe tbody tr th {\n",
       "        vertical-align: top;\n",
       "    }\n",
       "\n",
       "    .dataframe thead th {\n",
       "        text-align: right;\n",
       "    }\n",
       "</style>\n",
       "<table border=\"1\" class=\"dataframe\">\n",
       "  <thead>\n",
       "    <tr style=\"text-align: right;\">\n",
       "      <th></th>\n",
       "      <th>DataType</th>\n",
       "      <th>Non-null_Values</th>\n",
       "      <th>Unique_Values</th>\n",
       "      <th>NaN_Values</th>\n",
       "      <th>NaN_Values_Percentage</th>\n",
       "    </tr>\n",
       "  </thead>\n",
       "  <tbody>\n",
       "    <tr>\n",
       "      <th>Date</th>\n",
       "      <td>object</td>\n",
       "      <td>8760</td>\n",
       "      <td>365</td>\n",
       "      <td>0</td>\n",
       "      <td>0.0</td>\n",
       "    </tr>\n",
       "    <tr>\n",
       "      <th>Rented Bike Count</th>\n",
       "      <td>int64</td>\n",
       "      <td>8760</td>\n",
       "      <td>2166</td>\n",
       "      <td>0</td>\n",
       "      <td>0.0</td>\n",
       "    </tr>\n",
       "    <tr>\n",
       "      <th>Hour</th>\n",
       "      <td>int64</td>\n",
       "      <td>8760</td>\n",
       "      <td>24</td>\n",
       "      <td>0</td>\n",
       "      <td>0.0</td>\n",
       "    </tr>\n",
       "    <tr>\n",
       "      <th>Temperature(°C)</th>\n",
       "      <td>float64</td>\n",
       "      <td>8760</td>\n",
       "      <td>546</td>\n",
       "      <td>0</td>\n",
       "      <td>0.0</td>\n",
       "    </tr>\n",
       "    <tr>\n",
       "      <th>Humidity(%)</th>\n",
       "      <td>int64</td>\n",
       "      <td>8760</td>\n",
       "      <td>90</td>\n",
       "      <td>0</td>\n",
       "      <td>0.0</td>\n",
       "    </tr>\n",
       "    <tr>\n",
       "      <th>Wind speed (m/s)</th>\n",
       "      <td>float64</td>\n",
       "      <td>8760</td>\n",
       "      <td>65</td>\n",
       "      <td>0</td>\n",
       "      <td>0.0</td>\n",
       "    </tr>\n",
       "    <tr>\n",
       "      <th>Visibility (10m)</th>\n",
       "      <td>int64</td>\n",
       "      <td>8760</td>\n",
       "      <td>1789</td>\n",
       "      <td>0</td>\n",
       "      <td>0.0</td>\n",
       "    </tr>\n",
       "    <tr>\n",
       "      <th>Dew point temperature(°C)</th>\n",
       "      <td>float64</td>\n",
       "      <td>8760</td>\n",
       "      <td>556</td>\n",
       "      <td>0</td>\n",
       "      <td>0.0</td>\n",
       "    </tr>\n",
       "    <tr>\n",
       "      <th>Solar Radiation (MJ/m2)</th>\n",
       "      <td>float64</td>\n",
       "      <td>8760</td>\n",
       "      <td>345</td>\n",
       "      <td>0</td>\n",
       "      <td>0.0</td>\n",
       "    </tr>\n",
       "    <tr>\n",
       "      <th>Rainfall(mm)</th>\n",
       "      <td>float64</td>\n",
       "      <td>8760</td>\n",
       "      <td>61</td>\n",
       "      <td>0</td>\n",
       "      <td>0.0</td>\n",
       "    </tr>\n",
       "    <tr>\n",
       "      <th>Snowfall (cm)</th>\n",
       "      <td>float64</td>\n",
       "      <td>8760</td>\n",
       "      <td>51</td>\n",
       "      <td>0</td>\n",
       "      <td>0.0</td>\n",
       "    </tr>\n",
       "    <tr>\n",
       "      <th>Seasons</th>\n",
       "      <td>object</td>\n",
       "      <td>8760</td>\n",
       "      <td>4</td>\n",
       "      <td>0</td>\n",
       "      <td>0.0</td>\n",
       "    </tr>\n",
       "    <tr>\n",
       "      <th>Holiday</th>\n",
       "      <td>object</td>\n",
       "      <td>8760</td>\n",
       "      <td>2</td>\n",
       "      <td>0</td>\n",
       "      <td>0.0</td>\n",
       "    </tr>\n",
       "    <tr>\n",
       "      <th>Functioning Day</th>\n",
       "      <td>object</td>\n",
       "      <td>8760</td>\n",
       "      <td>2</td>\n",
       "      <td>0</td>\n",
       "      <td>0.0</td>\n",
       "    </tr>\n",
       "  </tbody>\n",
       "</table>\n",
       "</div>"
      ],
      "text/plain": [
       "                          DataType  Non-null_Values  Unique_Values  \\\n",
       "Date                        object             8760            365   \n",
       "Rented Bike Count            int64             8760           2166   \n",
       "Hour                         int64             8760             24   \n",
       "Temperature(°C)            float64             8760            546   \n",
       "Humidity(%)                  int64             8760             90   \n",
       "Wind speed (m/s)           float64             8760             65   \n",
       "Visibility (10m)             int64             8760           1789   \n",
       "Dew point temperature(°C)  float64             8760            556   \n",
       "Solar Radiation (MJ/m2)    float64             8760            345   \n",
       "Rainfall(mm)               float64             8760             61   \n",
       "Snowfall (cm)              float64             8760             51   \n",
       "Seasons                     object             8760              4   \n",
       "Holiday                     object             8760              2   \n",
       "Functioning Day             object             8760              2   \n",
       "\n",
       "                           NaN_Values  NaN_Values_Percentage  \n",
       "Date                                0                    0.0  \n",
       "Rented Bike Count                   0                    0.0  \n",
       "Hour                                0                    0.0  \n",
       "Temperature(°C)                     0                    0.0  \n",
       "Humidity(%)                         0                    0.0  \n",
       "Wind speed (m/s)                    0                    0.0  \n",
       "Visibility (10m)                    0                    0.0  \n",
       "Dew point temperature(°C)           0                    0.0  \n",
       "Solar Radiation (MJ/m2)             0                    0.0  \n",
       "Rainfall(mm)                        0                    0.0  \n",
       "Snowfall (cm)                       0                    0.0  \n",
       "Seasons                             0                    0.0  \n",
       "Holiday                             0                    0.0  \n",
       "Functioning Day                     0                    0.0  "
      ]
     },
     "execution_count": 9,
     "metadata": {},
     "output_type": "execute_result"
    }
   ],
   "source": [
    "def datainfo():\n",
    "    temp_ps = pd.DataFrame(index=data.columns)\n",
    "    temp_ps['DataType'] = data.dtypes\n",
    "    temp_ps[\"Non-null_Values\"] = data.count()\n",
    "    temp_ps['Unique_Values'] = data.nunique()\n",
    "    temp_ps['NaN_Values'] = data.isnull().sum()\n",
    "    temp_ps['NaN_Values_Percentage'] = (temp_ps['NaN_Values']/len(data))*100 \n",
    "    return temp_ps\n",
    "\n",
    "datainfo()"
   ]
  },
  {
   "cell_type": "markdown",
   "metadata": {
    "id": "1THsYsFDQBQr"
   },
   "source": [
    "> d) ¿Por qué la variable _Functioning Day_ no aporta ningún valor al entrenamiento? Grafique, justifique y elimine la columna.\n",
    "\n",
    "ESTA PREGUNTA FUE ELIMINADA SEGUN EL AYUDANTE"
   ]
  },
  {
   "cell_type": "code",
   "execution_count": 10,
   "metadata": {
    "id": "sHMABW7OBjdf"
   },
   "outputs": [
    {
     "data": {
      "image/png": "[encoded data removed]",
      "text/plain": [
       "<Figure size 1080x504 with 1 Axes>"
      ]
     },
     "metadata": {
      "needs_background": "light"
     },
     "output_type": "display_data"
    }
   ],
   "source": [
    "def barplots(x,y,hue):\n",
    "    plt.figure(figsize=(15,7))\n",
    "    sns.set_palette(\"husl\")\n",
    "    sns.barplot(x=x,y=y,hue=hue,data=data);\n",
    "barplots('Hour','Rented Bike Count','Functioning Day')"
   ]
  },
  {
   "cell_type": "code",
   "execution_count": 11,
   "metadata": {
    "id": "KD0t2NqvQoio"
   },
   "outputs": [],
   "source": [
    "#data.drop('Functioning Day', axis=1, inplace=True)"
   ]
  },
  {
   "cell_type": "markdown",
   "metadata": {
    "id": "k1DmRepKxGmC"
   },
   "source": [
    "### 1.1.2 Exploración de Features\n",
    "\n",
    "> a) Revise detalladamente las variables: 'Date', 'Holiday', 'Seasons' y 'Rented Bike Count' del conjunto de datos cuente y grafique su histograma.\n",
    "\n",
    "Una vez analizado lo anterior responda las siguientes preguntas:\n",
    "\n",
    "> b) ¿La gente arrienda más bicicletas en vacaciones o en días de trabajo?\n",
    "\n",
    "> c) ¿Se arriendan más bicicletas los fines de semana o durante la semana?\n",
    "\n",
    "> d) ¿De qué forma afecta el clima al arriendo de bicicletas?\n",
    "\n",
    "Para las preguntas b), c) y d) apóyese de los gráficos.\n",
    "\n",
    "\n"
   ]
  },
  {
   "cell_type": "code",
   "execution_count": 12,
   "metadata": {
    "id": "BN-iZBaFyIxH"
   },
   "outputs": [],
   "source": [
    "#cat_features = data[['Holiday', 'Seasons', 'Rented Bike Count']]\n",
    "#for i in cat_features:\n",
    "#    ax = sns.countplot(x = i, data = data)\n",
    "#    plt.title(i)\n",
    "#    \"\"\"\n",
    "#    Su código aquí\n",
    "#    \"\"\"\n",
    "#    plt.show()\n",
    "\n"
   ]
  },
  {
   "cell_type": "markdown",
   "metadata": {},
   "source": [
    "a) \n",
    "---\n",
    "\n",
    "Para la variable Date, que es continua, sería más apropiado graficar un histograma de frecuencias. Sin embargo, como la variable Date no es categórica ni numérica discreta, sino continua, puede ser más adecuado representarla mediante un gráfico de línea o de puntos que muestre cómo varía el número de bicicletas arrendadas a lo largo del tiempo."
   ]
  },
  {
   "cell_type": "markdown",
   "metadata": {},
   "source": [
    "b)\n",
    "---\n",
    "Si suponemos que los dias de trabajo son los dias 'No Holiday' y los dias de no trabajo son los dias 'Holiday', entonces tenemos que segun el siguiente grafico, la gente arrienda mas bicicletas en los dias de trabajo."
   ]
  },
  {
   "cell_type": "code",
   "execution_count": 13,
   "metadata": {},
   "outputs": [
    {
     "data": {
      "image/png": "[encoded data removed]",
      "text/plain": [
       "<Figure size 432x288 with 1 Axes>"
      ]
     },
     "metadata": {
      "needs_background": "light"
     },
     "output_type": "display_data"
    }
   ],
   "source": [
    "sns.barplot(x='Holiday',y='Rented Bike Count' , data=data , estimator=sum);\n"
   ]
  },
  {
   "cell_type": "code",
   "execution_count": 14,
   "metadata": {},
   "outputs": [
    {
     "data": {
      "text/html": [
       "<div>\n",
       "<style scoped>\n",
       "    .dataframe tbody tr th:only-of-type {\n",
       "        vertical-align: middle;\n",
       "    }\n",
       "\n",
       "    .dataframe tbody tr th {\n",
       "        vertical-align: top;\n",
       "    }\n",
       "\n",
       "    .dataframe thead th {\n",
       "        text-align: right;\n",
       "    }\n",
       "</style>\n",
       "<table border=\"1\" class=\"dataframe\">\n",
       "  <thead>\n",
       "    <tr style=\"text-align: right;\">\n",
       "      <th></th>\n",
       "      <th>Rented Bike Count</th>\n",
       "      <th>Hour</th>\n",
       "      <th>Temperature(°C)</th>\n",
       "      <th>Humidity(%)</th>\n",
       "      <th>Wind speed (m/s)</th>\n",
       "      <th>Visibility (10m)</th>\n",
       "      <th>Dew point temperature(°C)</th>\n",
       "      <th>Solar Radiation (MJ/m2)</th>\n",
       "      <th>Rainfall(mm)</th>\n",
       "      <th>Snowfall (cm)</th>\n",
       "    </tr>\n",
       "    <tr>\n",
       "      <th>Holiday</th>\n",
       "      <th></th>\n",
       "      <th></th>\n",
       "      <th></th>\n",
       "      <th></th>\n",
       "      <th></th>\n",
       "      <th></th>\n",
       "      <th></th>\n",
       "      <th></th>\n",
       "      <th></th>\n",
       "      <th></th>\n",
       "    </tr>\n",
       "  </thead>\n",
       "  <tbody>\n",
       "    <tr>\n",
       "      <th>Holiday</th>\n",
       "      <td>215895</td>\n",
       "      <td>4968</td>\n",
       "      <td>4298.3</td>\n",
       "      <td>23212</td>\n",
       "      <td>790.4</td>\n",
       "      <td>657366</td>\n",
       "      <td>106.2</td>\n",
       "      <td>237.49</td>\n",
       "      <td>33.7</td>\n",
       "      <td>22.0</td>\n",
       "    </tr>\n",
       "    <tr>\n",
       "      <th>No Holiday</th>\n",
       "      <td>5956419</td>\n",
       "      <td>95772</td>\n",
       "      <td>108556.1</td>\n",
       "      <td>486850</td>\n",
       "      <td>14319.8</td>\n",
       "      <td>11929228</td>\n",
       "      <td>35580.4</td>\n",
       "      <td>4747.92</td>\n",
       "      <td>1268.8</td>\n",
       "      <td>635.6</td>\n",
       "    </tr>\n",
       "  </tbody>\n",
       "</table>\n",
       "</div>"
      ],
      "text/plain": [
       "            Rented Bike Count   Hour  Temperature(°C)  Humidity(%)  \\\n",
       "Holiday                                                              \n",
       "Holiday                215895   4968           4298.3        23212   \n",
       "No Holiday            5956419  95772         108556.1       486850   \n",
       "\n",
       "            Wind speed (m/s)  Visibility (10m)  Dew point temperature(°C)  \\\n",
       "Holiday                                                                     \n",
       "Holiday                790.4            657366                      106.2   \n",
       "No Holiday           14319.8          11929228                    35580.4   \n",
       "\n",
       "            Solar Radiation (MJ/m2)  Rainfall(mm)  Snowfall (cm)  \n",
       "Holiday                                                           \n",
       "Holiday                      237.49          33.7           22.0  \n",
       "No Holiday                  4747.92        1268.8          635.6  "
      ]
     },
     "execution_count": 14,
     "metadata": {},
     "output_type": "execute_result"
    }
   ],
   "source": [
    "data.groupby(by=['Holiday']).sum()"
   ]
  },
  {
   "cell_type": "markdown",
   "metadata": {},
   "source": [
    "c)\n",
    "---\n",
    "Los dias de semana son de Lunes a Viernes y los Fin de semana son Sabado y Domingo. Entonces hay que graficar un histograma que compare el arriendo de bicicletas en esos dos rangos de dias:"
   ]
  },
  {
   "cell_type": "code",
   "execution_count": 15,
   "metadata": {
    "id": "AKN9v9mG0qZ5"
   },
   "outputs": [
    {
     "name": "stdout",
     "output_type": "stream",
     "text": [
      "Dia semana:  4506628\n",
      "Fin de semana:  1665686\n"
     ]
    },
    {
     "data": {
      "image/png": "[encoded data removed]",
      "text/plain": [
       "<Figure size 432x288 with 1 Axes>"
      ]
     },
     "metadata": {
      "needs_background": "light"
     },
     "output_type": "display_data"
    }
   ],
   "source": [
    "#ax = sns.barplot(data=data, x='Date', y='Rented Bike Count')\n",
    "\n",
    "def isWeekend(day):\n",
    "    if(day > 4):\n",
    "        return \"Fin de semana\"\n",
    "    return \"Dia semana\"\n",
    "\n",
    "is_wekeend = data[ ['Date', 'Rented Bike Count'] ].copy()\n",
    "is_wekeend['day_of_week'] =  (pd.to_datetime( is_wekeend['Date'], format=\"%d/%m/%Y\" ).dt.dayofweek).apply( lambda x : isWeekend(x) )\n",
    "sns.barplot(data=is_wekeend, x='day_of_week', y='Rented Bike Count', estimator=sum)\n",
    "\n",
    "print(\"Dia semana: \" , is_wekeend[ is_wekeend['day_of_week'] == \"Dia semana\" ]['Rented Bike Count'].sum()    )\n",
    "print(\"Fin de semana: \" , is_wekeend[ is_wekeend['day_of_week'] == \"Fin de semana\" ]['Rented Bike Count'].sum() )\n",
    "\n",
    "\n"
   ]
  },
  {
   "cell_type": "markdown",
   "metadata": {},
   "source": [
    "Segun el grafico anterior la gente arrienda mas bicicletas los dias de semana"
   ]
  },
  {
   "cell_type": "markdown",
   "metadata": {},
   "source": [
    "d)\n",
    "---\n",
    "Segun el siguiente grafico, la gente tiende a arrendar mas bicicletas en las estaciones mas calurosas y a disminuir su arriendo en las estaciones mas frias"
   ]
  },
  {
   "cell_type": "code",
   "execution_count": 16,
   "metadata": {},
   "outputs": [
    {
     "data": {
      "text/plain": [
       "[Text(0, 0, '487169'),\n",
       " Text(0, 0, '1.61191e+06'),\n",
       " Text(0, 0, '2.28323e+06'),\n",
       " Text(0, 0, '1.79e+06')]"
      ]
     },
     "execution_count": 16,
     "metadata": {},
     "output_type": "execute_result"
    },
    {
     "data": {
      "image/png": "[encoded data removed]",
      "text/plain": [
       "<Figure size 432x288 with 1 Axes>"
      ]
     },
     "metadata": {
      "needs_background": "light"
     },
     "output_type": "display_data"
    }
   ],
   "source": [
    "ax = sns.barplot(data=data, x='Seasons', y='Rented Bike Count', estimator=sum)\n",
    "ax.bar_label(ax.containers[0])"
   ]
  },
  {
   "cell_type": "markdown",
   "metadata": {
    "id": "kHhuVI7N0j9t"
   },
   "source": [
    "> e) Grafique el promedio de bicicletas arrendadas por estación ('Seasons').\n",
    "\n",
    "El promedio de bicicletas arrendadas corresponderia a la siguiente visualizacion"
   ]
  },
  {
   "cell_type": "code",
   "execution_count": 17,
   "metadata": {},
   "outputs": [
    {
     "data": {
      "text/plain": [
       "[Text(0, 0, '225.541'),\n",
       " Text(0, 0, '730.031'),\n",
       " Text(0, 0, '1034.07'),\n",
       " Text(0, 0, '819.598')]"
      ]
     },
     "execution_count": 17,
     "metadata": {},
     "output_type": "execute_result"
    },
    {
     "data": {
      "image/png": "[encoded data removed]",
      "text/plain": [
       "<Figure size 432x288 with 1 Axes>"
      ]
     },
     "metadata": {
      "needs_background": "light"
     },
     "output_type": "display_data"
    }
   ],
   "source": [
    "ax = sns.barplot(data=data, x='Seasons', y='Rented Bike Count', estimator='mean')\n",
    "ax.bar_label(ax.containers[0])"
   ]
  },
  {
   "cell_type": "markdown",
   "metadata": {},
   "source": [
    "Responda las siguientes preguntas:\n",
    "\n",
    "> f) ¿Cuáles son las estaciones en las que más se arriendan bicicletas?> g) Transforme la fecha en variables numéricas, es decir, si _Date_ es 01/12/2017, entonces obtenga _Año_=2017, _mes_=12, _día_=1. Agreguelas al dataframe.\n",
    "\n",
    "Las estaciones que mas arriendan bicicletas estan representadas en orden de mayor a menor en el siguiente listado:\n",
    "- [Summer, Autumn, Spring, Winter]\n",
    "\n",
    "Es decir, summer es la estacion con mas arriendos con un total de 2.28323e+06 arriendos"
   ]
  },
  {
   "cell_type": "code",
   "execution_count": 18,
   "metadata": {},
   "outputs": [],
   "source": [
    "data[\"Date\"] = pd.to_datetime(data['Date'], format='%d/%m/%Y')"
   ]
  },
  {
   "cell_type": "markdown",
   "metadata": {},
   "source": [
    "> g) Transforme la fecha en variables numéricas, es decir, si _Date_ es 01/12/2017, entonces obtenga _Año_=2017, _mes_=12, _día_=1. Agreguelas al dataframe."
   ]
  },
  {
   "cell_type": "markdown",
   "metadata": {},
   "source": [
    "La variable date queda descritas de la siguiente forma:"
   ]
  },
  {
   "cell_type": "code",
   "execution_count": 19,
   "metadata": {},
   "outputs": [
    {
     "data": {
      "text/html": [
       "<div>\n",
       "<style scoped>\n",
       "    .dataframe tbody tr th:only-of-type {\n",
       "        vertical-align: middle;\n",
       "    }\n",
       "\n",
       "    .dataframe tbody tr th {\n",
       "        vertical-align: top;\n",
       "    }\n",
       "\n",
       "    .dataframe thead th {\n",
       "        text-align: right;\n",
       "    }\n",
       "</style>\n",
       "<table border=\"1\" class=\"dataframe\">\n",
       "  <thead>\n",
       "    <tr style=\"text-align: right;\">\n",
       "      <th></th>\n",
       "      <th>Dia</th>\n",
       "      <th>Mes</th>\n",
       "      <th>Año</th>\n",
       "      <th>Date</th>\n",
       "    </tr>\n",
       "  </thead>\n",
       "  <tbody>\n",
       "    <tr>\n",
       "      <th>0</th>\n",
       "      <td>4</td>\n",
       "      <td>12</td>\n",
       "      <td>2017</td>\n",
       "      <td>2017-12-01</td>\n",
       "    </tr>\n",
       "    <tr>\n",
       "      <th>1</th>\n",
       "      <td>4</td>\n",
       "      <td>12</td>\n",
       "      <td>2017</td>\n",
       "      <td>2017-12-01</td>\n",
       "    </tr>\n",
       "    <tr>\n",
       "      <th>2</th>\n",
       "      <td>4</td>\n",
       "      <td>12</td>\n",
       "      <td>2017</td>\n",
       "      <td>2017-12-01</td>\n",
       "    </tr>\n",
       "    <tr>\n",
       "      <th>3</th>\n",
       "      <td>4</td>\n",
       "      <td>12</td>\n",
       "      <td>2017</td>\n",
       "      <td>2017-12-01</td>\n",
       "    </tr>\n",
       "    <tr>\n",
       "      <th>4</th>\n",
       "      <td>4</td>\n",
       "      <td>12</td>\n",
       "      <td>2017</td>\n",
       "      <td>2017-12-01</td>\n",
       "    </tr>\n",
       "    <tr>\n",
       "      <th>...</th>\n",
       "      <td>...</td>\n",
       "      <td>...</td>\n",
       "      <td>...</td>\n",
       "      <td>...</td>\n",
       "    </tr>\n",
       "    <tr>\n",
       "      <th>8755</th>\n",
       "      <td>4</td>\n",
       "      <td>11</td>\n",
       "      <td>2018</td>\n",
       "      <td>2018-11-30</td>\n",
       "    </tr>\n",
       "    <tr>\n",
       "      <th>8756</th>\n",
       "      <td>4</td>\n",
       "      <td>11</td>\n",
       "      <td>2018</td>\n",
       "      <td>2018-11-30</td>\n",
       "    </tr>\n",
       "    <tr>\n",
       "      <th>8757</th>\n",
       "      <td>4</td>\n",
       "      <td>11</td>\n",
       "      <td>2018</td>\n",
       "      <td>2018-11-30</td>\n",
       "    </tr>\n",
       "    <tr>\n",
       "      <th>8758</th>\n",
       "      <td>4</td>\n",
       "      <td>11</td>\n",
       "      <td>2018</td>\n",
       "      <td>2018-11-30</td>\n",
       "    </tr>\n",
       "    <tr>\n",
       "      <th>8759</th>\n",
       "      <td>4</td>\n",
       "      <td>11</td>\n",
       "      <td>2018</td>\n",
       "      <td>2018-11-30</td>\n",
       "    </tr>\n",
       "  </tbody>\n",
       "</table>\n",
       "<p>8760 rows × 4 columns</p>\n",
       "</div>"
      ],
      "text/plain": [
       "      Dia  Mes   Año       Date\n",
       "0       4   12  2017 2017-12-01\n",
       "1       4   12  2017 2017-12-01\n",
       "2       4   12  2017 2017-12-01\n",
       "3       4   12  2017 2017-12-01\n",
       "4       4   12  2017 2017-12-01\n",
       "...   ...  ...   ...        ...\n",
       "8755    4   11  2018 2018-11-30\n",
       "8756    4   11  2018 2018-11-30\n",
       "8757    4   11  2018 2018-11-30\n",
       "8758    4   11  2018 2018-11-30\n",
       "8759    4   11  2018 2018-11-30\n",
       "\n",
       "[8760 rows x 4 columns]"
      ]
     },
     "execution_count": 19,
     "metadata": {},
     "output_type": "execute_result"
    }
   ],
   "source": [
    "data['Dia'] = pd.to_datetime(data['Date'], format='%d/%m/%Y').dt.dayofweek\n",
    "data['Mes'] = pd.to_datetime(data['Date'], format='%d/%m/%Y').dt.month\n",
    "data['Año'] = pd.to_datetime(data['Date'], format='%d/%m/%Y').dt.year\n",
    "data[['Dia','Mes','Año','Date']]"
   ]
  },
  {
   "cell_type": "code",
   "execution_count": 20,
   "metadata": {},
   "outputs": [],
   "source": [
    "data.drop('Date', axis=1, inplace=True)"
   ]
  },
  {
   "cell_type": "markdown",
   "metadata": {
    "id": "rootH3kyYMnl"
   },
   "source": [
    "> h) Grafique y analice de forma general la correlación entre las variables **numéricas**. "
   ]
  },
  {
   "cell_type": "code",
   "execution_count": 21,
   "metadata": {
    "id": "IrxKb6LtYU7H"
   },
   "outputs": [
    {
     "data": {
      "text/plain": [
       "<AxesSubplot:>"
      ]
     },
     "execution_count": 21,
     "metadata": {},
     "output_type": "execute_result"
    },
    {
     "data": {
      "image/png": "[encoded data removed]",
      "text/plain": [
       "<Figure size 864x864 with 2 Axes>"
      ]
     },
     "metadata": {
      "needs_background": "light"
     },
     "output_type": "display_data"
    }
   ],
   "source": [
    "data_corr= data.corr()       \n",
    "plt.figure(figsize=(12,12))\n",
    "\n",
    "sns.heatmap(data_corr, cmap='coolwarm', linewidths=0.1, annot=True, linecolor='white')"
   ]
  },
  {
   "cell_type": "markdown",
   "metadata": {
    "id": "2wqTI44jeeuY"
   },
   "source": [
    "> i) Escriba sus conclusiones sobre los resultados encontrados en la correlación en la pregunta h)\n",
    ">\n",
    "> Una de las correlaciones importantes que se pueden notar es la del numero de bicicletas rentadas y la temperatura, hay una cierta correlacion positiva entre esas dos variables, lo cual puede ser util para implementar estrategias en torno a la venta de bicicletas para cuando se pronostican altas temperaturas. \n",
    "> \n",
    "> Otra correlacion es la de Visibility y Humidity, con una correlacion negativa. Esta correlacion se puede explicar debido a fenomenos naturales, como la neblina que al fin y al cabo son particulas de agua que estan en el aire (Alta humedad), lo que obstaculizan la vista (Poca visibilidad). Sin embargo, la visibilidad al parecer tiene poco impacto en lo que es el arriendo de bicicletas."
   ]
  },
  {
   "cell_type": "markdown",
   "metadata": {
    "id": "meYTfx4TZkXb"
   },
   "source": [
    "### 1.1.3 Separación de conjuntos"
   ]
  },
  {
   "cell_type": "markdown",
   "metadata": {
    "id": "g06GKfmsZwAq"
   },
   "source": [
    "> a) Divida el dataset en features _X_ y target _y_, además divida el dataset en un subconjunto de entrenamiento y otro de prueba."
   ]
  },
  {
   "cell_type": "code",
   "execution_count": 22,
   "metadata": {
    "id": "VQOD1Q7paNHL"
   },
   "outputs": [],
   "source": [
    "X=data.drop('Rented Bike Count',axis=1)\n",
    "y=data['Rented Bike Count']"
   ]
  },
  {
   "cell_type": "code",
   "execution_count": 23,
   "metadata": {
    "id": "bIlvlHlA1dRH"
   },
   "outputs": [],
   "source": [
    "X_train, X_test, y_train, y_test = train_test_split(X, y, test_size=0.1)"
   ]
  },
  {
   "cell_type": "markdown",
   "metadata": {
    "id": "gjw_L6wh9NBw"
   },
   "source": [
    "> a) ¿Para qué es el parámetro stratify?\n",
    ">\n",
    ">  es para que el conjunto de entrenamiento como el conjunto de prueba tengan una proporción similar de observaciones en cada clase.\n",
    ">  por ejemplo, si la variable y es una variable categórica binaria con valores 0 y 1 y hay un 25% de ceros y un 75% de unos, stratify=y se asegurará de que su división aleatoria tenga un 25% de ceros y un 75% de unos."
   ]
  },
  {
   "cell_type": "markdown",
   "metadata": {
    "id": "rSOWDLcXWLH4"
   },
   "source": [
    "> b) Aplique Label Encoding a las variables _Seasons_ y _Holiday_ en el conjunto de entrenamiento y responda para qué sirve y como se usa."
   ]
  },
  {
   "cell_type": "code",
   "execution_count": 24,
   "metadata": {
    "id": "iUw2q8W5WHTH"
   },
   "outputs": [],
   "source": [
    "#Se definen las variables categóricas\n",
    "cat_vars = [\"Seasons\", \"Holiday\", \"Functioning Day\"]\n",
    "\n",
    "#Se crea un LabelEncoder para cada variable\n",
    "#Luego se aplica fit_transform a cada conjunto de entrenamiento\n",
    "le = {}\n",
    "for cat in cat_vars:\n",
    "    le[cat] = preprocessing.LabelEncoder()\n",
    "    X_train[cat] = le[cat].fit_transform(X_train[cat])"
   ]
  },
  {
   "cell_type": "code",
   "execution_count": 25,
   "metadata": {},
   "outputs": [
    {
     "data": {
      "text/plain": [
       "7085    0\n",
       "562     3\n",
       "1656    3\n",
       "8527    0\n",
       "3241    1\n",
       "       ..\n",
       "7455    0\n",
       "5246    2\n",
       "7239    0\n",
       "8272    0\n",
       "7835    0\n",
       "Name: Seasons, Length: 7884, dtype: int32"
      ]
     },
     "execution_count": 25,
     "metadata": {},
     "output_type": "execute_result"
    }
   ],
   "source": [
    "X_train[\"Seasons\"] "
   ]
  },
  {
   "cell_type": "markdown",
   "metadata": {},
   "source": [
    "Label encoder asigna un numero a cada categoria. Esto sirve para los algoritmos de aprendizaje automático que generalmente requieren que las entradas sean numéricas. Para utilizarlo primero se importa la libreria preprocessing, luego se instancia el objeto LabelEncoder() y luego se utiliza fit_transform(columna) en la varibale que queremos transformar. Es importante tener en cuenta que el Label Encoding solo es adecuado para variables categóricas sin orden específico."
   ]
  },
  {
   "cell_type": "markdown",
   "metadata": {
    "id": "qvvSWpj59jwR"
   },
   "source": [
    "> c) Aplique la transformación aprendida por el Label Encoder al conjunto de prueba."
   ]
  },
  {
   "cell_type": "code",
   "execution_count": 26,
   "metadata": {},
   "outputs": [
    {
     "name": "stdout",
     "output_type": "stream",
     "text": [
      "['Summer' 'Winter' 'Spring' 'Autumn']\n",
      "[0 3 1 2]\n"
     ]
    }
   ],
   "source": [
    "print( X_test[\"Seasons\"].unique() )\n",
    "print( X_train[\"Seasons\"].unique() )"
   ]
  },
  {
   "cell_type": "code",
   "execution_count": 27,
   "metadata": {
    "id": "fZ3FKsTCKWk9"
   },
   "outputs": [],
   "source": [
    "#Se aplica transform sobre cada conjunto de prueba\n",
    "for cat in cat_vars:\n",
    "    X_test[cat] = le[cat].transform(X_test[cat])"
   ]
  },
  {
   "cell_type": "code",
   "execution_count": 28,
   "metadata": {},
   "outputs": [
    {
     "data": {
      "text/plain": [
       "4754    2\n",
       "550     3\n",
       "1614    3\n",
       "2300    1\n",
       "5550    2\n",
       "       ..\n",
       "4030    1\n",
       "4500    2\n",
       "8092    0\n",
       "4054    1\n",
       "5143    2\n",
       "Name: Seasons, Length: 876, dtype: int32"
      ]
     },
     "execution_count": 28,
     "metadata": {},
     "output_type": "execute_result"
    }
   ],
   "source": [
    "X_test[\"Seasons\"] "
   ]
  },
  {
   "cell_type": "markdown",
   "metadata": {
    "id": "susLNAFn9zBw"
   },
   "source": [
    "> d) ¿Por qué no se aplica la transformación del Label Encoder directamente sobre el conjunto de datos completo?"
   ]
  },
  {
   "cell_type": "markdown",
   "metadata": {},
   "source": [
    "Porque label encoder sirve para variables categoricas sin orden y el conjunto de datos contiene distintos tipos de variables, lo cual no seria practico."
   ]
  },
  {
   "cell_type": "markdown",
   "metadata": {
    "id": "tAi_kFUa5RWh"
   },
   "source": [
    "## 1.2 Modelos de Regresión"
   ]
  },
  {
   "cell_type": "markdown",
   "metadata": {
    "id": "MCKBHS4B6ZfT"
   },
   "source": [
    "Primero entrenaremos un regresor lineal con los datos _en bruto_, ya que básicamente se transformaron las variables _Date_, _Seasons_ y _Holiday_ tal que todos los datos se puedan procesar por el regresor."
   ]
  },
  {
   "cell_type": "markdown",
   "metadata": {
    "id": "WehFicHT_do_"
   },
   "source": [
    "### 1.2.1 Modelo en bruto"
   ]
  },
  {
   "cell_type": "markdown",
   "metadata": {
    "id": "hY7LByBqDw2C"
   },
   "source": [
    "> a) Utilice LinearRegression para entrenar el regresor y posteriormente obtener predicciones utilizando el testset."
   ]
  },
  {
   "cell_type": "code",
   "execution_count": 29,
   "metadata": {
    "id": "se8UjYIuD4Sh"
   },
   "outputs": [],
   "source": [
    "reg = LinearRegression().fit(X_train, y_train)"
   ]
  },
  {
   "cell_type": "markdown",
   "metadata": {
    "id": "h6Mb_OjkyU6h"
   },
   "source": [
    "> b) Obtenga el error cuadrático medio de la predicción sobre los datos del conjunto *X_test*"
   ]
  },
  {
   "cell_type": "code",
   "execution_count": 30,
   "metadata": {
    "id": "F1mUfVDdLLb4"
   },
   "outputs": [
    {
     "data": {
      "text/plain": [
       "177093.72233257338"
      ]
     },
     "execution_count": 30,
     "metadata": {},
     "output_type": "execute_result"
    }
   ],
   "source": [
    "y_pred = reg.predict(X_test)\n",
    "mean_squared_error(y_test, y_pred)"
   ]
  },
  {
   "cell_type": "markdown",
   "metadata": {
    "id": "aHANfCdoyxUW"
   },
   "source": [
    "> c) Grafique los resultados de la predicción (y_pred) versus los target de la prueba (y_test)"
   ]
  },
  {
   "cell_type": "code",
   "execution_count": 31,
   "metadata": {
    "id": "REjrBtlbywtI"
   },
   "outputs": [
    {
     "data": {
      "image/png": "[encoded data removed]",
      "text/plain": [
       "<Figure size 432x288 with 1 Axes>"
      ]
     },
     "metadata": {
      "needs_background": "light"
     },
     "output_type": "display_data"
    }
   ],
   "source": [
    "plt.scatter(y_test, y_pred)\n",
    "\n",
    "plt.xlabel('Test')\n",
    "plt.ylabel('Prediction')\n",
    "plt.title('Test vs Prediction')\n",
    "\n",
    "plt.show()"
   ]
  },
  {
   "cell_type": "markdown",
   "metadata": {
    "id": "_eCbIBCuCPkK"
   },
   "source": [
    "### 1.2.2 Modelo preprocesado"
   ]
  },
  {
   "cell_type": "markdown",
   "metadata": {
    "id": "qlrJqqF1Ggv5"
   },
   "source": [
    "Variables cíclicas\n",
    "\n",
    "Si aplicaramos variables _Dummy_ o transformar con _One Hot Encoder_ a la fecha terminaríamos con 12 columnas para los meses, 7 columnas para los días de la semana y 24 columnas para la hora! En lugar de eso nos aprovecharemos de que todas estas variables son cíclicas, es decir, después de 23:00 hrs viene 00:00 hrs y el ciclo se vuelve a repetir, lo mismo para los meses del año y los días de la semana. Entonces podemos pensar en este ciclo como si fuera un _circulo_ utilizando el seno y el coseno de la fecha tenemos las coordenada de la fecha en el _circulo_. De esta forma las 23:00 y las 00:00 son cercanas en esta representación. Gracias a lo anterior nos quedamos con solo 2 columnas.\n",
    "\n",
    "$\\text{var_cos} = \\cos(2π\\; \\text{var}/\\text{periodo})$\n",
    "\n",
    "$\\text{var_sin} = \\sin(2π\\; \\text{var}/\\text{periodo})$\n",
    "\n",
    "> a) ¿Por qué no simplemente usar solo el seno o solo el coseno?\n",
    "\n",
    "En las funciones de seno y coseno, se tiene un ciclo en el cual todos los valores entre $x=\\theta$ y $x=\\theta+2π$ son los mismos. utilizar solo el seno y el coseno causa que no se utilice el ciclo y las distancias obtenidas entre cada variable serían incorrectas."
   ]
  },
  {
   "cell_type": "code",
   "execution_count": 32,
   "metadata": {
    "id": "34gOfsesG_bi"
   },
   "outputs": [],
   "source": [
    "X_train['hour_sin'] = np.sin(2 * np.pi * X_train['Hour'] / 24)\n",
    "X_train['hour_cos'] = np.sin(2 * np.pi * X_train['Hour'] / 24)\n",
    "X_train['weekday_sin'] = np.sin(2 * np.pi * X_train['Dia'] / 7)\n",
    "X_train['weekday_cos'] = np.cos(2 * np.pi * X_train['Dia'] / 7)\n",
    "X_train['month_sin'] = np.sin(2 * np.pi * X_train['Mes'] / 12)\n",
    "X_train['month_cos'] = np.cos(2 * np.pi * X_train['Mes'] / 12)\n",
    "\n",
    "X_test['hour_sin'] = np.sin(2 * np.pi * X_test['Hour'] / 24)\n",
    "X_test['hour_cos'] = np.sin(2 * np.pi * X_test['Hour'] / 24)\n",
    "X_test['weekday_sin'] = np.sin(2 * np.pi * X_test['Dia'] / 7)\n",
    "X_test['weekday_cos'] = np.cos(2 * np.pi * X_test['Dia'] / 7)\n",
    "X_test['month_sin'] = np.sin(2 * np.pi * X_test['Mes'] / 12)\n",
    "X_test['month_cos'] = np.cos(2 * np.pi * X_test['Mes'] / 12)\n",
    "\n",
    "X_train.drop(['Dia', 'Mes', 'Hour'], axis=1, inplace=True)\n",
    "X_test.drop(['Dia', 'Mes', 'Hour'], axis=1, inplace=True)"
   ]
  },
  {
   "cell_type": "markdown",
   "metadata": {
    "id": "Lu16autsXW4F"
   },
   "source": [
    "Estación\n",
    "\n",
    "> b) Aplique la misma lógica de variable _cíclica_ a la variable _Season_."
   ]
  },
  {
   "cell_type": "code",
   "execution_count": 33,
   "metadata": {
    "id": "FLgmspozXS4P"
   },
   "outputs": [],
   "source": [
    "X_train['Sin_Season'] = np.sin(2 * np.pi * X_train['Seasons'] / 4) \n",
    "X_train['Cos_Season'] = np.cos(2 * np.pi * X_train['Seasons'] / 4)\n",
    "X_train.drop('Seasons', axis=1, inplace=True)"
   ]
  },
  {
   "cell_type": "code",
   "execution_count": 34,
   "metadata": {
    "id": "Bc2R0j-4SVgV"
   },
   "outputs": [],
   "source": [
    "X_test['Sin_Season'] = np.sin(2 * np.pi * X_test['Seasons'] / 4) \n",
    "X_test['Cos_Season'] = np.cos(2 * np.pi * X_test['Seasons'] / 4)\n",
    "X_test.drop('Seasons', axis=1, inplace=True)"
   ]
  },
  {
   "cell_type": "markdown",
   "metadata": {
    "id": "Xq2dyE2XYExy"
   },
   "source": [
    "Normalización de variables.\n",
    "\n",
    "> c) Transforme las variables para que estas sigan una distribución normal con media 0 y varianza 1.\n",
    "\n"
   ]
  },
  {
   "cell_type": "code",
   "execution_count": 35,
   "metadata": {
    "id": "KclpuXuMU9mL"
   },
   "outputs": [],
   "source": [
    "X_scaler = preprocessing.StandardScaler()\n",
    "y_scaler = preprocessing.StandardScaler()\n",
    "\n",
    "\n",
    "cols_to_normalize = ['Temperature(°C)', \n",
    "                     'Humidity(%)', \n",
    "                     'Wind speed (m/s)', \n",
    "                     'Visibility (10m)', \n",
    "                     'Dew point temperature(°C)', \n",
    "                     'Solar Radiation (MJ/m2)',\n",
    "                     'Rainfall(mm)',\n",
    "                     'Snowfall (cm)',\n",
    "                     'Año']\n",
    "\n",
    "X_train[cols_to_normalize] = X_scaler.fit_transform(X_train[cols_to_normalize])\n",
    "y_train = y_scaler.fit_transform(np.array(y_train).reshape(-1, 1))\n",
    "\n",
    "X_test[cols_to_normalize] = X_scaler.transform(X_test[cols_to_normalize])"
   ]
  },
  {
   "cell_type": "markdown",
   "metadata": {
    "id": "tmtA_D3WBWnU"
   },
   "source": [
    "> d) Utilice LinearRegression para entrenar el regresor y posteriormente obtener predicciones utilizando el testset."
   ]
  },
  {
   "cell_type": "code",
   "execution_count": 36,
   "metadata": {
    "id": "av26_PMxBFea"
   },
   "outputs": [],
   "source": [
    "reg = LinearRegression().fit(X_train, y_train)"
   ]
  },
  {
   "cell_type": "markdown",
   "metadata": {
    "id": "GSMYcJftCxO3"
   },
   "source": [
    "> e) Obtenga la predicción del regresor ya entrenado sobre el conjunto de prueba, aplicando la transformación inversa para _volver a la escala original_ de bicicletas."
   ]
  },
  {
   "cell_type": "code",
   "execution_count": 37,
   "metadata": {
    "id": "ytHAjHNcBpKR"
   },
   "outputs": [],
   "source": [
    "y_pred = reg.predict(X_test)\n",
    "\n",
    "y_pred = y_scaler.inverse_transform(y_pred)"
   ]
  },
  {
   "cell_type": "markdown",
   "metadata": {
    "id": "Npa8kFv3OOAI"
   },
   "source": [
    "> f) Calcule el error cuadrático medio en la escala original de bicicletas"
   ]
  },
  {
   "cell_type": "code",
   "execution_count": 38,
   "metadata": {
    "id": "CCbijFJzOMUu"
   },
   "outputs": [
    {
     "data": {
      "text/plain": [
       "178156.98096589968"
      ]
     },
     "execution_count": 38,
     "metadata": {},
     "output_type": "execute_result"
    }
   ],
   "source": [
    "mean_squared_error(y_test, y_pred)"
   ]
  },
  {
   "cell_type": "markdown",
   "metadata": {
    "id": "FX70Cn26CmaE"
   },
   "source": [
    "> g) ¿Mejoran los resultados con respecto al modelo entrenado sobre los datos en bruto?\n",
    "\n",
    "> h) Grafique los resultados de la predicción (y_pred) versus los target de la prueba (y_test)"
   ]
  },
  {
   "cell_type": "code",
   "execution_count": 39,
   "metadata": {
    "id": "zbhcGM-nDYiP"
   },
   "outputs": [
    {
     "data": {
      "image/png": "[encoded data removed]",
      "text/plain": [
       "<Figure size 432x288 with 1 Axes>"
      ]
     },
     "metadata": {
      "needs_background": "light"
     },
     "output_type": "display_data"
    }
   ],
   "source": [
    "plt.scatter(y_test, y_pred)\n",
    "\n",
    "plt.axis('equal')\n",
    "\n",
    "plt.xlabel('Test')\n",
    "plt.ylabel('Prediction')\n",
    "plt.title('Test vs Prediction')\n",
    "\n",
    "plt.show()"
   ]
  },
  {
   "cell_type": "markdown",
   "metadata": {
    "id": "HOEgddXyDft9"
   },
   "source": [
    "### 1.2.3 Modelo SGD"
   ]
  },
  {
   "cell_type": "markdown",
   "metadata": {
    "id": "kJ6O1hIgDjfg"
   },
   "source": [
    "En esta pregunta aplicaremos el modelo de regresión lineal utilizando el gradiente descendente estocástico (SGD), y para visualizar su rendimiento observaremos el error cuadrático medio a medida que el algoritmo SGD va iterando a través de las _epochs_. Para ello necesitamos separar una porción del conjunto de entrenamiento y así obtener el error de validación del modelo en ejemplos que no ha visto."
   ]
  },
  {
   "cell_type": "markdown",
   "metadata": {
    "id": "_Tbb4nm86cv2"
   },
   "source": [
    "> a) Separe el conjunto de entrenamiento en un subconjunto de entrenamiento y uno de validación."
   ]
  },
  {
   "cell_type": "code",
   "execution_count": 40,
   "metadata": {
    "id": "K1ZY46sgYBMN"
   },
   "outputs": [],
   "source": [
    "X_tr, X_val, y_tr, y_val = train_test_split(X_train, y_train, test_size=0.25)"
   ]
  },
  {
   "cell_type": "markdown",
   "metadata": {
    "id": "rzLZfYdR7sOM"
   },
   "source": [
    "Utilize la librería _sklearn_ para entrenar el modelo a través _SGDRegressor_ y responda las siguientes preguntas:\n",
    "\n",
    "> b) ¿Para qué sirve cada uno de los parametros que acepta _SGDRegressor_? Describa brevemente cada uno.\n",
    "\n",
    "- **loss:** Función de pérdida utilizada por el regresor.\n",
    "- **penalty:** Método de regularización (Ridge, Lasso, Elasticnet)\n",
    "- **alpha:** Constante que multiplica el método de regularización. También se utiliza para el learning rate _optimal_\n",
    "- **l1_ratio:** Constante utilizada en la regularización Elasticnet.\n",
    "- **fit_intercept:** Un bool que indica si el intercepto también debe ser estimado o si los datos ya están centrados.\n",
    "- **max_iter:** Número máximo de epochs.\n",
    "- **tol:** El criterio para el cual se detendrá la regresión con early stopping.\n",
    "- **shuffle:** Un bool que indica si los datos se mezclarán en cada epoch.\n",
    "- **verbose:** EL nivel de verbosidad de la información.\n",
    "- **epsilon:** Constante utilizada para la función de pérdida _huber_\n",
    "- **random_state:** Utilizado para la mezcla de datos en caso de que shuffle sea True.\n",
    "- **learning_rate:** Función de learning rate.\n",
    "- **eta0:** Constante utilizada para el cálculo de algunas funciones del learning rate.\n",
    "- **power_t:** Constante utilizada para el cálculo de la función _invscaling_ del learning rate.\n",
    "- **early_stopping:** Un bool que indica si se detendrá el regresor en caso de que el puntaje de validación entregado no mejore en cierta cantidad determinada luego de un número de epochs.\n",
    "- **validation_fraction:** \n",
    "- **n_iter_no_change:** Número de epochs para el cual se hará el early stopping.\n",
    "- **warm_start:** Un bool que indica si se utiliza el output anterior para realizar \n",
    "- **average:** Calcula promedios de peso de SGD desde cierto punto.\n",
    "\n",
    "> c) Explique cuál es la función del parámetro alpha y compare, teóricamente, las variaciones de implementación del parámetro disponibles en el módulo, es decir, compare: _constant_ vs _optimal_ vs _invscaling_ vs _adaptive_.\n",
    "\n",
    "El alpha multiplica al método de regularización, controlando la fuerza con la que se realiza la regularización.\n",
    "\n",
    "Las variaciones del parámetro en el módulo son:\n",
    "\n",
    "- **constant:** $eta = eta0$\n",
    "- **optimal:** $eta = \\frac{1.0}{alpha*(t+t0)}$\n",
    "- **invscaling:** $eta = \\frac{eta0}{t^{power\\_t}}$\n",
    "- **adaptive:** $eta = eta0$ mientras el error de entrenamiento se reduzca. Si no se logra reducir en cierta cantidad en un número determinado de epochs, se divide el learning rate en 5.\n",
    "\n",
    "(Hacer comparación decente)"
   ]
  },
  {
   "cell_type": "code",
   "execution_count": 41,
   "metadata": {
    "id": "rQsOzYwFFvAT"
   },
   "outputs": [],
   "source": [
    "reg = SGDRegressor(loss='squared_error', \n",
    "                   penalty=None,      \n",
    "                   max_iter = 100,\n",
    "                   tol=0.001, \n",
    "                   shuffle=True,       \n",
    "                   n_iter_no_change=10,\n",
    "                   warm_start=True)"
   ]
  },
  {
   "cell_type": "markdown",
   "metadata": {
    "id": "XAdSvmSeANcK"
   },
   "source": [
    "Entrene el regresor SGD por 100 _epochs_ como máximo, utilizando *early_stopping* con un a paciencia de 10 _epochs_. Grafique el error cuadrático medio por epoca y responda las siguientes preguntas:"
   ]
  },
  {
   "cell_type": "code",
   "execution_count": 42,
   "metadata": {
    "colab": {
     "base_uri": "https://localhost:8080/"
    },
    "id": "91VOi7s8LA3t",
    "outputId": "a9ceb7b5-58a2-47af-93e9-40c061e7ce35"
   },
   "outputs": [
    {
     "name": "stdout",
     "output_type": "stream",
     "text": [
      "Stopping training after 74 epochs\n"
     ]
    }
   ],
   "source": [
    "y_tr = np.asarray(y_tr).ravel()\n",
    "y_test = np.asarray(y_test).ravel()\n",
    "\n",
    "tr_errors, val_errors = [], []\n",
    "\n",
    "# train the model using early stopping\n",
    "n_epochs = 100\n",
    "best_val_error = float('inf')\n",
    "patience = 10  # stop tring if validation error doesn't improve after 10 epochs\n",
    "epoch_since_best = 0\n",
    "for epoch in range(n_epochs):\n",
    "    \n",
    "    reg.partial_fit(X_tr, y_tr)\n",
    "    \n",
    "    # collect the train and validation errors after each epoch\n",
    "    y_tr_pred = reg.predict(X_tr)\n",
    "    y_val_pred = reg.predict(X_val)\n",
    "    tr_error = mean_squared_error(y_tr, y_tr_pred)\n",
    "    val_error = mean_squared_error(y_val, y_val_pred)\n",
    "    tr_errors.append(tr_error)\n",
    "    val_errors.append(val_error)\n",
    "    \n",
    "    # check if validation error has improved\n",
    "    if val_error < best_val_error:\n",
    "        best_val_error = val_error\n",
    "        epoch_since_best = 0\n",
    "    else:\n",
    "        epoch_since_best += 1\n",
    "        if epoch_since_best >= patience:\n",
    "            print(f\"Stopping training after {epoch+1} epochs\")\n",
    "            break    "
   ]
  },
  {
   "cell_type": "code",
   "execution_count": 43,
   "metadata": {
    "id": "iH4VXigCOd75"
   },
   "outputs": [
    {
     "data": {
      "image/png": "[encoded data removed]",
      "text/plain": [
       "<Figure size 432x288 with 1 Axes>"
      ]
     },
     "metadata": {
      "needs_background": "light"
     },
     "output_type": "display_data"
    }
   ],
   "source": [
    "plt.plot(tr_errors, label='train error')\n",
    "plt.plot(val_errors, label='validation error')\n",
    "plt.legend()\n",
    "plt.show()"
   ]
  },
  {
   "cell_type": "markdown",
   "metadata": {},
   "source": [
    "> d) ¿Para qué sirve el *early_stoping*?\n",
    "\n",
    "Sirve para detener la regresión en caso de que no haya una mejora apreciable en un determinado número de iteraciones, con tal de no hacer la regresión muchas más veces de lo necesario.\n",
    "\n",
    "> e) ¿Cómo se interpretan los resultados del entrenamiento según las curvas obtenidas?\n",
    "\n",
    "(Cambia cada vez que se ejecuta el código, la diferencia entre el error de entrenamiento y de validación puede cambiar bastante)\n",
    "\n",
    "> f) ¿Cuántas _epochs_ duró su entrenamiento?\n",
    "\n",
    "El entrenamiento duró [X] epochs. (Cambia cada vez que se ejecuta el código)"
   ]
  },
  {
   "cell_type": "markdown",
   "metadata": {
    "id": "gSlESNsjFI3a"
   },
   "source": [
    "> g) Obtenga la predicción del regresor ya entrenado sobre el conjunto de prueba, aplicando la transformación inversa para _volver a la escala original_ de bicicletas."
   ]
  },
  {
   "cell_type": "code",
   "execution_count": 44,
   "metadata": {
    "id": "5YER8G3EI8uK"
   },
   "outputs": [
    {
     "data": {
      "text/plain": [
       "'\\nSu código aquí\\n'"
      ]
     },
     "execution_count": 44,
     "metadata": {},
     "output_type": "execute_result"
    }
   ],
   "source": [
    "y_pred = reg.predict(X_test)\n",
    "\n",
    "y_pred = y_scaler.inverse_transform(y_pred.reshape(-1,1))\n",
    "\n",
    "\"\"\"\n",
    "Su código aquí\n",
    "\"\"\""
   ]
  },
  {
   "cell_type": "markdown",
   "metadata": {
    "id": "y_DaYKo7SE9v"
   },
   "source": [
    "> h) Calcule el error cuadrático medio en la escala original de bicicletas"
   ]
  },
  {
   "cell_type": "code",
   "execution_count": 45,
   "metadata": {
    "id": "Z2D6yXCORWrB"
   },
   "outputs": [
    {
     "data": {
      "text/plain": [
       "177607.20779307952"
      ]
     },
     "execution_count": 45,
     "metadata": {},
     "output_type": "execute_result"
    }
   ],
   "source": [
    "mean_squared_error(y_test, y_pred)"
   ]
  },
  {
   "cell_type": "markdown",
   "metadata": {
    "id": "uS21beTzST-k"
   },
   "source": [
    "> i) ¿Mejoran los resultados con respecto al modelo anterior?\n",
    "\n",
    "> j) Grafique los resultados de la predicción (y_pred) versus los target de la prueba (y_test)"
   ]
  },
  {
   "cell_type": "code",
   "execution_count": 46,
   "metadata": {
    "id": "lni-dzFsasoO"
   },
   "outputs": [
    {
     "data": {
      "image/png": "[encoded data removed]",
      "text/plain": [
       "<Figure size 432x288 with 1 Axes>"
      ]
     },
     "metadata": {
      "needs_background": "light"
     },
     "output_type": "display_data"
    }
   ],
   "source": [
    "plt.scatter(y_test, y_pred)\n",
    "\n",
    "plt.axis('equal')\n",
    "\n",
    "plt.xlabel('Test')\n",
    "plt.ylabel('Prediction')\n",
    "plt.title('Test vs Prediction')\n",
    "\n",
    "plt.show()"
   ]
  },
  {
   "cell_type": "markdown",
   "metadata": {
    "id": "yJCL43JRfk4J"
   },
   "source": [
    "## 1.3 Modelo con Regularización"
   ]
  },
  {
   "cell_type": "markdown",
   "metadata": {
    "id": "eoQTe0vNHmrK"
   },
   "source": [
    "### 1.3.1 Regularización Ridge y Lasso"
   ]
  },
  {
   "cell_type": "markdown",
   "metadata": {
    "id": "6MWQDDF-Hyzk"
   },
   "source": [
    "Agregue regularización Ridge al modelo SGD y entrénelo por 100 _epochs_ como máximo, utilizando early_stoping con un a paciencia de 10 _epochs_. Grafique el error cuadrático medio por _epoch_ y responda las siguientes preguntas:\n",
    "\n",
    "> a) ¿Qué son los llamados _hiperparámetros_ de un modelo y como se relacionan con el concepto de _hyper tuning_?\n",
    "\n",
    "Un hiperparámetro es un parámetro utilizado para controlar el proceso de aprendizaje, los cuales deben ser dados al modelo de forma manual. El proceso de hyper tuning es el proceso en que se buscan los valores de hiperparámetros que otorguen los mejores resultados.\n",
    "\n",
    "> b) ¿Cuál es la motivación de agregar una penalización al modelo?\n",
    "\n",
    "La penalización sirve para desincentivar modelos que se sobreajusten a los datos de prueba, reduciendo el riesgo de overfitting.\n",
    "\n",
    "> c) ¿De qué se compone la penalización mediante regularización Ridge?\n",
    "\n",
    "La penalización corresponde al la suma al cuadrado de los coeficientes $\\beta$ del modelo, multiplicados por el coeficiente de regularización $\\lambda$\n",
    "\n",
    "> d) ¿Cómo funciona la regularización Lasso?\n",
    "\n",
    "La regularización Lasso tiene una función de pérdida igual a la diferencia cuadrada del valor real y los coeficientes $\\beta$, con una penalización igual al valor absoluto de la suma de los coeficientes $\\beta$ multiplicado por el coeficiente de regularización $\\lambda$.\n",
    "\n",
    "> e) ¿Cuáles son las ventajas y desventajas de usar regularización Ridge versus Lasso?\n",
    "\n",
    "**Ventajas:**\n",
    "- Utiliza todas las características sin deshacerse de ninguna, lo que puede ser útil en modelos en que no hay demasiadas características sin utilidad.\n",
    "\n",
    "**Desventajas:**\n",
    "- Lasso puede ser utilizado en selección de características, ya que puede hacer que ciertos coeficientes se vuelvan cero. Al no poder deshacerse de ninguna característica, Ridge puede verse perjudicado en modelos con muchas características inútiles.\n",
    "\n",
    "> f) Utilizando GridSearchCV optimize el hiperparámetro _learning rate_ para los valores 0.1, 0.01, 0.001.\n",
    "\n",
    "> g) Pruebe con distintos tipos de _learning rate_ 'constant', 'optimal', 'invscaling'.\n",
    "\n",
    "> h) Optimize también los hiperparámetros de coeficiente de regularización de l2 y l1 para los valores 0.0001, 0.001, 0.01.\n",
    "\n",
    "\n",
    "\n",
    "> **Nota:** Investigue y lea la documentación de SGDRegressor, de KFold y de GridSearchCV antes de modificar y ejecutar el código, recuerde que el código presentado en el notebook es solo una guía de referencia y no necesariamente funciona, usted puede modificar su propio código y explicar su funcionamiento."
   ]
  },
  {
   "cell_type": "code",
   "execution_count": 47,
   "metadata": {
    "id": "rUBYCI0jL6Tz"
   },
   "outputs": [],
   "source": [
    "k=5\n",
    "cv_folds=KFold(n_splits=k, shuffle=True)"
   ]
  },
  {
   "cell_type": "code",
   "execution_count": 48,
   "metadata": {
    "id": "4imROnlXdZhJ"
   },
   "outputs": [],
   "source": [
    "reg = SGDRegressor(loss='squared_error', \n",
    "                   penalty='l2', # regularization therm\n",
    "                   alpha=0.0001, # regularization coeficient\n",
    "                   max_iter=100, #epochs\n",
    "                   tol=0.001, \n",
    "                   shuffle=True,                                       \n",
    "                   learning_rate='invscaling', # type of lr\n",
    "                   eta0=0.01,    # learning rate coeficient\n",
    "                   power_t=0.25                   \n",
    "                   )"
   ]
  },
  {
   "cell_type": "code",
   "execution_count": 49,
   "metadata": {
    "id": "L_nzYGAWZGWV"
   },
   "outputs": [],
   "source": [
    "param_grid = {'eta0': [0.1, 0.01, 0.001], \n",
    "              'penalty': ['l2', 'l1'],\n",
    "              'alpha': [0.0001, 0.001, 0.01],                \n",
    "              'learning_rate': ['constant', 'optimal', 'invscaling']}\n",
    "\n",
    "hypereg = GridSearchCV(reg, \n",
    "             param_grid, \n",
    "             scoring='neg_mean_squared_error',               \n",
    "             refit=True, \n",
    "             cv=cv_folds, \n",
    "             verbose=0, \n",
    "            )"
   ]
  },
  {
   "cell_type": "code",
   "execution_count": 50,
   "metadata": {
    "id": "ddSWyyWGgb79"
   },
   "outputs": [
    {
     "name": "stderr",
     "output_type": "stream",
     "text": [
      "C:\\Users\\faspe\\miniconda3\\lib\\site-packages\\sklearn\\linear_model\\_stochastic_gradient.py:1503: ConvergenceWarning: Maximum number of iteration reached before convergence. Consider increasing max_iter to improve the fit.\n",
      "  warnings.warn(\n",
      "C:\\Users\\faspe\\miniconda3\\lib\\site-packages\\sklearn\\linear_model\\_stochastic_gradient.py:1503: ConvergenceWarning: Maximum number of iteration reached before convergence. Consider increasing max_iter to improve the fit.\n",
      "  warnings.warn(\n",
      "C:\\Users\\faspe\\miniconda3\\lib\\site-packages\\sklearn\\linear_model\\_stochastic_gradient.py:1503: ConvergenceWarning: Maximum number of iteration reached before convergence. Consider increasing max_iter to improve the fit.\n",
      "  warnings.warn(\n",
      "C:\\Users\\faspe\\miniconda3\\lib\\site-packages\\sklearn\\linear_model\\_stochastic_gradient.py:1503: ConvergenceWarning: Maximum number of iteration reached before convergence. Consider increasing max_iter to improve the fit.\n",
      "  warnings.warn(\n",
      "C:\\Users\\faspe\\miniconda3\\lib\\site-packages\\sklearn\\linear_model\\_stochastic_gradient.py:1503: ConvergenceWarning: Maximum number of iteration reached before convergence. Consider increasing max_iter to improve the fit.\n",
      "  warnings.warn(\n",
      "C:\\Users\\faspe\\miniconda3\\lib\\site-packages\\sklearn\\linear_model\\_stochastic_gradient.py:1503: ConvergenceWarning: Maximum number of iteration reached before convergence. Consider increasing max_iter to improve the fit.\n",
      "  warnings.warn(\n",
      "C:\\Users\\faspe\\miniconda3\\lib\\site-packages\\sklearn\\linear_model\\_stochastic_gradient.py:1503: ConvergenceWarning: Maximum number of iteration reached before convergence. Consider increasing max_iter to improve the fit.\n",
      "  warnings.warn(\n",
      "C:\\Users\\faspe\\miniconda3\\lib\\site-packages\\sklearn\\linear_model\\_stochastic_gradient.py:1503: ConvergenceWarning: Maximum number of iteration reached before convergence. Consider increasing max_iter to improve the fit.\n",
      "  warnings.warn(\n",
      "C:\\Users\\faspe\\miniconda3\\lib\\site-packages\\sklearn\\linear_model\\_stochastic_gradient.py:1503: ConvergenceWarning: Maximum number of iteration reached before convergence. Consider increasing max_iter to improve the fit.\n",
      "  warnings.warn(\n",
      "C:\\Users\\faspe\\miniconda3\\lib\\site-packages\\sklearn\\linear_model\\_stochastic_gradient.py:1503: ConvergenceWarning: Maximum number of iteration reached before convergence. Consider increasing max_iter to improve the fit.\n",
      "  warnings.warn(\n",
      "C:\\Users\\faspe\\miniconda3\\lib\\site-packages\\sklearn\\linear_model\\_stochastic_gradient.py:1503: ConvergenceWarning: Maximum number of iteration reached before convergence. Consider increasing max_iter to improve the fit.\n",
      "  warnings.warn(\n",
      "C:\\Users\\faspe\\miniconda3\\lib\\site-packages\\sklearn\\linear_model\\_stochastic_gradient.py:1503: ConvergenceWarning: Maximum number of iteration reached before convergence. Consider increasing max_iter to improve the fit.\n",
      "  warnings.warn(\n",
      "C:\\Users\\faspe\\miniconda3\\lib\\site-packages\\sklearn\\linear_model\\_stochastic_gradient.py:1503: ConvergenceWarning: Maximum number of iteration reached before convergence. Consider increasing max_iter to improve the fit.\n",
      "  warnings.warn(\n",
      "C:\\Users\\faspe\\miniconda3\\lib\\site-packages\\sklearn\\linear_model\\_stochastic_gradient.py:1503: ConvergenceWarning: Maximum number of iteration reached before convergence. Consider increasing max_iter to improve the fit.\n",
      "  warnings.warn(\n",
      "C:\\Users\\faspe\\miniconda3\\lib\\site-packages\\sklearn\\linear_model\\_stochastic_gradient.py:1503: ConvergenceWarning: Maximum number of iteration reached before convergence. Consider increasing max_iter to improve the fit.\n",
      "  warnings.warn(\n",
      "C:\\Users\\faspe\\miniconda3\\lib\\site-packages\\sklearn\\linear_model\\_stochastic_gradient.py:1503: ConvergenceWarning: Maximum number of iteration reached before convergence. Consider increasing max_iter to improve the fit.\n",
      "  warnings.warn(\n",
      "C:\\Users\\faspe\\miniconda3\\lib\\site-packages\\sklearn\\linear_model\\_stochastic_gradient.py:1503: ConvergenceWarning: Maximum number of iteration reached before convergence. Consider increasing max_iter to improve the fit.\n",
      "  warnings.warn(\n",
      "C:\\Users\\faspe\\miniconda3\\lib\\site-packages\\sklearn\\linear_model\\_stochastic_gradient.py:1503: ConvergenceWarning: Maximum number of iteration reached before convergence. Consider increasing max_iter to improve the fit.\n",
      "  warnings.warn(\n",
      "C:\\Users\\faspe\\miniconda3\\lib\\site-packages\\sklearn\\linear_model\\_stochastic_gradient.py:1503: ConvergenceWarning: Maximum number of iteration reached before convergence. Consider increasing max_iter to improve the fit.\n",
      "  warnings.warn(\n",
      "C:\\Users\\faspe\\miniconda3\\lib\\site-packages\\sklearn\\linear_model\\_stochastic_gradient.py:1503: ConvergenceWarning: Maximum number of iteration reached before convergence. Consider increasing max_iter to improve the fit.\n",
      "  warnings.warn(\n",
      "C:\\Users\\faspe\\miniconda3\\lib\\site-packages\\sklearn\\linear_model\\_stochastic_gradient.py:1503: ConvergenceWarning: Maximum number of iteration reached before convergence. Consider increasing max_iter to improve the fit.\n",
      "  warnings.warn(\n",
      "C:\\Users\\faspe\\miniconda3\\lib\\site-packages\\sklearn\\linear_model\\_stochastic_gradient.py:1503: ConvergenceWarning: Maximum number of iteration reached before convergence. Consider increasing max_iter to improve the fit.\n",
      "  warnings.warn(\n",
      "C:\\Users\\faspe\\miniconda3\\lib\\site-packages\\sklearn\\linear_model\\_stochastic_gradient.py:1503: ConvergenceWarning: Maximum number of iteration reached before convergence. Consider increasing max_iter to improve the fit.\n",
      "  warnings.warn(\n",
      "C:\\Users\\faspe\\miniconda3\\lib\\site-packages\\sklearn\\linear_model\\_stochastic_gradient.py:1503: ConvergenceWarning: Maximum number of iteration reached before convergence. Consider increasing max_iter to improve the fit.\n",
      "  warnings.warn(\n",
      "C:\\Users\\faspe\\miniconda3\\lib\\site-packages\\sklearn\\linear_model\\_stochastic_gradient.py:1503: ConvergenceWarning: Maximum number of iteration reached before convergence. Consider increasing max_iter to improve the fit.\n",
      "  warnings.warn(\n",
      "C:\\Users\\faspe\\miniconda3\\lib\\site-packages\\sklearn\\linear_model\\_stochastic_gradient.py:1503: ConvergenceWarning: Maximum number of iteration reached before convergence. Consider increasing max_iter to improve the fit.\n",
      "  warnings.warn(\n",
      "C:\\Users\\faspe\\miniconda3\\lib\\site-packages\\sklearn\\linear_model\\_stochastic_gradient.py:1503: ConvergenceWarning: Maximum number of iteration reached before convergence. Consider increasing max_iter to improve the fit.\n",
      "  warnings.warn(\n",
      "C:\\Users\\faspe\\miniconda3\\lib\\site-packages\\sklearn\\linear_model\\_stochastic_gradient.py:1503: ConvergenceWarning: Maximum number of iteration reached before convergence. Consider increasing max_iter to improve the fit.\n",
      "  warnings.warn(\n",
      "C:\\Users\\faspe\\miniconda3\\lib\\site-packages\\sklearn\\linear_model\\_stochastic_gradient.py:1503: ConvergenceWarning: Maximum number of iteration reached before convergence. Consider increasing max_iter to improve the fit.\n",
      "  warnings.warn(\n",
      "C:\\Users\\faspe\\miniconda3\\lib\\site-packages\\sklearn\\linear_model\\_stochastic_gradient.py:1503: ConvergenceWarning: Maximum number of iteration reached before convergence. Consider increasing max_iter to improve the fit.\n",
      "  warnings.warn(\n",
      "C:\\Users\\faspe\\miniconda3\\lib\\site-packages\\sklearn\\linear_model\\_stochastic_gradient.py:1503: ConvergenceWarning: Maximum number of iteration reached before convergence. Consider increasing max_iter to improve the fit.\n",
      "  warnings.warn(\n",
      "C:\\Users\\faspe\\miniconda3\\lib\\site-packages\\sklearn\\linear_model\\_stochastic_gradient.py:1503: ConvergenceWarning: Maximum number of iteration reached before convergence. Consider increasing max_iter to improve the fit.\n",
      "  warnings.warn(\n",
      "C:\\Users\\faspe\\miniconda3\\lib\\site-packages\\sklearn\\linear_model\\_stochastic_gradient.py:1503: ConvergenceWarning: Maximum number of iteration reached before convergence. Consider increasing max_iter to improve the fit.\n",
      "  warnings.warn(\n",
      "C:\\Users\\faspe\\miniconda3\\lib\\site-packages\\sklearn\\linear_model\\_stochastic_gradient.py:1503: ConvergenceWarning: Maximum number of iteration reached before convergence. Consider increasing max_iter to improve the fit.\n",
      "  warnings.warn(\n",
      "C:\\Users\\faspe\\miniconda3\\lib\\site-packages\\sklearn\\linear_model\\_stochastic_gradient.py:1503: ConvergenceWarning: Maximum number of iteration reached before convergence. Consider increasing max_iter to improve the fit.\n",
      "  warnings.warn(\n"
     ]
    },
    {
     "name": "stderr",
     "output_type": "stream",
     "text": [
      "C:\\Users\\faspe\\miniconda3\\lib\\site-packages\\sklearn\\linear_model\\_stochastic_gradient.py:1503: ConvergenceWarning: Maximum number of iteration reached before convergence. Consider increasing max_iter to improve the fit.\n",
      "  warnings.warn(\n",
      "C:\\Users\\faspe\\miniconda3\\lib\\site-packages\\sklearn\\linear_model\\_stochastic_gradient.py:1503: ConvergenceWarning: Maximum number of iteration reached before convergence. Consider increasing max_iter to improve the fit.\n",
      "  warnings.warn(\n",
      "C:\\Users\\faspe\\miniconda3\\lib\\site-packages\\sklearn\\linear_model\\_stochastic_gradient.py:1503: ConvergenceWarning: Maximum number of iteration reached before convergence. Consider increasing max_iter to improve the fit.\n",
      "  warnings.warn(\n",
      "C:\\Users\\faspe\\miniconda3\\lib\\site-packages\\sklearn\\linear_model\\_stochastic_gradient.py:1503: ConvergenceWarning: Maximum number of iteration reached before convergence. Consider increasing max_iter to improve the fit.\n",
      "  warnings.warn(\n",
      "C:\\Users\\faspe\\miniconda3\\lib\\site-packages\\sklearn\\linear_model\\_stochastic_gradient.py:1503: ConvergenceWarning: Maximum number of iteration reached before convergence. Consider increasing max_iter to improve the fit.\n",
      "  warnings.warn(\n",
      "C:\\Users\\faspe\\miniconda3\\lib\\site-packages\\sklearn\\linear_model\\_stochastic_gradient.py:1503: ConvergenceWarning: Maximum number of iteration reached before convergence. Consider increasing max_iter to improve the fit.\n",
      "  warnings.warn(\n",
      "C:\\Users\\faspe\\miniconda3\\lib\\site-packages\\sklearn\\linear_model\\_stochastic_gradient.py:1503: ConvergenceWarning: Maximum number of iteration reached before convergence. Consider increasing max_iter to improve the fit.\n",
      "  warnings.warn(\n",
      "C:\\Users\\faspe\\miniconda3\\lib\\site-packages\\sklearn\\linear_model\\_stochastic_gradient.py:1503: ConvergenceWarning: Maximum number of iteration reached before convergence. Consider increasing max_iter to improve the fit.\n",
      "  warnings.warn(\n",
      "C:\\Users\\faspe\\miniconda3\\lib\\site-packages\\sklearn\\linear_model\\_stochastic_gradient.py:1503: ConvergenceWarning: Maximum number of iteration reached before convergence. Consider increasing max_iter to improve the fit.\n",
      "  warnings.warn(\n",
      "C:\\Users\\faspe\\miniconda3\\lib\\site-packages\\sklearn\\linear_model\\_stochastic_gradient.py:1503: ConvergenceWarning: Maximum number of iteration reached before convergence. Consider increasing max_iter to improve the fit.\n",
      "  warnings.warn(\n",
      "C:\\Users\\faspe\\miniconda3\\lib\\site-packages\\sklearn\\linear_model\\_stochastic_gradient.py:1503: ConvergenceWarning: Maximum number of iteration reached before convergence. Consider increasing max_iter to improve the fit.\n",
      "  warnings.warn(\n",
      "C:\\Users\\faspe\\miniconda3\\lib\\site-packages\\sklearn\\linear_model\\_stochastic_gradient.py:1503: ConvergenceWarning: Maximum number of iteration reached before convergence. Consider increasing max_iter to improve the fit.\n",
      "  warnings.warn(\n",
      "C:\\Users\\faspe\\miniconda3\\lib\\site-packages\\sklearn\\linear_model\\_stochastic_gradient.py:1503: ConvergenceWarning: Maximum number of iteration reached before convergence. Consider increasing max_iter to improve the fit.\n",
      "  warnings.warn(\n",
      "C:\\Users\\faspe\\miniconda3\\lib\\site-packages\\sklearn\\linear_model\\_stochastic_gradient.py:1503: ConvergenceWarning: Maximum number of iteration reached before convergence. Consider increasing max_iter to improve the fit.\n",
      "  warnings.warn(\n",
      "C:\\Users\\faspe\\miniconda3\\lib\\site-packages\\sklearn\\linear_model\\_stochastic_gradient.py:1503: ConvergenceWarning: Maximum number of iteration reached before convergence. Consider increasing max_iter to improve the fit.\n",
      "  warnings.warn(\n",
      "C:\\Users\\faspe\\miniconda3\\lib\\site-packages\\sklearn\\linear_model\\_stochastic_gradient.py:1503: ConvergenceWarning: Maximum number of iteration reached before convergence. Consider increasing max_iter to improve the fit.\n",
      "  warnings.warn(\n",
      "C:\\Users\\faspe\\miniconda3\\lib\\site-packages\\sklearn\\linear_model\\_stochastic_gradient.py:1503: ConvergenceWarning: Maximum number of iteration reached before convergence. Consider increasing max_iter to improve the fit.\n",
      "  warnings.warn(\n",
      "C:\\Users\\faspe\\miniconda3\\lib\\site-packages\\sklearn\\linear_model\\_stochastic_gradient.py:1503: ConvergenceWarning: Maximum number of iteration reached before convergence. Consider increasing max_iter to improve the fit.\n",
      "  warnings.warn(\n",
      "C:\\Users\\faspe\\miniconda3\\lib\\site-packages\\sklearn\\linear_model\\_stochastic_gradient.py:1503: ConvergenceWarning: Maximum number of iteration reached before convergence. Consider increasing max_iter to improve the fit.\n",
      "  warnings.warn(\n",
      "C:\\Users\\faspe\\miniconda3\\lib\\site-packages\\sklearn\\linear_model\\_stochastic_gradient.py:1503: ConvergenceWarning: Maximum number of iteration reached before convergence. Consider increasing max_iter to improve the fit.\n",
      "  warnings.warn(\n",
      "C:\\Users\\faspe\\miniconda3\\lib\\site-packages\\sklearn\\linear_model\\_stochastic_gradient.py:1503: ConvergenceWarning: Maximum number of iteration reached before convergence. Consider increasing max_iter to improve the fit.\n",
      "  warnings.warn(\n",
      "C:\\Users\\faspe\\miniconda3\\lib\\site-packages\\sklearn\\linear_model\\_stochastic_gradient.py:1503: ConvergenceWarning: Maximum number of iteration reached before convergence. Consider increasing max_iter to improve the fit.\n",
      "  warnings.warn(\n",
      "C:\\Users\\faspe\\miniconda3\\lib\\site-packages\\sklearn\\linear_model\\_stochastic_gradient.py:1503: ConvergenceWarning: Maximum number of iteration reached before convergence. Consider increasing max_iter to improve the fit.\n",
      "  warnings.warn(\n",
      "C:\\Users\\faspe\\miniconda3\\lib\\site-packages\\sklearn\\linear_model\\_stochastic_gradient.py:1503: ConvergenceWarning: Maximum number of iteration reached before convergence. Consider increasing max_iter to improve the fit.\n",
      "  warnings.warn(\n",
      "C:\\Users\\faspe\\miniconda3\\lib\\site-packages\\sklearn\\linear_model\\_stochastic_gradient.py:1503: ConvergenceWarning: Maximum number of iteration reached before convergence. Consider increasing max_iter to improve the fit.\n",
      "  warnings.warn(\n"
     ]
    },
    {
     "data": {
      "text/plain": [
       "GridSearchCV(cv=KFold(n_splits=5, random_state=None, shuffle=True),\n",
       "             estimator=SGDRegressor(max_iter=100),\n",
       "             param_grid={'alpha': [0.0001, 0.001, 0.01],\n",
       "                         'eta0': [0.1, 0.01, 0.001],\n",
       "                         'learning_rate': ['constant', 'optimal', 'invscaling'],\n",
       "                         'penalty': ['l2', 'l1']},\n",
       "             scoring='neg_mean_squared_error')"
      ]
     },
     "execution_count": 50,
     "metadata": {},
     "output_type": "execute_result"
    }
   ],
   "source": [
    "hypereg.fit(X_train, y_train.ravel())"
   ]
  },
  {
   "cell_type": "markdown",
   "metadata": {
    "id": "8DDTqsCeTYCs"
   },
   "source": [
    "> i) Obtenga los resultados para cada hiperparámetro de la grilla."
   ]
  },
  {
   "cell_type": "code",
   "execution_count": 51,
   "metadata": {
    "id": "GVw4SnJQTYUN"
   },
   "outputs": [
    {
     "data": {
      "text/html": [
       "<div>\n",
       "<style scoped>\n",
       "    .dataframe tbody tr th:only-of-type {\n",
       "        vertical-align: middle;\n",
       "    }\n",
       "\n",
       "    .dataframe tbody tr th {\n",
       "        vertical-align: top;\n",
       "    }\n",
       "\n",
       "    .dataframe thead th {\n",
       "        text-align: right;\n",
       "    }\n",
       "</style>\n",
       "<table border=\"1\" class=\"dataframe\">\n",
       "  <thead>\n",
       "    <tr style=\"text-align: right;\">\n",
       "      <th></th>\n",
       "      <th>mean_fit_time</th>\n",
       "      <th>std_fit_time</th>\n",
       "      <th>mean_score_time</th>\n",
       "      <th>std_score_time</th>\n",
       "      <th>param_alpha</th>\n",
       "      <th>param_eta0</th>\n",
       "      <th>param_learning_rate</th>\n",
       "      <th>param_penalty</th>\n",
       "      <th>params</th>\n",
       "      <th>split0_test_score</th>\n",
       "      <th>split1_test_score</th>\n",
       "      <th>split2_test_score</th>\n",
       "      <th>split3_test_score</th>\n",
       "      <th>split4_test_score</th>\n",
       "      <th>mean_test_score</th>\n",
       "      <th>std_test_score</th>\n",
       "      <th>rank_test_score</th>\n",
       "    </tr>\n",
       "  </thead>\n",
       "  <tbody>\n",
       "    <tr>\n",
       "      <th>0</th>\n",
       "      <td>0.008693</td>\n",
       "      <td>0.002374</td>\n",
       "      <td>0.002401</td>\n",
       "      <td>0.001385</td>\n",
       "      <td>0.0001</td>\n",
       "      <td>0.1</td>\n",
       "      <td>constant</td>\n",
       "      <td>l2</td>\n",
       "      <td>{'alpha': 0.0001, 'eta0': 0.1, 'learning_rate'...</td>\n",
       "      <td>-4.415339e+23</td>\n",
       "      <td>-2.854107e+23</td>\n",
       "      <td>-1.484335e+22</td>\n",
       "      <td>-1.509312e+24</td>\n",
       "      <td>-2.504250e+24</td>\n",
       "      <td>-9.510700e+23</td>\n",
       "      <td>9.277125e+23</td>\n",
       "      <td>54</td>\n",
       "    </tr>\n",
       "    <tr>\n",
       "      <th>1</th>\n",
       "      <td>0.011854</td>\n",
       "      <td>0.003225</td>\n",
       "      <td>0.001601</td>\n",
       "      <td>0.000490</td>\n",
       "      <td>0.0001</td>\n",
       "      <td>0.1</td>\n",
       "      <td>constant</td>\n",
       "      <td>l1</td>\n",
       "      <td>{'alpha': 0.0001, 'eta0': 0.1, 'learning_rate'...</td>\n",
       "      <td>-5.145931e+22</td>\n",
       "      <td>-1.831920e+23</td>\n",
       "      <td>-7.519618e+22</td>\n",
       "      <td>-2.000952e+24</td>\n",
       "      <td>-3.882069e+21</td>\n",
       "      <td>-4.629362e+23</td>\n",
       "      <td>7.712502e+23</td>\n",
       "      <td>53</td>\n",
       "    </tr>\n",
       "    <tr>\n",
       "      <th>2</th>\n",
       "      <td>0.035633</td>\n",
       "      <td>0.009492</td>\n",
       "      <td>0.001856</td>\n",
       "      <td>0.000304</td>\n",
       "      <td>0.0001</td>\n",
       "      <td>0.1</td>\n",
       "      <td>optimal</td>\n",
       "      <td>l2</td>\n",
       "      <td>{'alpha': 0.0001, 'eta0': 0.1, 'learning_rate'...</td>\n",
       "      <td>-7.937102e+16</td>\n",
       "      <td>-7.032028e-01</td>\n",
       "      <td>-2.148211e+17</td>\n",
       "      <td>-1.176332e+14</td>\n",
       "      <td>-1.495020e+02</td>\n",
       "      <td>-5.886195e+16</td>\n",
       "      <td>8.381435e+16</td>\n",
       "      <td>40</td>\n",
       "    </tr>\n",
       "    <tr>\n",
       "      <th>3</th>\n",
       "      <td>0.056251</td>\n",
       "      <td>0.016797</td>\n",
       "      <td>0.001814</td>\n",
       "      <td>0.000375</td>\n",
       "      <td>0.0001</td>\n",
       "      <td>0.1</td>\n",
       "      <td>optimal</td>\n",
       "      <td>l1</td>\n",
       "      <td>{'alpha': 0.0001, 'eta0': 0.1, 'learning_rate'...</td>\n",
       "      <td>-1.571326e+19</td>\n",
       "      <td>-5.152532e-01</td>\n",
       "      <td>-8.176966e+15</td>\n",
       "      <td>-3.598333e+19</td>\n",
       "      <td>-5.253424e-01</td>\n",
       "      <td>-1.034095e+19</td>\n",
       "      <td>1.419176e+19</td>\n",
       "      <td>46</td>\n",
       "    </tr>\n",
       "    <tr>\n",
       "      <th>4</th>\n",
       "      <td>0.016809</td>\n",
       "      <td>0.001925</td>\n",
       "      <td>0.001473</td>\n",
       "      <td>0.000436</td>\n",
       "      <td>0.0001</td>\n",
       "      <td>0.1</td>\n",
       "      <td>invscaling</td>\n",
       "      <td>l2</td>\n",
       "      <td>{'alpha': 0.0001, 'eta0': 0.1, 'learning_rate'...</td>\n",
       "      <td>-4.147934e-01</td>\n",
       "      <td>-5.088312e-01</td>\n",
       "      <td>-4.492774e-01</td>\n",
       "      <td>-4.825010e-01</td>\n",
       "      <td>-4.566912e-01</td>\n",
       "      <td>-4.624188e-01</td>\n",
       "      <td>3.172094e-02</td>\n",
       "      <td>12</td>\n",
       "    </tr>\n",
       "    <tr>\n",
       "      <th>5</th>\n",
       "      <td>0.025846</td>\n",
       "      <td>0.007470</td>\n",
       "      <td>0.001555</td>\n",
       "      <td>0.000439</td>\n",
       "      <td>0.0001</td>\n",
       "      <td>0.1</td>\n",
       "      <td>invscaling</td>\n",
       "      <td>l1</td>\n",
       "      <td>{'alpha': 0.0001, 'eta0': 0.1, 'learning_rate'...</td>\n",
       "      <td>-4.350392e-01</td>\n",
       "      <td>-5.110338e-01</td>\n",
       "      <td>-4.695601e-01</td>\n",
       "      <td>-4.753506e-01</td>\n",
       "      <td>-4.377633e-01</td>\n",
       "      <td>-4.657494e-01</td>\n",
       "      <td>2.787010e-02</td>\n",
       "      <td>15</td>\n",
       "    </tr>\n",
       "    <tr>\n",
       "      <th>6</th>\n",
       "      <td>0.009775</td>\n",
       "      <td>0.002172</td>\n",
       "      <td>0.001401</td>\n",
       "      <td>0.000490</td>\n",
       "      <td>0.0001</td>\n",
       "      <td>0.01</td>\n",
       "      <td>constant</td>\n",
       "      <td>l2</td>\n",
       "      <td>{'alpha': 0.0001, 'eta0': 0.01, 'learning_rate...</td>\n",
       "      <td>-9.632061e-01</td>\n",
       "      <td>-5.624236e-01</td>\n",
       "      <td>-4.658762e-01</td>\n",
       "      <td>-4.901812e-01</td>\n",
       "      <td>-4.801225e-01</td>\n",
       "      <td>-5.923619e-01</td>\n",
       "      <td>1.883927e-01</td>\n",
       "      <td>30</td>\n",
       "    </tr>\n",
       "    <tr>\n",
       "      <th>7</th>\n",
       "      <td>0.015573</td>\n",
       "      <td>0.004524</td>\n",
       "      <td>0.001650</td>\n",
       "      <td>0.000512</td>\n",
       "      <td>0.0001</td>\n",
       "      <td>0.01</td>\n",
       "      <td>constant</td>\n",
       "      <td>l1</td>\n",
       "      <td>{'alpha': 0.0001, 'eta0': 0.01, 'learning_rate...</td>\n",
       "      <td>-4.260120e-01</td>\n",
       "      <td>-5.475000e-01</td>\n",
       "      <td>-5.207403e-01</td>\n",
       "      <td>-4.826099e-01</td>\n",
       "      <td>-4.582360e-01</td>\n",
       "      <td>-4.870196e-01</td>\n",
       "      <td>4.327779e-02</td>\n",
       "      <td>20</td>\n",
       "    </tr>\n",
       "    <tr>\n",
       "      <th>8</th>\n",
       "      <td>0.027364</td>\n",
       "      <td>0.006995</td>\n",
       "      <td>0.001878</td>\n",
       "      <td>0.000525</td>\n",
       "      <td>0.0001</td>\n",
       "      <td>0.01</td>\n",
       "      <td>optimal</td>\n",
       "      <td>l2</td>\n",
       "      <td>{'alpha': 0.0001, 'eta0': 0.01, 'learning_rate...</td>\n",
       "      <td>-1.132219e+16</td>\n",
       "      <td>-7.179694e-01</td>\n",
       "      <td>-1.249935e+18</td>\n",
       "      <td>-1.650486e+18</td>\n",
       "      <td>-3.509780e+19</td>\n",
       "      <td>-7.601908e+18</td>\n",
       "      <td>1.376370e+19</td>\n",
       "      <td>45</td>\n",
       "    </tr>\n",
       "    <tr>\n",
       "      <th>9</th>\n",
       "      <td>0.063092</td>\n",
       "      <td>0.017270</td>\n",
       "      <td>0.001629</td>\n",
       "      <td>0.000367</td>\n",
       "      <td>0.0001</td>\n",
       "      <td>0.01</td>\n",
       "      <td>optimal</td>\n",
       "      <td>l1</td>\n",
       "      <td>{'alpha': 0.0001, 'eta0': 0.01, 'learning_rate...</td>\n",
       "      <td>-8.175557e+15</td>\n",
       "      <td>-5.630932e-01</td>\n",
       "      <td>-4.332855e+21</td>\n",
       "      <td>-1.690098e+16</td>\n",
       "      <td>-4.876063e-01</td>\n",
       "      <td>-8.665759e+20</td>\n",
       "      <td>1.733139e+21</td>\n",
       "      <td>47</td>\n",
       "    </tr>\n",
       "    <tr>\n",
       "      <th>10</th>\n",
       "      <td>0.016228</td>\n",
       "      <td>0.002607</td>\n",
       "      <td>0.001729</td>\n",
       "      <td>0.000610</td>\n",
       "      <td>0.0001</td>\n",
       "      <td>0.01</td>\n",
       "      <td>invscaling</td>\n",
       "      <td>l2</td>\n",
       "      <td>{'alpha': 0.0001, 'eta0': 0.01, 'learning_rate...</td>\n",
       "      <td>-4.191280e-01</td>\n",
       "      <td>-5.072522e-01</td>\n",
       "      <td>-4.431919e-01</td>\n",
       "      <td>-4.688518e-01</td>\n",
       "      <td>-4.451415e-01</td>\n",
       "      <td>-4.567131e-01</td>\n",
       "      <td>2.976879e-02</td>\n",
       "      <td>5</td>\n",
       "    </tr>\n",
       "    <tr>\n",
       "      <th>11</th>\n",
       "      <td>0.020519</td>\n",
       "      <td>0.001169</td>\n",
       "      <td>0.001743</td>\n",
       "      <td>0.000420</td>\n",
       "      <td>0.0001</td>\n",
       "      <td>0.01</td>\n",
       "      <td>invscaling</td>\n",
       "      <td>l1</td>\n",
       "      <td>{'alpha': 0.0001, 'eta0': 0.01, 'learning_rate...</td>\n",
       "      <td>-4.255922e-01</td>\n",
       "      <td>-5.035641e-01</td>\n",
       "      <td>-4.437032e-01</td>\n",
       "      <td>-4.653467e-01</td>\n",
       "      <td>-4.486949e-01</td>\n",
       "      <td>-4.573802e-01</td>\n",
       "      <td>2.634157e-02</td>\n",
       "      <td>7</td>\n",
       "    </tr>\n",
       "    <tr>\n",
       "      <th>12</th>\n",
       "      <td>0.014163</td>\n",
       "      <td>0.001484</td>\n",
       "      <td>0.001602</td>\n",
       "      <td>0.000490</td>\n",
       "      <td>0.0001</td>\n",
       "      <td>0.001</td>\n",
       "      <td>constant</td>\n",
       "      <td>l2</td>\n",
       "      <td>{'alpha': 0.0001, 'eta0': 0.001, 'learning_rat...</td>\n",
       "      <td>-4.114899e-01</td>\n",
       "      <td>-5.025792e-01</td>\n",
       "      <td>-4.437944e-01</td>\n",
       "      <td>-4.650254e-01</td>\n",
       "      <td>-4.417130e-01</td>\n",
       "      <td>-4.529204e-01</td>\n",
       "      <td>3.012610e-02</td>\n",
       "      <td>2</td>\n",
       "    </tr>\n",
       "    <tr>\n",
       "      <th>13</th>\n",
       "      <td>0.023146</td>\n",
       "      <td>0.003089</td>\n",
       "      <td>0.002136</td>\n",
       "      <td>0.000968</td>\n",
       "      <td>0.0001</td>\n",
       "      <td>0.001</td>\n",
       "      <td>constant</td>\n",
       "      <td>l1</td>\n",
       "      <td>{'alpha': 0.0001, 'eta0': 0.001, 'learning_rat...</td>\n",
       "      <td>-4.161992e-01</td>\n",
       "      <td>-5.006809e-01</td>\n",
       "      <td>-4.463557e-01</td>\n",
       "      <td>-4.606583e-01</td>\n",
       "      <td>-4.433704e-01</td>\n",
       "      <td>-4.534529e-01</td>\n",
       "      <td>2.764872e-02</td>\n",
       "      <td>3</td>\n",
       "    </tr>\n",
       "    <tr>\n",
       "      <th>14</th>\n",
       "      <td>0.030068</td>\n",
       "      <td>0.008733</td>\n",
       "      <td>0.001628</td>\n",
       "      <td>0.000514</td>\n",
       "      <td>0.0001</td>\n",
       "      <td>0.001</td>\n",
       "      <td>optimal</td>\n",
       "      <td>l2</td>\n",
       "      <td>{'alpha': 0.0001, 'eta0': 0.001, 'learning_rat...</td>\n",
       "      <td>-5.386810e+17</td>\n",
       "      <td>-5.859038e-01</td>\n",
       "      <td>-2.014547e+19</td>\n",
       "      <td>-6.708749e-01</td>\n",
       "      <td>-2.050467e+12</td>\n",
       "      <td>-4.136830e+18</td>\n",
       "      <td>8.007038e+18</td>\n",
       "      <td>41</td>\n",
       "    </tr>\n",
       "    <tr>\n",
       "      <th>15</th>\n",
       "      <td>0.050855</td>\n",
       "      <td>0.007285</td>\n",
       "      <td>0.001249</td>\n",
       "      <td>0.000233</td>\n",
       "      <td>0.0001</td>\n",
       "      <td>0.001</td>\n",
       "      <td>optimal</td>\n",
       "      <td>l1</td>\n",
       "      <td>{'alpha': 0.0001, 'eta0': 0.001, 'learning_rat...</td>\n",
       "      <td>-3.846893e+18</td>\n",
       "      <td>-1.267002e+10</td>\n",
       "      <td>-2.008603e+18</td>\n",
       "      <td>-3.456142e+10</td>\n",
       "      <td>-5.523408e+22</td>\n",
       "      <td>-1.104799e+22</td>\n",
       "      <td>2.209304e+22</td>\n",
       "      <td>48</td>\n",
       "    </tr>\n",
       "    <tr>\n",
       "      <th>16</th>\n",
       "      <td>0.014319</td>\n",
       "      <td>0.000236</td>\n",
       "      <td>0.001649</td>\n",
       "      <td>0.000472</td>\n",
       "      <td>0.0001</td>\n",
       "      <td>0.001</td>\n",
       "      <td>invscaling</td>\n",
       "      <td>l2</td>\n",
       "      <td>{'alpha': 0.0001, 'eta0': 0.001, 'learning_rat...</td>\n",
       "      <td>-4.701325e-01</td>\n",
       "      <td>-5.569580e-01</td>\n",
       "      <td>-4.945733e-01</td>\n",
       "      <td>-5.177876e-01</td>\n",
       "      <td>-5.137010e-01</td>\n",
       "      <td>-5.106305e-01</td>\n",
       "      <td>2.865245e-02</td>\n",
       "      <td>24</td>\n",
       "    </tr>\n",
       "    <tr>\n",
       "      <th>17</th>\n",
       "      <td>0.020144</td>\n",
       "      <td>0.002036</td>\n",
       "      <td>0.002040</td>\n",
       "      <td>0.001147</td>\n",
       "      <td>0.0001</td>\n",
       "      <td>0.001</td>\n",
       "      <td>invscaling</td>\n",
       "      <td>l1</td>\n",
       "      <td>{'alpha': 0.0001, 'eta0': 0.001, 'learning_rat...</td>\n",
       "      <td>-4.701246e-01</td>\n",
       "      <td>-5.571701e-01</td>\n",
       "      <td>-4.945559e-01</td>\n",
       "      <td>-5.166217e-01</td>\n",
       "      <td>-5.137827e-01</td>\n",
       "      <td>-5.104510e-01</td>\n",
       "      <td>2.867307e-02</td>\n",
       "      <td>23</td>\n",
       "    </tr>\n",
       "    <tr>\n",
       "      <th>18</th>\n",
       "      <td>0.006126</td>\n",
       "      <td>0.000460</td>\n",
       "      <td>0.001424</td>\n",
       "      <td>0.000504</td>\n",
       "      <td>0.001</td>\n",
       "      <td>0.1</td>\n",
       "      <td>constant</td>\n",
       "      <td>l2</td>\n",
       "      <td>{'alpha': 0.001, 'eta0': 0.1, 'learning_rate':...</td>\n",
       "      <td>-2.917436e+23</td>\n",
       "      <td>-3.751127e+22</td>\n",
       "      <td>-6.322059e+21</td>\n",
       "      <td>-5.238349e+23</td>\n",
       "      <td>-4.311189e+22</td>\n",
       "      <td>-1.805047e+23</td>\n",
       "      <td>1.999566e+23</td>\n",
       "      <td>50</td>\n",
       "    </tr>\n",
       "    <tr>\n",
       "      <th>19</th>\n",
       "      <td>0.009545</td>\n",
       "      <td>0.001131</td>\n",
       "      <td>0.001504</td>\n",
       "      <td>0.000448</td>\n",
       "      <td>0.001</td>\n",
       "      <td>0.1</td>\n",
       "      <td>constant</td>\n",
       "      <td>l1</td>\n",
       "      <td>{'alpha': 0.001, 'eta0': 0.1, 'learning_rate':...</td>\n",
       "      <td>-4.834131e+23</td>\n",
       "      <td>-7.386740e+22</td>\n",
       "      <td>-7.136753e+23</td>\n",
       "      <td>-1.221285e+22</td>\n",
       "      <td>-9.499697e+22</td>\n",
       "      <td>-2.756331e+23</td>\n",
       "      <td>2.748754e+23</td>\n",
       "      <td>52</td>\n",
       "    </tr>\n",
       "    <tr>\n",
       "      <th>20</th>\n",
       "      <td>0.053148</td>\n",
       "      <td>0.001924</td>\n",
       "      <td>0.001715</td>\n",
       "      <td>0.000424</td>\n",
       "      <td>0.001</td>\n",
       "      <td>0.1</td>\n",
       "      <td>optimal</td>\n",
       "      <td>l2</td>\n",
       "      <td>{'alpha': 0.001, 'eta0': 0.1, 'learning_rate':...</td>\n",
       "      <td>-1.131738e+02</td>\n",
       "      <td>-7.174979e+02</td>\n",
       "      <td>-1.134659e+03</td>\n",
       "      <td>-2.265790e+02</td>\n",
       "      <td>-9.940550e-01</td>\n",
       "      <td>-4.385808e+02</td>\n",
       "      <td>4.253555e+02</td>\n",
       "      <td>32</td>\n",
       "    </tr>\n",
       "    <tr>\n",
       "      <th>21</th>\n",
       "      <td>0.094393</td>\n",
       "      <td>0.005173</td>\n",
       "      <td>0.001792</td>\n",
       "      <td>0.000403</td>\n",
       "      <td>0.001</td>\n",
       "      <td>0.1</td>\n",
       "      <td>optimal</td>\n",
       "      <td>l1</td>\n",
       "      <td>{'alpha': 0.001, 'eta0': 0.1, 'learning_rate':...</td>\n",
       "      <td>-9.025922e+05</td>\n",
       "      <td>-1.427171e+07</td>\n",
       "      <td>-6.379739e+02</td>\n",
       "      <td>-3.056833e+03</td>\n",
       "      <td>-3.885974e+05</td>\n",
       "      <td>-3.113320e+06</td>\n",
       "      <td>5.588984e+06</td>\n",
       "      <td>36</td>\n",
       "    </tr>\n",
       "    <tr>\n",
       "      <th>22</th>\n",
       "      <td>0.013023</td>\n",
       "      <td>0.002772</td>\n",
       "      <td>0.001744</td>\n",
       "      <td>0.000389</td>\n",
       "      <td>0.001</td>\n",
       "      <td>0.1</td>\n",
       "      <td>invscaling</td>\n",
       "      <td>l2</td>\n",
       "      <td>{'alpha': 0.001, 'eta0': 0.1, 'learning_rate':...</td>\n",
       "      <td>-4.287077e-01</td>\n",
       "      <td>-5.330832e-01</td>\n",
       "      <td>-4.530687e-01</td>\n",
       "      <td>-4.726420e-01</td>\n",
       "      <td>-4.391605e-01</td>\n",
       "      <td>-4.653324e-01</td>\n",
       "      <td>3.693330e-02</td>\n",
       "      <td>14</td>\n",
       "    </tr>\n",
       "    <tr>\n",
       "      <th>23</th>\n",
       "      <td>0.021298</td>\n",
       "      <td>0.004329</td>\n",
       "      <td>0.001686</td>\n",
       "      <td>0.000398</td>\n",
       "      <td>0.001</td>\n",
       "      <td>0.1</td>\n",
       "      <td>invscaling</td>\n",
       "      <td>l1</td>\n",
       "      <td>{'alpha': 0.001, 'eta0': 0.1, 'learning_rate':...</td>\n",
       "      <td>-4.104408e-01</td>\n",
       "      <td>-5.204400e-01</td>\n",
       "      <td>-4.436041e-01</td>\n",
       "      <td>-4.749679e-01</td>\n",
       "      <td>-4.446242e-01</td>\n",
       "      <td>-4.588154e-01</td>\n",
       "      <td>3.696315e-02</td>\n",
       "      <td>10</td>\n",
       "    </tr>\n",
       "    <tr>\n",
       "      <th>24</th>\n",
       "      <td>0.008636</td>\n",
       "      <td>0.000976</td>\n",
       "      <td>0.001395</td>\n",
       "      <td>0.000385</td>\n",
       "      <td>0.001</td>\n",
       "      <td>0.01</td>\n",
       "      <td>constant</td>\n",
       "      <td>l2</td>\n",
       "      <td>{'alpha': 0.001, 'eta0': 0.01, 'learning_rate'...</td>\n",
       "      <td>-4.271612e-01</td>\n",
       "      <td>-5.002353e-01</td>\n",
       "      <td>-4.943488e-01</td>\n",
       "      <td>-6.786827e-01</td>\n",
       "      <td>-4.536619e-01</td>\n",
       "      <td>-5.108180e-01</td>\n",
       "      <td>8.812158e-02</td>\n",
       "      <td>25</td>\n",
       "    </tr>\n",
       "    <tr>\n",
       "      <th>25</th>\n",
       "      <td>0.015481</td>\n",
       "      <td>0.003101</td>\n",
       "      <td>0.001412</td>\n",
       "      <td>0.000503</td>\n",
       "      <td>0.001</td>\n",
       "      <td>0.01</td>\n",
       "      <td>constant</td>\n",
       "      <td>l1</td>\n",
       "      <td>{'alpha': 0.001, 'eta0': 0.01, 'learning_rate'...</td>\n",
       "      <td>-4.515417e-01</td>\n",
       "      <td>-5.130911e-01</td>\n",
       "      <td>-4.850377e-01</td>\n",
       "      <td>-5.031147e-01</td>\n",
       "      <td>-4.589918e-01</td>\n",
       "      <td>-4.823554e-01</td>\n",
       "      <td>2.399238e-02</td>\n",
       "      <td>18</td>\n",
       "    </tr>\n",
       "    <tr>\n",
       "      <th>26</th>\n",
       "      <td>0.056997</td>\n",
       "      <td>0.002514</td>\n",
       "      <td>0.002020</td>\n",
       "      <td>0.000027</td>\n",
       "      <td>0.001</td>\n",
       "      <td>0.01</td>\n",
       "      <td>optimal</td>\n",
       "      <td>l2</td>\n",
       "      <td>{'alpha': 0.001, 'eta0': 0.01, 'learning_rate'...</td>\n",
       "      <td>-8.586670e+01</td>\n",
       "      <td>-9.027840e+02</td>\n",
       "      <td>-2.936896e+00</td>\n",
       "      <td>-1.510873e+02</td>\n",
       "      <td>-1.000958e+00</td>\n",
       "      <td>-2.287352e+02</td>\n",
       "      <td>3.416519e+02</td>\n",
       "      <td>31</td>\n",
       "    </tr>\n",
       "    <tr>\n",
       "      <th>27</th>\n",
       "      <td>0.117570</td>\n",
       "      <td>0.028331</td>\n",
       "      <td>0.001595</td>\n",
       "      <td>0.000488</td>\n",
       "      <td>0.001</td>\n",
       "      <td>0.01</td>\n",
       "      <td>optimal</td>\n",
       "      <td>l1</td>\n",
       "      <td>{'alpha': 0.001, 'eta0': 0.01, 'learning_rate'...</td>\n",
       "      <td>-1.064150e+00</td>\n",
       "      <td>-1.960747e+05</td>\n",
       "      <td>-2.926521e+05</td>\n",
       "      <td>-1.288156e+04</td>\n",
       "      <td>-1.207706e+04</td>\n",
       "      <td>-1.027373e+05</td>\n",
       "      <td>1.196892e+05</td>\n",
       "      <td>35</td>\n",
       "    </tr>\n",
       "    <tr>\n",
       "      <th>28</th>\n",
       "      <td>0.019735</td>\n",
       "      <td>0.001961</td>\n",
       "      <td>0.001592</td>\n",
       "      <td>0.000507</td>\n",
       "      <td>0.001</td>\n",
       "      <td>0.01</td>\n",
       "      <td>invscaling</td>\n",
       "      <td>l2</td>\n",
       "      <td>{'alpha': 0.001, 'eta0': 0.01, 'learning_rate'...</td>\n",
       "      <td>-4.212597e-01</td>\n",
       "      <td>-5.055394e-01</td>\n",
       "      <td>-4.424627e-01</td>\n",
       "      <td>-4.673139e-01</td>\n",
       "      <td>-4.503886e-01</td>\n",
       "      <td>-4.573928e-01</td>\n",
       "      <td>2.826338e-02</td>\n",
       "      <td>8</td>\n",
       "    </tr>\n",
       "    <tr>\n",
       "      <th>29</th>\n",
       "      <td>0.031901</td>\n",
       "      <td>0.004999</td>\n",
       "      <td>0.001917</td>\n",
       "      <td>0.000509</td>\n",
       "      <td>0.001</td>\n",
       "      <td>0.01</td>\n",
       "      <td>invscaling</td>\n",
       "      <td>l1</td>\n",
       "      <td>{'alpha': 0.001, 'eta0': 0.01, 'learning_rate'...</td>\n",
       "      <td>-4.238729e-01</td>\n",
       "      <td>-5.073048e-01</td>\n",
       "      <td>-4.398857e-01</td>\n",
       "      <td>-4.681747e-01</td>\n",
       "      <td>-4.473595e-01</td>\n",
       "      <td>-4.573195e-01</td>\n",
       "      <td>2.876865e-02</td>\n",
       "      <td>6</td>\n",
       "    </tr>\n",
       "    <tr>\n",
       "      <th>30</th>\n",
       "      <td>0.017906</td>\n",
       "      <td>0.001946</td>\n",
       "      <td>0.001998</td>\n",
       "      <td>0.000057</td>\n",
       "      <td>0.001</td>\n",
       "      <td>0.001</td>\n",
       "      <td>constant</td>\n",
       "      <td>l2</td>\n",
       "      <td>{'alpha': 0.001, 'eta0': 0.001, 'learning_rate...</td>\n",
       "      <td>-4.170070e-01</td>\n",
       "      <td>-5.038738e-01</td>\n",
       "      <td>-4.447415e-01</td>\n",
       "      <td>-4.697526e-01</td>\n",
       "      <td>-4.434812e-01</td>\n",
       "      <td>-4.557712e-01</td>\n",
       "      <td>2.927354e-02</td>\n",
       "      <td>4</td>\n",
       "    </tr>\n",
       "    <tr>\n",
       "      <th>31</th>\n",
       "      <td>0.029628</td>\n",
       "      <td>0.004250</td>\n",
       "      <td>0.002002</td>\n",
       "      <td>0.000018</td>\n",
       "      <td>0.001</td>\n",
       "      <td>0.001</td>\n",
       "      <td>constant</td>\n",
       "      <td>l1</td>\n",
       "      <td>{'alpha': 0.001, 'eta0': 0.001, 'learning_rate...</td>\n",
       "      <td>-4.165940e-01</td>\n",
       "      <td>-5.018784e-01</td>\n",
       "      <td>-4.352568e-01</td>\n",
       "      <td>-4.635465e-01</td>\n",
       "      <td>-4.410525e-01</td>\n",
       "      <td>-4.516656e-01</td>\n",
       "      <td>2.923827e-02</td>\n",
       "      <td>1</td>\n",
       "    </tr>\n",
       "    <tr>\n",
       "      <th>32</th>\n",
       "      <td>0.074129</td>\n",
       "      <td>0.004123</td>\n",
       "      <td>0.002411</td>\n",
       "      <td>0.000383</td>\n",
       "      <td>0.001</td>\n",
       "      <td>0.001</td>\n",
       "      <td>optimal</td>\n",
       "      <td>l2</td>\n",
       "      <td>{'alpha': 0.001, 'eta0': 0.001, 'learning_rate...</td>\n",
       "      <td>-1.377603e+02</td>\n",
       "      <td>-1.548082e+03</td>\n",
       "      <td>-1.896525e+01</td>\n",
       "      <td>-2.248764e+04</td>\n",
       "      <td>-5.823349e+02</td>\n",
       "      <td>-4.954956e+03</td>\n",
       "      <td>8.782835e+03</td>\n",
       "      <td>33</td>\n",
       "    </tr>\n",
       "    <tr>\n",
       "      <th>33</th>\n",
       "      <td>0.138253</td>\n",
       "      <td>0.005107</td>\n",
       "      <td>0.002286</td>\n",
       "      <td>0.000375</td>\n",
       "      <td>0.001</td>\n",
       "      <td>0.001</td>\n",
       "      <td>optimal</td>\n",
       "      <td>l1</td>\n",
       "      <td>{'alpha': 0.001, 'eta0': 0.001, 'learning_rate...</td>\n",
       "      <td>-1.334958e+04</td>\n",
       "      <td>-3.401223e+05</td>\n",
       "      <td>-3.640270e+04</td>\n",
       "      <td>-5.338633e+03</td>\n",
       "      <td>-1.834682e+04</td>\n",
       "      <td>-8.271201e+04</td>\n",
       "      <td>1.291087e+05</td>\n",
       "      <td>34</td>\n",
       "    </tr>\n",
       "    <tr>\n",
       "      <th>34</th>\n",
       "      <td>0.018870</td>\n",
       "      <td>0.001259</td>\n",
       "      <td>0.001961</td>\n",
       "      <td>0.000513</td>\n",
       "      <td>0.001</td>\n",
       "      <td>0.001</td>\n",
       "      <td>invscaling</td>\n",
       "      <td>l2</td>\n",
       "      <td>{'alpha': 0.001, 'eta0': 0.001, 'learning_rate...</td>\n",
       "      <td>-4.702215e-01</td>\n",
       "      <td>-5.582132e-01</td>\n",
       "      <td>-4.957650e-01</td>\n",
       "      <td>-5.178497e-01</td>\n",
       "      <td>-5.138087e-01</td>\n",
       "      <td>-5.111716e-01</td>\n",
       "      <td>2.890929e-02</td>\n",
       "      <td>27</td>\n",
       "    </tr>\n",
       "    <tr>\n",
       "      <th>35</th>\n",
       "      <td>0.025485</td>\n",
       "      <td>0.001626</td>\n",
       "      <td>0.002142</td>\n",
       "      <td>0.000258</td>\n",
       "      <td>0.001</td>\n",
       "      <td>0.001</td>\n",
       "      <td>invscaling</td>\n",
       "      <td>l1</td>\n",
       "      <td>{'alpha': 0.001, 'eta0': 0.001, 'learning_rate...</td>\n",
       "      <td>-4.702875e-01</td>\n",
       "      <td>-5.582148e-01</td>\n",
       "      <td>-4.946775e-01</td>\n",
       "      <td>-5.177450e-01</td>\n",
       "      <td>-5.146179e-01</td>\n",
       "      <td>-5.111086e-01</td>\n",
       "      <td>2.902308e-02</td>\n",
       "      <td>26</td>\n",
       "    </tr>\n",
       "    <tr>\n",
       "      <th>36</th>\n",
       "      <td>0.010653</td>\n",
       "      <td>0.003002</td>\n",
       "      <td>0.002201</td>\n",
       "      <td>0.000401</td>\n",
       "      <td>0.01</td>\n",
       "      <td>0.1</td>\n",
       "      <td>constant</td>\n",
       "      <td>l2</td>\n",
       "      <td>{'alpha': 0.01, 'eta0': 0.1, 'learning_rate': ...</td>\n",
       "      <td>-7.516770e+22</td>\n",
       "      <td>-3.012321e+23</td>\n",
       "      <td>-2.002295e+23</td>\n",
       "      <td>-1.052491e+21</td>\n",
       "      <td>-3.684623e+23</td>\n",
       "      <td>-1.892288e+23</td>\n",
       "      <td>1.365362e+23</td>\n",
       "      <td>51</td>\n",
       "    </tr>\n",
       "    <tr>\n",
       "      <th>37</th>\n",
       "      <td>0.015079</td>\n",
       "      <td>0.001171</td>\n",
       "      <td>0.002109</td>\n",
       "      <td>0.000217</td>\n",
       "      <td>0.01</td>\n",
       "      <td>0.1</td>\n",
       "      <td>constant</td>\n",
       "      <td>l1</td>\n",
       "      <td>{'alpha': 0.01, 'eta0': 0.1, 'learning_rate': ...</td>\n",
       "      <td>-1.285506e+22</td>\n",
       "      <td>-2.173121e+22</td>\n",
       "      <td>-5.573732e+23</td>\n",
       "      <td>-1.612433e+23</td>\n",
       "      <td>-6.343086e+22</td>\n",
       "      <td>-1.633267e+23</td>\n",
       "      <td>2.039349e+23</td>\n",
       "      <td>49</td>\n",
       "    </tr>\n",
       "    <tr>\n",
       "      <th>38</th>\n",
       "      <td>0.088267</td>\n",
       "      <td>0.006401</td>\n",
       "      <td>0.003098</td>\n",
       "      <td>0.001118</td>\n",
       "      <td>0.01</td>\n",
       "      <td>0.1</td>\n",
       "      <td>optimal</td>\n",
       "      <td>l2</td>\n",
       "      <td>{'alpha': 0.01, 'eta0': 0.1, 'learning_rate': ...</td>\n",
       "      <td>-8.806437e+10</td>\n",
       "      <td>-8.338587e+12</td>\n",
       "      <td>-4.803572e+12</td>\n",
       "      <td>-1.076902e+12</td>\n",
       "      <td>-1.560829e+12</td>\n",
       "      <td>-3.173591e+12</td>\n",
       "      <td>3.028254e+12</td>\n",
       "      <td>39</td>\n",
       "    </tr>\n",
       "    <tr>\n",
       "      <th>39</th>\n",
       "      <td>0.142225</td>\n",
       "      <td>0.008141</td>\n",
       "      <td>0.001888</td>\n",
       "      <td>0.000199</td>\n",
       "      <td>0.01</td>\n",
       "      <td>0.1</td>\n",
       "      <td>optimal</td>\n",
       "      <td>l1</td>\n",
       "      <td>{'alpha': 0.01, 'eta0': 0.1, 'learning_rate': ...</td>\n",
       "      <td>-2.464182e+19</td>\n",
       "      <td>-1.607982e+18</td>\n",
       "      <td>-2.485111e+17</td>\n",
       "      <td>-9.231141e+17</td>\n",
       "      <td>-2.579173e+15</td>\n",
       "      <td>-5.484802e+18</td>\n",
       "      <td>9.594828e+18</td>\n",
       "      <td>43</td>\n",
       "    </tr>\n",
       "    <tr>\n",
       "      <th>40</th>\n",
       "      <td>0.024230</td>\n",
       "      <td>0.004782</td>\n",
       "      <td>0.002363</td>\n",
       "      <td>0.000348</td>\n",
       "      <td>0.01</td>\n",
       "      <td>0.1</td>\n",
       "      <td>invscaling</td>\n",
       "      <td>l2</td>\n",
       "      <td>{'alpha': 0.01, 'eta0': 0.1, 'learning_rate': ...</td>\n",
       "      <td>-5.158972e-01</td>\n",
       "      <td>-5.280532e-01</td>\n",
       "      <td>-4.476012e-01</td>\n",
       "      <td>-4.807371e-01</td>\n",
       "      <td>-4.529179e-01</td>\n",
       "      <td>-4.850413e-01</td>\n",
       "      <td>3.241699e-02</td>\n",
       "      <td>19</td>\n",
       "    </tr>\n",
       "    <tr>\n",
       "      <th>41</th>\n",
       "      <td>0.032198</td>\n",
       "      <td>0.003356</td>\n",
       "      <td>0.002325</td>\n",
       "      <td>0.000566</td>\n",
       "      <td>0.01</td>\n",
       "      <td>0.1</td>\n",
       "      <td>invscaling</td>\n",
       "      <td>l1</td>\n",
       "      <td>{'alpha': 0.01, 'eta0': 0.1, 'learning_rate': ...</td>\n",
       "      <td>-4.357300e-01</td>\n",
       "      <td>-5.276182e-01</td>\n",
       "      <td>-4.547678e-01</td>\n",
       "      <td>-5.083418e-01</td>\n",
       "      <td>-4.617975e-01</td>\n",
       "      <td>-4.776511e-01</td>\n",
       "      <td>3.455718e-02</td>\n",
       "      <td>17</td>\n",
       "    </tr>\n",
       "    <tr>\n",
       "      <th>42</th>\n",
       "      <td>0.014342</td>\n",
       "      <td>0.003281</td>\n",
       "      <td>0.001989</td>\n",
       "      <td>0.000022</td>\n",
       "      <td>0.01</td>\n",
       "      <td>0.01</td>\n",
       "      <td>constant</td>\n",
       "      <td>l2</td>\n",
       "      <td>{'alpha': 0.01, 'eta0': 0.01, 'learning_rate':...</td>\n",
       "      <td>-5.032119e-01</td>\n",
       "      <td>-5.325823e-01</td>\n",
       "      <td>-4.432249e-01</td>\n",
       "      <td>-4.928564e-01</td>\n",
       "      <td>-5.253425e-01</td>\n",
       "      <td>-4.994436e-01</td>\n",
       "      <td>3.158183e-02</td>\n",
       "      <td>22</td>\n",
       "    </tr>\n",
       "    <tr>\n",
       "      <th>43</th>\n",
       "      <td>0.023177</td>\n",
       "      <td>0.003148</td>\n",
       "      <td>0.002267</td>\n",
       "      <td>0.000439</td>\n",
       "      <td>0.01</td>\n",
       "      <td>0.01</td>\n",
       "      <td>constant</td>\n",
       "      <td>l1</td>\n",
       "      <td>{'alpha': 0.01, 'eta0': 0.01, 'learning_rate':...</td>\n",
       "      <td>-4.414780e-01</td>\n",
       "      <td>-5.681174e-01</td>\n",
       "      <td>-4.591325e-01</td>\n",
       "      <td>-5.063978e-01</td>\n",
       "      <td>-4.683289e-01</td>\n",
       "      <td>-4.886909e-01</td>\n",
       "      <td>4.503215e-02</td>\n",
       "      <td>21</td>\n",
       "    </tr>\n",
       "    <tr>\n",
       "      <th>44</th>\n",
       "      <td>0.085152</td>\n",
       "      <td>0.003834</td>\n",
       "      <td>0.002777</td>\n",
       "      <td>0.000519</td>\n",
       "      <td>0.01</td>\n",
       "      <td>0.01</td>\n",
       "      <td>optimal</td>\n",
       "      <td>l2</td>\n",
       "      <td>{'alpha': 0.01, 'eta0': 0.01, 'learning_rate':...</td>\n",
       "      <td>-3.289790e+12</td>\n",
       "      <td>-3.591295e+12</td>\n",
       "      <td>-1.388874e+11</td>\n",
       "      <td>-2.765448e+10</td>\n",
       "      <td>-3.494590e+12</td>\n",
       "      <td>-2.108443e+12</td>\n",
       "      <td>1.656784e+12</td>\n",
       "      <td>37</td>\n",
       "    </tr>\n",
       "    <tr>\n",
       "      <th>45</th>\n",
       "      <td>0.150820</td>\n",
       "      <td>0.009346</td>\n",
       "      <td>0.001934</td>\n",
       "      <td>0.000232</td>\n",
       "      <td>0.01</td>\n",
       "      <td>0.01</td>\n",
       "      <td>optimal</td>\n",
       "      <td>l1</td>\n",
       "      <td>{'alpha': 0.01, 'eta0': 0.01, 'learning_rate':...</td>\n",
       "      <td>-1.526970e+18</td>\n",
       "      <td>-4.099818e+17</td>\n",
       "      <td>-1.146162e+19</td>\n",
       "      <td>-5.219315e+18</td>\n",
       "      <td>-3.585576e+18</td>\n",
       "      <td>-4.440693e+18</td>\n",
       "      <td>3.882456e+18</td>\n",
       "      <td>42</td>\n",
       "    </tr>\n",
       "    <tr>\n",
       "      <th>46</th>\n",
       "      <td>0.023180</td>\n",
       "      <td>0.003605</td>\n",
       "      <td>0.002720</td>\n",
       "      <td>0.000867</td>\n",
       "      <td>0.01</td>\n",
       "      <td>0.01</td>\n",
       "      <td>invscaling</td>\n",
       "      <td>l2</td>\n",
       "      <td>{'alpha': 0.01, 'eta0': 0.01, 'learning_rate':...</td>\n",
       "      <td>-4.212289e-01</td>\n",
       "      <td>-5.058958e-01</td>\n",
       "      <td>-4.486576e-01</td>\n",
       "      <td>-4.715088e-01</td>\n",
       "      <td>-4.561379e-01</td>\n",
       "      <td>-4.606858e-01</td>\n",
       "      <td>2.786857e-02</td>\n",
       "      <td>11</td>\n",
       "    </tr>\n",
       "    <tr>\n",
       "      <th>47</th>\n",
       "      <td>0.031892</td>\n",
       "      <td>0.004249</td>\n",
       "      <td>0.002592</td>\n",
       "      <td>0.000795</td>\n",
       "      <td>0.01</td>\n",
       "      <td>0.01</td>\n",
       "      <td>invscaling</td>\n",
       "      <td>l1</td>\n",
       "      <td>{'alpha': 0.01, 'eta0': 0.01, 'learning_rate':...</td>\n",
       "      <td>-4.303020e-01</td>\n",
       "      <td>-5.138121e-01</td>\n",
       "      <td>-4.517469e-01</td>\n",
       "      <td>-4.826629e-01</td>\n",
       "      <td>-4.674410e-01</td>\n",
       "      <td>-4.691930e-01</td>\n",
       "      <td>2.825685e-02</td>\n",
       "      <td>16</td>\n",
       "    </tr>\n",
       "    <tr>\n",
       "      <th>48</th>\n",
       "      <td>0.019159</td>\n",
       "      <td>0.003558</td>\n",
       "      <td>0.002323</td>\n",
       "      <td>0.000302</td>\n",
       "      <td>0.01</td>\n",
       "      <td>0.001</td>\n",
       "      <td>constant</td>\n",
       "      <td>l2</td>\n",
       "      <td>{'alpha': 0.01, 'eta0': 0.001, 'learning_rate'...</td>\n",
       "      <td>-4.172428e-01</td>\n",
       "      <td>-5.052273e-01</td>\n",
       "      <td>-4.448916e-01</td>\n",
       "      <td>-4.697060e-01</td>\n",
       "      <td>-4.541666e-01</td>\n",
       "      <td>-4.582469e-01</td>\n",
       "      <td>2.903383e-02</td>\n",
       "      <td>9</td>\n",
       "    </tr>\n",
       "    <tr>\n",
       "      <th>49</th>\n",
       "      <td>0.034011</td>\n",
       "      <td>0.003256</td>\n",
       "      <td>0.002617</td>\n",
       "      <td>0.000795</td>\n",
       "      <td>0.01</td>\n",
       "      <td>0.001</td>\n",
       "      <td>constant</td>\n",
       "      <td>l1</td>\n",
       "      <td>{'alpha': 0.01, 'eta0': 0.001, 'learning_rate'...</td>\n",
       "      <td>-4.259250e-01</td>\n",
       "      <td>-5.089300e-01</td>\n",
       "      <td>-4.504200e-01</td>\n",
       "      <td>-4.761011e-01</td>\n",
       "      <td>-4.614328e-01</td>\n",
       "      <td>-4.645618e-01</td>\n",
       "      <td>2.758359e-02</td>\n",
       "      <td>13</td>\n",
       "    </tr>\n",
       "    <tr>\n",
       "      <th>50</th>\n",
       "      <td>0.087589</td>\n",
       "      <td>0.005221</td>\n",
       "      <td>0.002367</td>\n",
       "      <td>0.000374</td>\n",
       "      <td>0.01</td>\n",
       "      <td>0.001</td>\n",
       "      <td>optimal</td>\n",
       "      <td>l2</td>\n",
       "      <td>{'alpha': 0.01, 'eta0': 0.001, 'learning_rate'...</td>\n",
       "      <td>-1.533588e+12</td>\n",
       "      <td>-9.936552e+11</td>\n",
       "      <td>-2.206270e+12</td>\n",
       "      <td>-3.218561e+12</td>\n",
       "      <td>-4.314671e+12</td>\n",
       "      <td>-2.453349e+12</td>\n",
       "      <td>1.190612e+12</td>\n",
       "      <td>38</td>\n",
       "    </tr>\n",
       "    <tr>\n",
       "      <th>51</th>\n",
       "      <td>0.139014</td>\n",
       "      <td>0.009392</td>\n",
       "      <td>0.002587</td>\n",
       "      <td>0.000393</td>\n",
       "      <td>0.01</td>\n",
       "      <td>0.001</td>\n",
       "      <td>optimal</td>\n",
       "      <td>l1</td>\n",
       "      <td>{'alpha': 0.01, 'eta0': 0.001, 'learning_rate'...</td>\n",
       "      <td>-4.321169e+17</td>\n",
       "      <td>-3.070267e+19</td>\n",
       "      <td>-3.712928e+18</td>\n",
       "      <td>-1.573614e+18</td>\n",
       "      <td>-3.890087e+17</td>\n",
       "      <td>-7.362067e+18</td>\n",
       "      <td>1.173247e+19</td>\n",
       "      <td>44</td>\n",
       "    </tr>\n",
       "    <tr>\n",
       "      <th>52</th>\n",
       "      <td>0.018459</td>\n",
       "      <td>0.001340</td>\n",
       "      <td>0.002310</td>\n",
       "      <td>0.000405</td>\n",
       "      <td>0.01</td>\n",
       "      <td>0.001</td>\n",
       "      <td>invscaling</td>\n",
       "      <td>l2</td>\n",
       "      <td>{'alpha': 0.01, 'eta0': 0.001, 'learning_rate'...</td>\n",
       "      <td>-4.702945e-01</td>\n",
       "      <td>-5.572554e-01</td>\n",
       "      <td>-4.955542e-01</td>\n",
       "      <td>-5.184029e-01</td>\n",
       "      <td>-5.144553e-01</td>\n",
       "      <td>-5.111925e-01</td>\n",
       "      <td>2.864133e-02</td>\n",
       "      <td>28</td>\n",
       "    </tr>\n",
       "    <tr>\n",
       "      <th>53</th>\n",
       "      <td>0.024599</td>\n",
       "      <td>0.001566</td>\n",
       "      <td>0.002414</td>\n",
       "      <td>0.000503</td>\n",
       "      <td>0.01</td>\n",
       "      <td>0.001</td>\n",
       "      <td>invscaling</td>\n",
       "      <td>l1</td>\n",
       "      <td>{'alpha': 0.01, 'eta0': 0.001, 'learning_rate'...</td>\n",
       "      <td>-4.786465e-01</td>\n",
       "      <td>-5.661267e-01</td>\n",
       "      <td>-5.036629e-01</td>\n",
       "      <td>-5.298943e-01</td>\n",
       "      <td>-5.288304e-01</td>\n",
       "      <td>-5.214322e-01</td>\n",
       "      <td>2.922433e-02</td>\n",
       "      <td>29</td>\n",
       "    </tr>\n",
       "  </tbody>\n",
       "</table>\n",
       "</div>"
      ],
      "text/plain": [
       "    mean_fit_time  std_fit_time  mean_score_time  std_score_time param_alpha  \\\n",
       "0        0.008693      0.002374         0.002401        0.001385      0.0001   \n",
       "1        0.011854      0.003225         0.001601        0.000490      0.0001   \n",
       "2        0.035633      0.009492         0.001856        0.000304      0.0001   \n",
       "3        0.056251      0.016797         0.001814        0.000375      0.0001   \n",
       "4        0.016809      0.001925         0.001473        0.000436      0.0001   \n",
       "5        0.025846      0.007470         0.001555        0.000439      0.0001   \n",
       "6        0.009775      0.002172         0.001401        0.000490      0.0001   \n",
       "7        0.015573      0.004524         0.001650        0.000512      0.0001   \n",
       "8        0.027364      0.006995         0.001878        0.000525      0.0001   \n",
       "9        0.063092      0.017270         0.001629        0.000367      0.0001   \n",
       "10       0.016228      0.002607         0.001729        0.000610      0.0001   \n",
       "11       0.020519      0.001169         0.001743        0.000420      0.0001   \n",
       "12       0.014163      0.001484         0.001602        0.000490      0.0001   \n",
       "13       0.023146      0.003089         0.002136        0.000968      0.0001   \n",
       "14       0.030068      0.008733         0.001628        0.000514      0.0001   \n",
       "15       0.050855      0.007285         0.001249        0.000233      0.0001   \n",
       "16       0.014319      0.000236         0.001649        0.000472      0.0001   \n",
       "17       0.020144      0.002036         0.002040        0.001147      0.0001   \n",
       "18       0.006126      0.000460         0.001424        0.000504       0.001   \n",
       "19       0.009545      0.001131         0.001504        0.000448       0.001   \n",
       "20       0.053148      0.001924         0.001715        0.000424       0.001   \n",
       "21       0.094393      0.005173         0.001792        0.000403       0.001   \n",
       "22       0.013023      0.002772         0.001744        0.000389       0.001   \n",
       "23       0.021298      0.004329         0.001686        0.000398       0.001   \n",
       "24       0.008636      0.000976         0.001395        0.000385       0.001   \n",
       "25       0.015481      0.003101         0.001412        0.000503       0.001   \n",
       "26       0.056997      0.002514         0.002020        0.000027       0.001   \n",
       "27       0.117570      0.028331         0.001595        0.000488       0.001   \n",
       "28       0.019735      0.001961         0.001592        0.000507       0.001   \n",
       "29       0.031901      0.004999         0.001917        0.000509       0.001   \n",
       "30       0.017906      0.001946         0.001998        0.000057       0.001   \n",
       "31       0.029628      0.004250         0.002002        0.000018       0.001   \n",
       "32       0.074129      0.004123         0.002411        0.000383       0.001   \n",
       "33       0.138253      0.005107         0.002286        0.000375       0.001   \n",
       "34       0.018870      0.001259         0.001961        0.000513       0.001   \n",
       "35       0.025485      0.001626         0.002142        0.000258       0.001   \n",
       "36       0.010653      0.003002         0.002201        0.000401        0.01   \n",
       "37       0.015079      0.001171         0.002109        0.000217        0.01   \n",
       "38       0.088267      0.006401         0.003098        0.001118        0.01   \n",
       "39       0.142225      0.008141         0.001888        0.000199        0.01   \n",
       "40       0.024230      0.004782         0.002363        0.000348        0.01   \n",
       "41       0.032198      0.003356         0.002325        0.000566        0.01   \n",
       "42       0.014342      0.003281         0.001989        0.000022        0.01   \n",
       "43       0.023177      0.003148         0.002267        0.000439        0.01   \n",
       "44       0.085152      0.003834         0.002777        0.000519        0.01   \n",
       "45       0.150820      0.009346         0.001934        0.000232        0.01   \n",
       "46       0.023180      0.003605         0.002720        0.000867        0.01   \n",
       "47       0.031892      0.004249         0.002592        0.000795        0.01   \n",
       "48       0.019159      0.003558         0.002323        0.000302        0.01   \n",
       "49       0.034011      0.003256         0.002617        0.000795        0.01   \n",
       "50       0.087589      0.005221         0.002367        0.000374        0.01   \n",
       "51       0.139014      0.009392         0.002587        0.000393        0.01   \n",
       "52       0.018459      0.001340         0.002310        0.000405        0.01   \n",
       "53       0.024599      0.001566         0.002414        0.000503        0.01   \n",
       "\n",
       "   param_eta0 param_learning_rate param_penalty  \\\n",
       "0         0.1            constant            l2   \n",
       "1         0.1            constant            l1   \n",
       "2         0.1             optimal            l2   \n",
       "3         0.1             optimal            l1   \n",
       "4         0.1          invscaling            l2   \n",
       "5         0.1          invscaling            l1   \n",
       "6        0.01            constant            l2   \n",
       "7        0.01            constant            l1   \n",
       "8        0.01             optimal            l2   \n",
       "9        0.01             optimal            l1   \n",
       "10       0.01          invscaling            l2   \n",
       "11       0.01          invscaling            l1   \n",
       "12      0.001            constant            l2   \n",
       "13      0.001            constant            l1   \n",
       "14      0.001             optimal            l2   \n",
       "15      0.001             optimal            l1   \n",
       "16      0.001          invscaling            l2   \n",
       "17      0.001          invscaling            l1   \n",
       "18        0.1            constant            l2   \n",
       "19        0.1            constant            l1   \n",
       "20        0.1             optimal            l2   \n",
       "21        0.1             optimal            l1   \n",
       "22        0.1          invscaling            l2   \n",
       "23        0.1          invscaling            l1   \n",
       "24       0.01            constant            l2   \n",
       "25       0.01            constant            l1   \n",
       "26       0.01             optimal            l2   \n",
       "27       0.01             optimal            l1   \n",
       "28       0.01          invscaling            l2   \n",
       "29       0.01          invscaling            l1   \n",
       "30      0.001            constant            l2   \n",
       "31      0.001            constant            l1   \n",
       "32      0.001             optimal            l2   \n",
       "33      0.001             optimal            l1   \n",
       "34      0.001          invscaling            l2   \n",
       "35      0.001          invscaling            l1   \n",
       "36        0.1            constant            l2   \n",
       "37        0.1            constant            l1   \n",
       "38        0.1             optimal            l2   \n",
       "39        0.1             optimal            l1   \n",
       "40        0.1          invscaling            l2   \n",
       "41        0.1          invscaling            l1   \n",
       "42       0.01            constant            l2   \n",
       "43       0.01            constant            l1   \n",
       "44       0.01             optimal            l2   \n",
       "45       0.01             optimal            l1   \n",
       "46       0.01          invscaling            l2   \n",
       "47       0.01          invscaling            l1   \n",
       "48      0.001            constant            l2   \n",
       "49      0.001            constant            l1   \n",
       "50      0.001             optimal            l2   \n",
       "51      0.001             optimal            l1   \n",
       "52      0.001          invscaling            l2   \n",
       "53      0.001          invscaling            l1   \n",
       "\n",
       "                                               params  split0_test_score  \\\n",
       "0   {'alpha': 0.0001, 'eta0': 0.1, 'learning_rate'...      -4.415339e+23   \n",
       "1   {'alpha': 0.0001, 'eta0': 0.1, 'learning_rate'...      -5.145931e+22   \n",
       "2   {'alpha': 0.0001, 'eta0': 0.1, 'learning_rate'...      -7.937102e+16   \n",
       "3   {'alpha': 0.0001, 'eta0': 0.1, 'learning_rate'...      -1.571326e+19   \n",
       "4   {'alpha': 0.0001, 'eta0': 0.1, 'learning_rate'...      -4.147934e-01   \n",
       "5   {'alpha': 0.0001, 'eta0': 0.1, 'learning_rate'...      -4.350392e-01   \n",
       "6   {'alpha': 0.0001, 'eta0': 0.01, 'learning_rate...      -9.632061e-01   \n",
       "7   {'alpha': 0.0001, 'eta0': 0.01, 'learning_rate...      -4.260120e-01   \n",
       "8   {'alpha': 0.0001, 'eta0': 0.01, 'learning_rate...      -1.132219e+16   \n",
       "9   {'alpha': 0.0001, 'eta0': 0.01, 'learning_rate...      -8.175557e+15   \n",
       "10  {'alpha': 0.0001, 'eta0': 0.01, 'learning_rate...      -4.191280e-01   \n",
       "11  {'alpha': 0.0001, 'eta0': 0.01, 'learning_rate...      -4.255922e-01   \n",
       "12  {'alpha': 0.0001, 'eta0': 0.001, 'learning_rat...      -4.114899e-01   \n",
       "13  {'alpha': 0.0001, 'eta0': 0.001, 'learning_rat...      -4.161992e-01   \n",
       "14  {'alpha': 0.0001, 'eta0': 0.001, 'learning_rat...      -5.386810e+17   \n",
       "15  {'alpha': 0.0001, 'eta0': 0.001, 'learning_rat...      -3.846893e+18   \n",
       "16  {'alpha': 0.0001, 'eta0': 0.001, 'learning_rat...      -4.701325e-01   \n",
       "17  {'alpha': 0.0001, 'eta0': 0.001, 'learning_rat...      -4.701246e-01   \n",
       "18  {'alpha': 0.001, 'eta0': 0.1, 'learning_rate':...      -2.917436e+23   \n",
       "19  {'alpha': 0.001, 'eta0': 0.1, 'learning_rate':...      -4.834131e+23   \n",
       "20  {'alpha': 0.001, 'eta0': 0.1, 'learning_rate':...      -1.131738e+02   \n",
       "21  {'alpha': 0.001, 'eta0': 0.1, 'learning_rate':...      -9.025922e+05   \n",
       "22  {'alpha': 0.001, 'eta0': 0.1, 'learning_rate':...      -4.287077e-01   \n",
       "23  {'alpha': 0.001, 'eta0': 0.1, 'learning_rate':...      -4.104408e-01   \n",
       "24  {'alpha': 0.001, 'eta0': 0.01, 'learning_rate'...      -4.271612e-01   \n",
       "25  {'alpha': 0.001, 'eta0': 0.01, 'learning_rate'...      -4.515417e-01   \n",
       "26  {'alpha': 0.001, 'eta0': 0.01, 'learning_rate'...      -8.586670e+01   \n",
       "27  {'alpha': 0.001, 'eta0': 0.01, 'learning_rate'...      -1.064150e+00   \n",
       "28  {'alpha': 0.001, 'eta0': 0.01, 'learning_rate'...      -4.212597e-01   \n",
       "29  {'alpha': 0.001, 'eta0': 0.01, 'learning_rate'...      -4.238729e-01   \n",
       "30  {'alpha': 0.001, 'eta0': 0.001, 'learning_rate...      -4.170070e-01   \n",
       "31  {'alpha': 0.001, 'eta0': 0.001, 'learning_rate...      -4.165940e-01   \n",
       "32  {'alpha': 0.001, 'eta0': 0.001, 'learning_rate...      -1.377603e+02   \n",
       "33  {'alpha': 0.001, 'eta0': 0.001, 'learning_rate...      -1.334958e+04   \n",
       "34  {'alpha': 0.001, 'eta0': 0.001, 'learning_rate...      -4.702215e-01   \n",
       "35  {'alpha': 0.001, 'eta0': 0.001, 'learning_rate...      -4.702875e-01   \n",
       "36  {'alpha': 0.01, 'eta0': 0.1, 'learning_rate': ...      -7.516770e+22   \n",
       "37  {'alpha': 0.01, 'eta0': 0.1, 'learning_rate': ...      -1.285506e+22   \n",
       "38  {'alpha': 0.01, 'eta0': 0.1, 'learning_rate': ...      -8.806437e+10   \n",
       "39  {'alpha': 0.01, 'eta0': 0.1, 'learning_rate': ...      -2.464182e+19   \n",
       "40  {'alpha': 0.01, 'eta0': 0.1, 'learning_rate': ...      -5.158972e-01   \n",
       "41  {'alpha': 0.01, 'eta0': 0.1, 'learning_rate': ...      -4.357300e-01   \n",
       "42  {'alpha': 0.01, 'eta0': 0.01, 'learning_rate':...      -5.032119e-01   \n",
       "43  {'alpha': 0.01, 'eta0': 0.01, 'learning_rate':...      -4.414780e-01   \n",
       "44  {'alpha': 0.01, 'eta0': 0.01, 'learning_rate':...      -3.289790e+12   \n",
       "45  {'alpha': 0.01, 'eta0': 0.01, 'learning_rate':...      -1.526970e+18   \n",
       "46  {'alpha': 0.01, 'eta0': 0.01, 'learning_rate':...      -4.212289e-01   \n",
       "47  {'alpha': 0.01, 'eta0': 0.01, 'learning_rate':...      -4.303020e-01   \n",
       "48  {'alpha': 0.01, 'eta0': 0.001, 'learning_rate'...      -4.172428e-01   \n",
       "49  {'alpha': 0.01, 'eta0': 0.001, 'learning_rate'...      -4.259250e-01   \n",
       "50  {'alpha': 0.01, 'eta0': 0.001, 'learning_rate'...      -1.533588e+12   \n",
       "51  {'alpha': 0.01, 'eta0': 0.001, 'learning_rate'...      -4.321169e+17   \n",
       "52  {'alpha': 0.01, 'eta0': 0.001, 'learning_rate'...      -4.702945e-01   \n",
       "53  {'alpha': 0.01, 'eta0': 0.001, 'learning_rate'...      -4.786465e-01   \n",
       "\n",
       "    split1_test_score  split2_test_score  split3_test_score  \\\n",
       "0       -2.854107e+23      -1.484335e+22      -1.509312e+24   \n",
       "1       -1.831920e+23      -7.519618e+22      -2.000952e+24   \n",
       "2       -7.032028e-01      -2.148211e+17      -1.176332e+14   \n",
       "3       -5.152532e-01      -8.176966e+15      -3.598333e+19   \n",
       "4       -5.088312e-01      -4.492774e-01      -4.825010e-01   \n",
       "5       -5.110338e-01      -4.695601e-01      -4.753506e-01   \n",
       "6       -5.624236e-01      -4.658762e-01      -4.901812e-01   \n",
       "7       -5.475000e-01      -5.207403e-01      -4.826099e-01   \n",
       "8       -7.179694e-01      -1.249935e+18      -1.650486e+18   \n",
       "9       -5.630932e-01      -4.332855e+21      -1.690098e+16   \n",
       "10      -5.072522e-01      -4.431919e-01      -4.688518e-01   \n",
       "11      -5.035641e-01      -4.437032e-01      -4.653467e-01   \n",
       "12      -5.025792e-01      -4.437944e-01      -4.650254e-01   \n",
       "13      -5.006809e-01      -4.463557e-01      -4.606583e-01   \n",
       "14      -5.859038e-01      -2.014547e+19      -6.708749e-01   \n",
       "15      -1.267002e+10      -2.008603e+18      -3.456142e+10   \n",
       "16      -5.569580e-01      -4.945733e-01      -5.177876e-01   \n",
       "17      -5.571701e-01      -4.945559e-01      -5.166217e-01   \n",
       "18      -3.751127e+22      -6.322059e+21      -5.238349e+23   \n",
       "19      -7.386740e+22      -7.136753e+23      -1.221285e+22   \n",
       "20      -7.174979e+02      -1.134659e+03      -2.265790e+02   \n",
       "21      -1.427171e+07      -6.379739e+02      -3.056833e+03   \n",
       "22      -5.330832e-01      -4.530687e-01      -4.726420e-01   \n",
       "23      -5.204400e-01      -4.436041e-01      -4.749679e-01   \n",
       "24      -5.002353e-01      -4.943488e-01      -6.786827e-01   \n",
       "25      -5.130911e-01      -4.850377e-01      -5.031147e-01   \n",
       "26      -9.027840e+02      -2.936896e+00      -1.510873e+02   \n",
       "27      -1.960747e+05      -2.926521e+05      -1.288156e+04   \n",
       "28      -5.055394e-01      -4.424627e-01      -4.673139e-01   \n",
       "29      -5.073048e-01      -4.398857e-01      -4.681747e-01   \n",
       "30      -5.038738e-01      -4.447415e-01      -4.697526e-01   \n",
       "31      -5.018784e-01      -4.352568e-01      -4.635465e-01   \n",
       "32      -1.548082e+03      -1.896525e+01      -2.248764e+04   \n",
       "33      -3.401223e+05      -3.640270e+04      -5.338633e+03   \n",
       "34      -5.582132e-01      -4.957650e-01      -5.178497e-01   \n",
       "35      -5.582148e-01      -4.946775e-01      -5.177450e-01   \n",
       "36      -3.012321e+23      -2.002295e+23      -1.052491e+21   \n",
       "37      -2.173121e+22      -5.573732e+23      -1.612433e+23   \n",
       "38      -8.338587e+12      -4.803572e+12      -1.076902e+12   \n",
       "39      -1.607982e+18      -2.485111e+17      -9.231141e+17   \n",
       "40      -5.280532e-01      -4.476012e-01      -4.807371e-01   \n",
       "41      -5.276182e-01      -4.547678e-01      -5.083418e-01   \n",
       "42      -5.325823e-01      -4.432249e-01      -4.928564e-01   \n",
       "43      -5.681174e-01      -4.591325e-01      -5.063978e-01   \n",
       "44      -3.591295e+12      -1.388874e+11      -2.765448e+10   \n",
       "45      -4.099818e+17      -1.146162e+19      -5.219315e+18   \n",
       "46      -5.058958e-01      -4.486576e-01      -4.715088e-01   \n",
       "47      -5.138121e-01      -4.517469e-01      -4.826629e-01   \n",
       "48      -5.052273e-01      -4.448916e-01      -4.697060e-01   \n",
       "49      -5.089300e-01      -4.504200e-01      -4.761011e-01   \n",
       "50      -9.936552e+11      -2.206270e+12      -3.218561e+12   \n",
       "51      -3.070267e+19      -3.712928e+18      -1.573614e+18   \n",
       "52      -5.572554e-01      -4.955542e-01      -5.184029e-01   \n",
       "53      -5.661267e-01      -5.036629e-01      -5.298943e-01   \n",
       "\n",
       "    split4_test_score  mean_test_score  std_test_score  rank_test_score  \n",
       "0       -2.504250e+24    -9.510700e+23    9.277125e+23               54  \n",
       "1       -3.882069e+21    -4.629362e+23    7.712502e+23               53  \n",
       "2       -1.495020e+02    -5.886195e+16    8.381435e+16               40  \n",
       "3       -5.253424e-01    -1.034095e+19    1.419176e+19               46  \n",
       "4       -4.566912e-01    -4.624188e-01    3.172094e-02               12  \n",
       "5       -4.377633e-01    -4.657494e-01    2.787010e-02               15  \n",
       "6       -4.801225e-01    -5.923619e-01    1.883927e-01               30  \n",
       "7       -4.582360e-01    -4.870196e-01    4.327779e-02               20  \n",
       "8       -3.509780e+19    -7.601908e+18    1.376370e+19               45  \n",
       "9       -4.876063e-01    -8.665759e+20    1.733139e+21               47  \n",
       "10      -4.451415e-01    -4.567131e-01    2.976879e-02                5  \n",
       "11      -4.486949e-01    -4.573802e-01    2.634157e-02                7  \n",
       "12      -4.417130e-01    -4.529204e-01    3.012610e-02                2  \n",
       "13      -4.433704e-01    -4.534529e-01    2.764872e-02                3  \n",
       "14      -2.050467e+12    -4.136830e+18    8.007038e+18               41  \n",
       "15      -5.523408e+22    -1.104799e+22    2.209304e+22               48  \n",
       "16      -5.137010e-01    -5.106305e-01    2.865245e-02               24  \n",
       "17      -5.137827e-01    -5.104510e-01    2.867307e-02               23  \n",
       "18      -4.311189e+22    -1.805047e+23    1.999566e+23               50  \n",
       "19      -9.499697e+22    -2.756331e+23    2.748754e+23               52  \n",
       "20      -9.940550e-01    -4.385808e+02    4.253555e+02               32  \n",
       "21      -3.885974e+05    -3.113320e+06    5.588984e+06               36  \n",
       "22      -4.391605e-01    -4.653324e-01    3.693330e-02               14  \n",
       "23      -4.446242e-01    -4.588154e-01    3.696315e-02               10  \n",
       "24      -4.536619e-01    -5.108180e-01    8.812158e-02               25  \n",
       "25      -4.589918e-01    -4.823554e-01    2.399238e-02               18  \n",
       "26      -1.000958e+00    -2.287352e+02    3.416519e+02               31  \n",
       "27      -1.207706e+04    -1.027373e+05    1.196892e+05               35  \n",
       "28      -4.503886e-01    -4.573928e-01    2.826338e-02                8  \n",
       "29      -4.473595e-01    -4.573195e-01    2.876865e-02                6  \n",
       "30      -4.434812e-01    -4.557712e-01    2.927354e-02                4  \n",
       "31      -4.410525e-01    -4.516656e-01    2.923827e-02                1  \n",
       "32      -5.823349e+02    -4.954956e+03    8.782835e+03               33  \n",
       "33      -1.834682e+04    -8.271201e+04    1.291087e+05               34  \n",
       "34      -5.138087e-01    -5.111716e-01    2.890929e-02               27  \n",
       "35      -5.146179e-01    -5.111086e-01    2.902308e-02               26  \n",
       "36      -3.684623e+23    -1.892288e+23    1.365362e+23               51  \n",
       "37      -6.343086e+22    -1.633267e+23    2.039349e+23               49  \n",
       "38      -1.560829e+12    -3.173591e+12    3.028254e+12               39  \n",
       "39      -2.579173e+15    -5.484802e+18    9.594828e+18               43  \n",
       "40      -4.529179e-01    -4.850413e-01    3.241699e-02               19  \n",
       "41      -4.617975e-01    -4.776511e-01    3.455718e-02               17  \n",
       "42      -5.253425e-01    -4.994436e-01    3.158183e-02               22  \n",
       "43      -4.683289e-01    -4.886909e-01    4.503215e-02               21  \n",
       "44      -3.494590e+12    -2.108443e+12    1.656784e+12               37  \n",
       "45      -3.585576e+18    -4.440693e+18    3.882456e+18               42  \n",
       "46      -4.561379e-01    -4.606858e-01    2.786857e-02               11  \n",
       "47      -4.674410e-01    -4.691930e-01    2.825685e-02               16  \n",
       "48      -4.541666e-01    -4.582469e-01    2.903383e-02                9  \n",
       "49      -4.614328e-01    -4.645618e-01    2.758359e-02               13  \n",
       "50      -4.314671e+12    -2.453349e+12    1.190612e+12               38  \n",
       "51      -3.890087e+17    -7.362067e+18    1.173247e+19               44  \n",
       "52      -5.144553e-01    -5.111925e-01    2.864133e-02               28  \n",
       "53      -5.288304e-01    -5.214322e-01    2.922433e-02               29  "
      ]
     },
     "execution_count": 51,
     "metadata": {},
     "output_type": "execute_result"
    }
   ],
   "source": [
    "pd.DataFrame(hypereg.cv_results_)"
   ]
  },
  {
   "cell_type": "markdown",
   "metadata": {
    "id": "aPKiSNTBYXot"
   },
   "source": [
    "> j) Obtenga la predicción del regresor ya entrenado sobre el conjunto de prueba, aplicando la transformación inversa para _volver a la escala original_ de bicicletas."
   ]
  },
  {
   "cell_type": "code",
   "execution_count": 52,
   "metadata": {
    "id": "uShQGyHHYX1-"
   },
   "outputs": [
    {
     "ename": "ValueError",
     "evalue": "Expected 2D array, got 1D array instead:\narray=[ 2.71699134e-02 -5.55507621e-01 -1.21133548e+00  4.11827111e-01\n -3.26116884e-02  1.33076546e+00  4.27555785e-01 -5.72150890e-01\n -8.67724276e-01 -2.20690634e-01 -5.37476626e-01  1.33616756e+00\n  7.61971496e-01 -2.71080917e-01  1.41076788e-01 -5.76390410e-01\n -5.85996034e-01  5.09641465e-01 -7.72745770e-01  7.20545614e-01\n -3.37681449e-01  3.97565572e-01 -5.94381866e-01  1.20962899e+00\n  1.36333656e-01 -3.42997413e-01  1.67110768e-01 -1.45644321e+00\n -3.39563825e-01  4.65621696e-02 -3.26154866e-01 -2.54593623e-02\n -1.53938351e+00 -1.27391292e-01  4.53043411e-01 -1.19508695e-01\n  4.28632133e-01 -5.24662212e-01 -1.83953778e-01 -1.21936051e+00\n  8.25626924e-01 -1.82656613e-03 -6.43182811e-01  1.63525004e-01\n -8.45120003e-01 -1.29434235e+00  3.64768435e-01  3.49547727e-01\n  8.41563997e-01  1.25441148e+00  1.46693428e-01  6.21589664e-01\n  6.45807580e-01 -1.28736702e+00  4.47436901e-01  6.57024619e-01\n  1.22289291e+00  4.64115005e-01 -5.31762823e-01 -2.46015182e-01\n -5.23821304e-01  6.25234890e-01 -1.44678476e+00  8.58248298e-01\n -2.13389077e-01 -6.82852109e-01  2.55468170e-01 -5.11386790e-01\n  1.16980113e+00 -5.18527477e-01 -1.25128811e+00  5.09058838e-01\n -7.00623389e-01  1.76159411e-01 -7.66677683e-01  3.49118218e-01\n  9.35864093e-01  4.32723773e-01  4.38079890e-01 -5.03550794e-01\n  8.93598310e-01 -2.15217715e-01  5.04481890e-01 -1.03429866e+00\n -4.84235099e-01  6.52822892e-01 -5.93639589e-01 -2.18137673e-01\n -4.77905141e-01  8.06907005e-01  9.93807813e-01  2.41109792e-01\n  1.59557738e-01  3.70497433e-01  4.15435958e-01  2.31106105e-01\n  8.53062876e-01 -2.44344695e-01 -2.31003660e-01  3.44796637e-01\n  1.06759453e-01  8.65019003e-01  3.01465518e-01 -5.98421868e-01\n -1.06819682e-01 -1.72620909e-01 -3.81006004e-01 -8.47287965e-01\n  4.75354474e-01  8.58886633e-01 -1.17308079e+00 -8.74982126e-01\n -1.04507692e+00 -3.34962254e-01  7.98377238e-01  3.66989667e-02\n -9.95836712e-01  7.26240246e-01  1.84376474e-01 -5.54691210e-01\n  3.49305664e-01  6.39924877e-01 -3.85581966e+00  2.73784518e-01\n  4.62112094e-02  4.08166551e-01 -1.01018871e+00  8.19106189e-01\n  3.89166614e-01 -7.24725284e-01 -6.11058539e-01 -2.78706078e-01\n  2.20931419e-01  1.76244443e-01  3.45719862e-01 -1.40716278e+00\n -1.98009844e+00 -2.69124531e-01 -9.46206888e-01  1.08800845e+00\n -2.83776456e-01 -4.55374051e-01 -2.19527755e-01  2.29002927e-02\n -2.59072860e-01  1.25660644e+00 -9.06325531e-01 -1.04245726e+00\n -7.39528013e-01  6.19328101e-01 -3.51291056e-01 -2.03689496e-01\n  2.42434697e-01  3.49534787e-01  1.06106192e+00 -6.56657345e-01\n  3.99645253e-01  1.90928520e-01 -1.21439641e+00  9.59665372e-01\n -7.17110427e-01  8.24202684e-01  2.62918491e-01 -3.70491565e-01\n -9.56599023e-01  6.78868543e-01 -1.16758767e-01  5.53813758e-01\n -2.43761741e-01 -1.91946663e-01 -9.17769479e-01  3.10363092e-01\n -3.15616385e-01  7.29824566e-02 -6.26512449e-01 -2.57170936e-01\n  5.66061341e-01 -1.03232828e-01  7.56054669e-01 -4.38530153e-01\n -5.81056932e-01 -4.88593602e-01  1.12889669e+00 -1.24891884e+00\n  9.74813998e-01 -7.76288486e-01 -5.51960742e-01  1.12745868e+00\n -5.81531380e-01 -1.30061312e-01 -8.80804918e-01 -5.56323879e-01\n -1.34250562e+00 -1.50320369e-02 -9.43533001e-01  4.68477963e-01\n  6.81194225e-01 -4.65146773e-01 -4.56975151e-01  2.64054248e-01\n -3.66011471e-01 -1.10969277e+00 -7.05233095e-01  1.98654473e-01\n -2.22046571e-01 -5.74817625e-01  2.97390458e-01  4.62538194e-01\n  8.13599542e-01  2.34912641e-02  3.31887983e-01  1.13397718e-01\n  5.92584072e-01  1.03376892e+00  2.36464398e-02 -6.44572555e-01\n -6.64917707e-01  1.18137923e+00  4.93173811e-02 -5.76706755e-01\n -8.50029186e-02  8.08580937e-01  3.98124690e-01 -6.85172312e-01\n -8.47384805e-01  4.95266354e-01  1.00714480e+00 -8.05901971e-01\n -1.89314378e-02 -3.80200313e-01 -1.26623363e+00  1.88539081e-01\n -9.94132055e-01 -1.14332901e+00 -1.00045666e+00 -3.37989228e-01\n -6.24156134e-01  7.38725473e-01  1.31677204e-01 -6.21658270e-01\n  2.63617202e-01  1.00254514e+00 -1.22556299e+00  5.25526900e-01\n  4.07744217e-01 -1.00385018e-01 -9.50216463e-01 -8.28925181e-01\n -1.00374329e-01 -5.82325620e-02  9.61838927e-01  1.04974826e+00\n  1.08793779e-01  1.16153865e+00  4.04144905e-01 -7.54170826e-01\n  7.90179212e-01 -5.83575694e-02 -5.53630859e-01 -1.42897502e+00\n -2.12689776e-01  4.90840779e-01  1.32297496e+00 -1.17876439e+00\n -6.77450713e-03 -8.47988835e-01 -3.19524328e-03 -1.07371976e+00\n  3.83538417e-01  1.07795257e+00 -2.35624373e-01  3.92684113e-01\n  5.50688370e-01  5.46230748e-01  1.92733510e-01  3.66547566e-01\n -1.67262758e+00  3.57851923e-01  1.02551236e+00 -1.45280644e+00\n -1.00952167e+00  1.32503436e+00 -8.30272157e-01 -1.16992053e+00\n -1.31924475e+00 -8.54202186e-02  1.56526368e-01  5.01874225e-01\n -6.81205266e-02 -2.83478563e-01  1.41188708e+00  4.65785673e-01\n -2.13697527e-01  2.61882822e-02 -3.58938578e-01  2.84596564e-01\n -6.76209604e-01 -5.72563828e-01 -1.22221990e+00 -2.28551731e-01\n -7.89460156e-01 -3.00806883e-01  9.56300257e-01 -1.92691905e-01\n  1.05323773e+00 -2.16498768e-01  7.78870373e-01  2.05619722e-01\n  3.99325148e-01 -1.32861338e-01 -1.24865261e+00 -1.47570662e+00\n  2.59071691e-01  1.91498095e-01  6.52783645e-01  4.71867519e-01\n -9.35348699e-01  8.58516605e-01 -1.98118560e+00 -2.20535588e-01\n  2.79816496e-01  8.32074058e-01  1.11460708e+00  1.57304293e-01\n  3.89562126e-03  7.03336480e-01 -8.97228046e-02 -1.17603608e+00\n -2.19725344e-01  1.06371036e+00 -4.96841714e-01 -1.83362672e-01\n  5.03384306e-01  8.40594047e-02  5.10770720e-01 -9.23506693e-01\n  1.05088824e-01 -5.64810597e-01 -6.77012814e-01  4.53178404e-01\n  1.25614886e-01  4.96051722e-01 -4.05523312e-01 -3.83028157e-01\n -1.68235089e-01 -7.72699687e-02 -8.32957204e-01  8.22163360e-01\n  1.01805802e+00 -1.79218219e-01 -7.37471302e-01  2.67785832e-01\n -5.72422242e-01 -1.38685047e+00 -8.36815404e-01 -1.01302088e+00\n -8.43599909e-01  6.08222132e-01  5.88199910e-01 -2.61105895e-01\n  8.86614565e-01 -5.13317315e-01  1.64990256e-01  8.64702984e-01\n -4.24933110e-02 -3.50196857e-01 -3.56854164e-01  1.03016713e-01\n  5.29092740e-01 -8.81129944e-01  1.20060750e+00  4.89278743e-01\n  3.12439083e-01 -2.30837579e-01 -3.90511998e-01 -4.68411377e-02\n -6.94532191e-01 -1.27488567e-02  3.92687495e-02 -6.27452747e-01\n -1.63772006e-01  5.35739271e-01  2.46949066e-01  4.78557288e-01\n  9.30346138e-01 -1.72947499e+00 -1.35661306e+00  4.70553471e-02\n  1.39630222e-01  1.04095138e+00 -3.28402726e-01  1.71054131e-01\n  8.74042349e-01 -8.88545930e-01  5.10666150e-01 -1.00177353e+00\n -8.78498772e-01  3.34326928e-02 -7.66757879e-01  8.37542741e-01\n  3.96247075e-01 -7.07811510e-02  8.75463330e-01 -9.81789579e-02\n -5.13858013e-02 -5.73957288e-01 -7.16357166e-01  4.65158751e-01\n -1.94008060e-01 -2.28914851e-01 -5.97454115e-01 -4.31197129e-02\n  5.63093534e-02 -7.71444721e-02  4.88824464e-01 -1.01725821e+00\n -2.56517776e-01  1.06306440e-01  1.12320329e+00  4.31990919e-01\n -1.05453569e+00  4.18979251e-01  7.83511907e-03  1.17532797e+00\n -1.53374550e-01 -8.05792251e-01 -6.96418033e-01  7.57004796e-01\n -1.23045605e+00 -2.07298774e-01  7.26338778e-01  2.53825466e-02\n -3.85676065e-01 -8.98993783e-01 -2.63547547e-01 -1.03294721e+00\n -2.08343386e-01  9.23458111e-01  1.30770286e-01  3.77796036e-01\n -1.52297832e+00 -1.00577455e+00  1.38202948e-01 -2.24163831e-01\n -4.12049929e-01  5.21438940e-01  1.15564410e+00 -5.23905520e-01\n -6.80473195e-01 -8.92680348e-01 -2.36604664e-01 -5.63814089e-01\n -7.42065459e-01  8.74263491e-01  5.22078038e-01  5.44023071e-01\n -3.02737499e-03  9.15701648e-01 -7.16921824e-01 -7.29816072e-02\n  2.77576505e-01  8.75228668e-01 -3.33529699e-01  2.48058024e-01\n -1.18270703e+00 -1.09316240e+00 -2.29932894e-01  2.07481963e-01\n -1.23995780e+00 -7.84000472e-01 -4.35173659e-01 -1.03401619e+00\n  2.46166170e-01 -2.61117208e-01 -2.24360086e-01 -7.89218237e-01\n  1.06241248e+00 -1.13487062e+00 -6.99014177e-01  9.88155881e-01\n  1.02936602e+00  3.54092812e-01  1.31793254e+00 -6.35374244e-02\n -5.19334352e-01 -2.65343508e-01 -6.12010915e-02  6.57705353e-01\n -1.32983420e+00  9.91228136e-01  7.88044048e-01 -6.34171936e-01\n  3.69614499e-02  6.77865433e-01  3.49680967e-01 -1.06850143e+00\n  6.50813521e-01  7.52791962e-01 -6.39925177e-01  1.00655813e+00\n  2.73709147e-01 -5.63060237e-01  6.67384742e-01  4.28440274e-01\n -1.45619372e-01  1.36271433e+00  1.29895150e-01  1.11504215e+00\n  3.36386179e-01 -6.29133867e-02 -2.29764687e-01  8.48374365e-01\n  8.83902087e-01  6.78154415e-01 -5.47574954e-01  3.46568079e-01\n  1.24142445e+00  4.94450338e-01  1.43705141e+00  4.45581101e-01\n -1.04962267e+00  1.18833608e-01  1.62136736e-01 -1.07522655e+00\n  1.07797558e+00  4.59777174e-01  4.42573812e-01  3.36045332e-02\n -4.50429603e-01 -3.26318340e-01 -3.24011636e-01 -9.67382546e-01\n -2.63004824e-01  5.18375262e-01  5.77047173e-01  4.42358253e-01\n  4.29963881e-02  5.05336089e-02 -8.11597849e-01 -8.63906814e-01\n -4.26707030e-01  7.48257708e-01  9.19099866e-01  5.64474890e-01\n -1.46121366e-01 -6.88643855e-01  7.18055795e-01 -1.28312984e-01\n -1.01201101e+00 -4.79245414e-01 -3.41486448e-01  1.14013160e+00\n -4.89447231e-02  1.77348046e-01  3.78897596e-01 -6.30351204e-01\n -1.98971014e-02 -9.39068824e-01 -1.03975364e+00  6.74369704e-01\n -5.31396398e-02 -6.49666198e-01  7.93284452e-02 -3.67740883e-02\n  1.32032041e-02 -2.09906848e-01 -1.03344024e+00  1.21508208e+00\n -7.92299105e-01 -6.29917609e-01 -1.20211804e+00 -1.61461944e+00\n -8.13571511e-01 -1.40961468e+00 -1.99364313e-01  6.55227726e-01\n  1.50643398e-01 -7.44605609e-02 -1.92762703e-02  9.15233312e-01\n  1.38225005e-01 -3.57320844e-01  8.34881558e-01  3.59369295e-01\n -1.69125559e-01 -1.03309962e+00  1.08680030e-01  6.94425318e-01\n -8.58908594e-02 -2.60398981e-01 -2.88165307e-01  1.79424385e-01\n -5.48103655e-01 -1.06306302e-01  2.01478742e-02  5.35974228e-01\n -1.16554969e-01 -1.23859578e+00  1.35018289e-01  1.02956443e+00\n  3.74549248e-01 -6.34650376e-01  4.34591269e-01 -2.78486120e-01\n  8.51664010e-01  2.43105187e-01 -1.06718330e+00 -4.10513435e-02\n  1.37121238e-01  6.47089247e-01  6.19201737e-01  8.23784262e-01\n -8.77474689e-01 -5.20214951e-01 -5.27100189e-01 -6.26038485e-01\n -5.39693538e-01 -8.05302871e-01  8.68765436e-01  7.41249773e-01\n  2.90421508e-01  4.31711168e-01 -1.42499113e-01 -1.79927577e+00\n -3.89407592e-01  1.57350914e-01  4.94009143e-02  2.81330395e-01\n  2.67675332e-01 -8.36221453e-01 -7.42125783e-01 -1.39735063e+00\n  4.20982563e-01  2.83332574e-02  1.71006533e-01  5.04270647e-02\n -1.34265308e-01  4.20485786e-01 -4.63603118e-01 -2.02262518e-01\n  1.15993878e-01  1.42108992e+00  1.32880693e+00  8.12534016e-01\n -2.81305573e-01 -1.43881263e-01 -9.06905555e-01 -2.22620171e-01\n -1.34562822e+00 -8.67630817e-01  1.13780600e+00  1.03320535e+00\n -2.64485009e-02 -4.56939226e-01  2.06482284e-01 -6.69429647e-01\n  7.05041446e-01  7.11159070e-01 -3.97381115e-01  7.16258341e-01\n -2.01095737e-01  7.67625773e-01  4.01724126e-01 -1.09417633e+00\n -6.69986020e-01  5.67118752e-01  5.12087052e-01  3.35251645e-01\n -1.24487743e+00 -1.05209580e+00 -4.24795501e-01  5.87540938e-03\n -9.06358743e-01 -1.28027444e+00 -6.82435279e-01  3.72853145e-01\n  1.76496821e-01  1.79128326e-02 -4.75780408e-01  1.80359876e-01\n  8.73922873e-01  4.04536235e-01  7.71950682e-01 -1.10642526e-01\n  8.89317849e-01 -1.00823225e+00 -1.90380285e-01 -1.27433534e+00\n  2.16264186e-01  1.10869445e+00  9.41749518e-01 -2.84002530e-01\n -1.47396744e+00  1.72083314e-01  6.07607854e-01 -2.43704750e+00\n -9.26004358e-02  3.32265165e-01  5.05215654e-01  1.00277492e-01\n -4.78325921e-01 -1.04901305e+00  2.17926175e-01  6.70238345e-03\n -1.22926454e+00  5.48156440e-01 -3.61350400e-01  7.86995970e-01\n -1.46266332e+00 -3.76744720e-01 -1.43980831e+00  1.44689139e-02\n -5.78630754e-01 -5.50959750e-01 -7.14309295e-01 -8.49282898e-02\n -1.09660223e+00 -9.73990955e-01 -1.24396406e+00 -1.10175368e+00\n -1.17500683e-03  2.68194942e-01 -1.36975152e+00  5.46099891e-01\n -5.10107839e-01 -4.51928288e-01  1.96068430e-02  6.05336401e-01\n -1.88985238e-01  4.23076666e-01  4.41388130e-01  4.90020878e-01\n -1.16044539e-01  1.41648913e+00  3.58527795e-01  6.20180494e-01\n  1.30948069e+00 -6.37863556e-01 -7.47685726e-01 -5.52236844e-01\n -1.47400802e-01  1.34937417e+00  2.34881518e-01 -3.54498931e-01\n  8.34016336e-01  2.36928185e-01  5.47474780e-01 -2.90460686e-01\n -1.05469740e+00  6.28872220e-01  4.77511828e-01  1.42515738e-01\n  1.32477701e+00  1.91959793e-01  9.96940816e-01 -2.19607814e-01\n  3.18565480e-01  1.45494543e+00 -6.92259013e-01  1.50221042e-01\n -2.65066718e-01 -2.84727508e-01 -1.68112717e+00 -2.80947964e-01\n  5.95050432e-01  2.00317035e-01  2.40687920e-01  4.66752781e-01\n  3.76478816e-01 -1.23389363e-01  1.09469515e+00  4.38043971e-01\n  2.24689592e-02  6.50502262e-01 -7.52393769e-01 -3.34205994e-01\n  2.79895062e-01  6.31143148e-02  7.26705410e-01 -5.96548473e-01\n -6.59585261e-01  4.79432673e-01  8.11438103e-01 -1.42850663e-01\n  7.50157481e-03 -5.28112868e-01  4.20034343e-01 -9.85635060e-02\n  6.63535935e-01 -1.03824782e+00 -2.37407418e-02 -4.71225955e-01\n -7.21997431e-01  1.47143508e-01 -1.66346817e-01  7.43987294e-02\n  5.99687734e-01 -2.65743507e-01  5.73309530e-01  9.75895622e-01\n  2.02663886e-01  6.43648043e-01 -2.33412254e-01  2.76654689e-02\n  1.36971706e-02  6.60632588e-02 -6.76273759e-01  4.18085542e-01\n  3.26086479e-01 -1.38179621e+00  9.88094604e-01  8.54749411e-01\n -9.89599363e-02 -1.40363808e+00  9.85847615e-01  4.47479291e-01\n -1.10753189e+00 -1.25433521e+00 -8.88792802e-01  8.18715213e-01\n -5.30817046e-01 -2.46191192e-01  1.04199209e+00 -1.47541908e-02\n -2.32149390e-01 -9.53425074e-01 -5.49217039e-01  6.33765839e-01\n  5.11019667e-01  7.68402947e-01 -1.83704245e+00  7.80938130e-01\n  5.84077805e-01  8.91948002e-01  2.88694002e-01 -1.58780699e+00\n -9.72357843e-01  7.95457153e-01  1.36858698e-01 -8.49786736e-01\n -6.59494178e-01  8.14124123e-03  3.31459149e-01  3.44440029e-01\n -1.12005495e+00 -4.28083339e-01 -5.17244582e-01  6.65518517e-01\n -7.45466311e-01 -7.95662999e-01 -1.98156382e+00 -4.18400398e-03\n -9.58116537e-01  5.83801443e-01  2.95176054e-01  3.64790439e-01\n -1.14486033e+00  7.61786929e-01 -9.48218175e-01  4.30349685e-01\n  8.74887529e-01 -1.33922719e-01  4.66778168e-01  1.22210555e+00\n  5.87949887e-01  9.67710396e-01  3.50906443e-01 -1.26399031e-01\n -2.75184598e-01 -2.11716963e-01 -2.33944534e-01 -2.69862216e-01\n  5.35966557e-01 -1.82820805e+00  5.39316911e-01 -2.21352848e-01].\nReshape your data either using array.reshape(-1, 1) if your data has a single feature or array.reshape(1, -1) if it contains a single sample.",
     "output_type": "error",
     "traceback": [
      "\u001b[1;31m---------------------------------------------------------------------------\u001b[0m",
      "\u001b[1;31mValueError\u001b[0m                                Traceback (most recent call last)",
      "Input \u001b[1;32mIn [52]\u001b[0m, in \u001b[0;36m<cell line: 3>\u001b[1;34m()\u001b[0m\n\u001b[0;32m      1\u001b[0m y_pred \u001b[38;5;241m=\u001b[39m hypereg\u001b[38;5;241m.\u001b[39mpredict(X_test)\n\u001b[1;32m----> 3\u001b[0m y_pred \u001b[38;5;241m=\u001b[39m \u001b[43my_scaler\u001b[49m\u001b[38;5;241;43m.\u001b[39;49m\u001b[43minverse_transform\u001b[49m\u001b[43m(\u001b[49m\u001b[43my_pred\u001b[49m\u001b[43m)\u001b[49m\n\u001b[0;32m      5\u001b[0m \u001b[38;5;124;03m\"\"\"\u001b[39;00m\n\u001b[0;32m      6\u001b[0m \u001b[38;5;124;03mSu código aquí\u001b[39;00m\n\u001b[0;32m      7\u001b[0m \u001b[38;5;124;03m\"\"\"\u001b[39;00m\n",
      "File \u001b[1;32m~\\miniconda3\\lib\\site-packages\\sklearn\\preprocessing\\_data.py:1016\u001b[0m, in \u001b[0;36mStandardScaler.inverse_transform\u001b[1;34m(self, X, copy)\u001b[0m\n\u001b[0;32m   1013\u001b[0m check_is_fitted(\u001b[38;5;28mself\u001b[39m)\n\u001b[0;32m   1015\u001b[0m copy \u001b[38;5;241m=\u001b[39m copy \u001b[38;5;28;01mif\u001b[39;00m copy \u001b[38;5;129;01mis\u001b[39;00m \u001b[38;5;129;01mnot\u001b[39;00m \u001b[38;5;28;01mNone\u001b[39;00m \u001b[38;5;28;01melse\u001b[39;00m \u001b[38;5;28mself\u001b[39m\u001b[38;5;241m.\u001b[39mcopy\n\u001b[1;32m-> 1016\u001b[0m X \u001b[38;5;241m=\u001b[39m \u001b[43mcheck_array\u001b[49m\u001b[43m(\u001b[49m\n\u001b[0;32m   1017\u001b[0m \u001b[43m    \u001b[49m\u001b[43mX\u001b[49m\u001b[43m,\u001b[49m\n\u001b[0;32m   1018\u001b[0m \u001b[43m    \u001b[49m\u001b[43maccept_sparse\u001b[49m\u001b[38;5;241;43m=\u001b[39;49m\u001b[38;5;124;43m\"\u001b[39;49m\u001b[38;5;124;43mcsr\u001b[39;49m\u001b[38;5;124;43m\"\u001b[39;49m\u001b[43m,\u001b[49m\n\u001b[0;32m   1019\u001b[0m \u001b[43m    \u001b[49m\u001b[43mcopy\u001b[49m\u001b[38;5;241;43m=\u001b[39;49m\u001b[43mcopy\u001b[49m\u001b[43m,\u001b[49m\n\u001b[0;32m   1020\u001b[0m \u001b[43m    \u001b[49m\u001b[43mestimator\u001b[49m\u001b[38;5;241;43m=\u001b[39;49m\u001b[38;5;28;43mself\u001b[39;49m\u001b[43m,\u001b[49m\n\u001b[0;32m   1021\u001b[0m \u001b[43m    \u001b[49m\u001b[43mdtype\u001b[49m\u001b[38;5;241;43m=\u001b[39;49m\u001b[43mFLOAT_DTYPES\u001b[49m\u001b[43m,\u001b[49m\n\u001b[0;32m   1022\u001b[0m \u001b[43m    \u001b[49m\u001b[43mforce_all_finite\u001b[49m\u001b[38;5;241;43m=\u001b[39;49m\u001b[38;5;124;43m\"\u001b[39;49m\u001b[38;5;124;43mallow-nan\u001b[39;49m\u001b[38;5;124;43m\"\u001b[39;49m\u001b[43m,\u001b[49m\n\u001b[0;32m   1023\u001b[0m \u001b[43m\u001b[49m\u001b[43m)\u001b[49m\n\u001b[0;32m   1025\u001b[0m \u001b[38;5;28;01mif\u001b[39;00m sparse\u001b[38;5;241m.\u001b[39missparse(X):\n\u001b[0;32m   1026\u001b[0m     \u001b[38;5;28;01mif\u001b[39;00m \u001b[38;5;28mself\u001b[39m\u001b[38;5;241m.\u001b[39mwith_mean:\n",
      "File \u001b[1;32m~\\miniconda3\\lib\\site-packages\\sklearn\\utils\\validation.py:769\u001b[0m, in \u001b[0;36mcheck_array\u001b[1;34m(array, accept_sparse, accept_large_sparse, dtype, order, copy, force_all_finite, ensure_2d, allow_nd, ensure_min_samples, ensure_min_features, estimator)\u001b[0m\n\u001b[0;32m    767\u001b[0m     \u001b[38;5;66;03m# If input is 1D raise error\u001b[39;00m\n\u001b[0;32m    768\u001b[0m     \u001b[38;5;28;01mif\u001b[39;00m array\u001b[38;5;241m.\u001b[39mndim \u001b[38;5;241m==\u001b[39m \u001b[38;5;241m1\u001b[39m:\n\u001b[1;32m--> 769\u001b[0m         \u001b[38;5;28;01mraise\u001b[39;00m \u001b[38;5;167;01mValueError\u001b[39;00m(\n\u001b[0;32m    770\u001b[0m             \u001b[38;5;124m\"\u001b[39m\u001b[38;5;124mExpected 2D array, got 1D array instead:\u001b[39m\u001b[38;5;130;01m\\n\u001b[39;00m\u001b[38;5;124marray=\u001b[39m\u001b[38;5;132;01m{}\u001b[39;00m\u001b[38;5;124m.\u001b[39m\u001b[38;5;130;01m\\n\u001b[39;00m\u001b[38;5;124m\"\u001b[39m\n\u001b[0;32m    771\u001b[0m             \u001b[38;5;124m\"\u001b[39m\u001b[38;5;124mReshape your data either using array.reshape(-1, 1) if \u001b[39m\u001b[38;5;124m\"\u001b[39m\n\u001b[0;32m    772\u001b[0m             \u001b[38;5;124m\"\u001b[39m\u001b[38;5;124myour data has a single feature or array.reshape(1, -1) \u001b[39m\u001b[38;5;124m\"\u001b[39m\n\u001b[0;32m    773\u001b[0m             \u001b[38;5;124m\"\u001b[39m\u001b[38;5;124mif it contains a single sample.\u001b[39m\u001b[38;5;124m\"\u001b[39m\u001b[38;5;241m.\u001b[39mformat(array)\n\u001b[0;32m    774\u001b[0m         )\n\u001b[0;32m    776\u001b[0m \u001b[38;5;66;03m# make sure we actually converted to numeric:\u001b[39;00m\n\u001b[0;32m    777\u001b[0m \u001b[38;5;28;01mif\u001b[39;00m dtype_numeric \u001b[38;5;129;01mand\u001b[39;00m array\u001b[38;5;241m.\u001b[39mdtype\u001b[38;5;241m.\u001b[39mkind \u001b[38;5;129;01min\u001b[39;00m \u001b[38;5;124m\"\u001b[39m\u001b[38;5;124mOUSV\u001b[39m\u001b[38;5;124m\"\u001b[39m:\n",
      "\u001b[1;31mValueError\u001b[0m: Expected 2D array, got 1D array instead:\narray=[ 2.71699134e-02 -5.55507621e-01 -1.21133548e+00  4.11827111e-01\n -3.26116884e-02  1.33076546e+00  4.27555785e-01 -5.72150890e-01\n -8.67724276e-01 -2.20690634e-01 -5.37476626e-01  1.33616756e+00\n  7.61971496e-01 -2.71080917e-01  1.41076788e-01 -5.76390410e-01\n -5.85996034e-01  5.09641465e-01 -7.72745770e-01  7.20545614e-01\n -3.37681449e-01  3.97565572e-01 -5.94381866e-01  1.20962899e+00\n  1.36333656e-01 -3.42997413e-01  1.67110768e-01 -1.45644321e+00\n -3.39563825e-01  4.65621696e-02 -3.26154866e-01 -2.54593623e-02\n -1.53938351e+00 -1.27391292e-01  4.53043411e-01 -1.19508695e-01\n  4.28632133e-01 -5.24662212e-01 -1.83953778e-01 -1.21936051e+00\n  8.25626924e-01 -1.82656613e-03 -6.43182811e-01  1.63525004e-01\n -8.45120003e-01 -1.29434235e+00  3.64768435e-01  3.49547727e-01\n  8.41563997e-01  1.25441148e+00  1.46693428e-01  6.21589664e-01\n  6.45807580e-01 -1.28736702e+00  4.47436901e-01  6.57024619e-01\n  1.22289291e+00  4.64115005e-01 -5.31762823e-01 -2.46015182e-01\n -5.23821304e-01  6.25234890e-01 -1.44678476e+00  8.58248298e-01\n -2.13389077e-01 -6.82852109e-01  2.55468170e-01 -5.11386790e-01\n  1.16980113e+00 -5.18527477e-01 -1.25128811e+00  5.09058838e-01\n -7.00623389e-01  1.76159411e-01 -7.66677683e-01  3.49118218e-01\n  9.35864093e-01  4.32723773e-01  4.38079890e-01 -5.03550794e-01\n  8.93598310e-01 -2.15217715e-01  5.04481890e-01 -1.03429866e+00\n -4.84235099e-01  6.52822892e-01 -5.93639589e-01 -2.18137673e-01\n -4.77905141e-01  8.06907005e-01  9.93807813e-01  2.41109792e-01\n  1.59557738e-01  3.70497433e-01  4.15435958e-01  2.31106105e-01\n  8.53062876e-01 -2.44344695e-01 -2.31003660e-01  3.44796637e-01\n  1.06759453e-01  8.65019003e-01  3.01465518e-01 -5.98421868e-01\n -1.06819682e-01 -1.72620909e-01 -3.81006004e-01 -8.47287965e-01\n  4.75354474e-01  8.58886633e-01 -1.17308079e+00 -8.74982126e-01\n -1.04507692e+00 -3.34962254e-01  7.98377238e-01  3.66989667e-02\n -9.95836712e-01  7.26240246e-01  1.84376474e-01 -5.54691210e-01\n  3.49305664e-01  6.39924877e-01 -3.85581966e+00  2.73784518e-01\n  4.62112094e-02  4.08166551e-01 -1.01018871e+00  8.19106189e-01\n  3.89166614e-01 -7.24725284e-01 -6.11058539e-01 -2.78706078e-01\n  2.20931419e-01  1.76244443e-01  3.45719862e-01 -1.40716278e+00\n -1.98009844e+00 -2.69124531e-01 -9.46206888e-01  1.08800845e+00\n -2.83776456e-01 -4.55374051e-01 -2.19527755e-01  2.29002927e-02\n -2.59072860e-01  1.25660644e+00 -9.06325531e-01 -1.04245726e+00\n -7.39528013e-01  6.19328101e-01 -3.51291056e-01 -2.03689496e-01\n  2.42434697e-01  3.49534787e-01  1.06106192e+00 -6.56657345e-01\n  3.99645253e-01  1.90928520e-01 -1.21439641e+00  9.59665372e-01\n -7.17110427e-01  8.24202684e-01  2.62918491e-01 -3.70491565e-01\n -9.56599023e-01  6.78868543e-01 -1.16758767e-01  5.53813758e-01\n -2.43761741e-01 -1.91946663e-01 -9.17769479e-01  3.10363092e-01\n -3.15616385e-01  7.29824566e-02 -6.26512449e-01 -2.57170936e-01\n  5.66061341e-01 -1.03232828e-01  7.56054669e-01 -4.38530153e-01\n -5.81056932e-01 -4.88593602e-01  1.12889669e+00 -1.24891884e+00\n  9.74813998e-01 -7.76288486e-01 -5.51960742e-01  1.12745868e+00\n -5.81531380e-01 -1.30061312e-01 -8.80804918e-01 -5.56323879e-01\n -1.34250562e+00 -1.50320369e-02 -9.43533001e-01  4.68477963e-01\n  6.81194225e-01 -4.65146773e-01 -4.56975151e-01  2.64054248e-01\n -3.66011471e-01 -1.10969277e+00 -7.05233095e-01  1.98654473e-01\n -2.22046571e-01 -5.74817625e-01  2.97390458e-01  4.62538194e-01\n  8.13599542e-01  2.34912641e-02  3.31887983e-01  1.13397718e-01\n  5.92584072e-01  1.03376892e+00  2.36464398e-02 -6.44572555e-01\n -6.64917707e-01  1.18137923e+00  4.93173811e-02 -5.76706755e-01\n -8.50029186e-02  8.08580937e-01  3.98124690e-01 -6.85172312e-01\n -8.47384805e-01  4.95266354e-01  1.00714480e+00 -8.05901971e-01\n -1.89314378e-02 -3.80200313e-01 -1.26623363e+00  1.88539081e-01\n -9.94132055e-01 -1.14332901e+00 -1.00045666e+00 -3.37989228e-01\n -6.24156134e-01  7.38725473e-01  1.31677204e-01 -6.21658270e-01\n  2.63617202e-01  1.00254514e+00 -1.22556299e+00  5.25526900e-01\n  4.07744217e-01 -1.00385018e-01 -9.50216463e-01 -8.28925181e-01\n -1.00374329e-01 -5.82325620e-02  9.61838927e-01  1.04974826e+00\n  1.08793779e-01  1.16153865e+00  4.04144905e-01 -7.54170826e-01\n  7.90179212e-01 -5.83575694e-02 -5.53630859e-01 -1.42897502e+00\n -2.12689776e-01  4.90840779e-01  1.32297496e+00 -1.17876439e+00\n -6.77450713e-03 -8.47988835e-01 -3.19524328e-03 -1.07371976e+00\n  3.83538417e-01  1.07795257e+00 -2.35624373e-01  3.92684113e-01\n  5.50688370e-01  5.46230748e-01  1.92733510e-01  3.66547566e-01\n -1.67262758e+00  3.57851923e-01  1.02551236e+00 -1.45280644e+00\n -1.00952167e+00  1.32503436e+00 -8.30272157e-01 -1.16992053e+00\n -1.31924475e+00 -8.54202186e-02  1.56526368e-01  5.01874225e-01\n -6.81205266e-02 -2.83478563e-01  1.41188708e+00  4.65785673e-01\n -2.13697527e-01  2.61882822e-02 -3.58938578e-01  2.84596564e-01\n -6.76209604e-01 -5.72563828e-01 -1.22221990e+00 -2.28551731e-01\n -7.89460156e-01 -3.00806883e-01  9.56300257e-01 -1.92691905e-01\n  1.05323773e+00 -2.16498768e-01  7.78870373e-01  2.05619722e-01\n  3.99325148e-01 -1.32861338e-01 -1.24865261e+00 -1.47570662e+00\n  2.59071691e-01  1.91498095e-01  6.52783645e-01  4.71867519e-01\n -9.35348699e-01  8.58516605e-01 -1.98118560e+00 -2.20535588e-01\n  2.79816496e-01  8.32074058e-01  1.11460708e+00  1.57304293e-01\n  3.89562126e-03  7.03336480e-01 -8.97228046e-02 -1.17603608e+00\n -2.19725344e-01  1.06371036e+00 -4.96841714e-01 -1.83362672e-01\n  5.03384306e-01  8.40594047e-02  5.10770720e-01 -9.23506693e-01\n  1.05088824e-01 -5.64810597e-01 -6.77012814e-01  4.53178404e-01\n  1.25614886e-01  4.96051722e-01 -4.05523312e-01 -3.83028157e-01\n -1.68235089e-01 -7.72699687e-02 -8.32957204e-01  8.22163360e-01\n  1.01805802e+00 -1.79218219e-01 -7.37471302e-01  2.67785832e-01\n -5.72422242e-01 -1.38685047e+00 -8.36815404e-01 -1.01302088e+00\n -8.43599909e-01  6.08222132e-01  5.88199910e-01 -2.61105895e-01\n  8.86614565e-01 -5.13317315e-01  1.64990256e-01  8.64702984e-01\n -4.24933110e-02 -3.50196857e-01 -3.56854164e-01  1.03016713e-01\n  5.29092740e-01 -8.81129944e-01  1.20060750e+00  4.89278743e-01\n  3.12439083e-01 -2.30837579e-01 -3.90511998e-01 -4.68411377e-02\n -6.94532191e-01 -1.27488567e-02  3.92687495e-02 -6.27452747e-01\n -1.63772006e-01  5.35739271e-01  2.46949066e-01  4.78557288e-01\n  9.30346138e-01 -1.72947499e+00 -1.35661306e+00  4.70553471e-02\n  1.39630222e-01  1.04095138e+00 -3.28402726e-01  1.71054131e-01\n  8.74042349e-01 -8.88545930e-01  5.10666150e-01 -1.00177353e+00\n -8.78498772e-01  3.34326928e-02 -7.66757879e-01  8.37542741e-01\n  3.96247075e-01 -7.07811510e-02  8.75463330e-01 -9.81789579e-02\n -5.13858013e-02 -5.73957288e-01 -7.16357166e-01  4.65158751e-01\n -1.94008060e-01 -2.28914851e-01 -5.97454115e-01 -4.31197129e-02\n  5.63093534e-02 -7.71444721e-02  4.88824464e-01 -1.01725821e+00\n -2.56517776e-01  1.06306440e-01  1.12320329e+00  4.31990919e-01\n -1.05453569e+00  4.18979251e-01  7.83511907e-03  1.17532797e+00\n -1.53374550e-01 -8.05792251e-01 -6.96418033e-01  7.57004796e-01\n -1.23045605e+00 -2.07298774e-01  7.26338778e-01  2.53825466e-02\n -3.85676065e-01 -8.98993783e-01 -2.63547547e-01 -1.03294721e+00\n -2.08343386e-01  9.23458111e-01  1.30770286e-01  3.77796036e-01\n -1.52297832e+00 -1.00577455e+00  1.38202948e-01 -2.24163831e-01\n -4.12049929e-01  5.21438940e-01  1.15564410e+00 -5.23905520e-01\n -6.80473195e-01 -8.92680348e-01 -2.36604664e-01 -5.63814089e-01\n -7.42065459e-01  8.74263491e-01  5.22078038e-01  5.44023071e-01\n -3.02737499e-03  9.15701648e-01 -7.16921824e-01 -7.29816072e-02\n  2.77576505e-01  8.75228668e-01 -3.33529699e-01  2.48058024e-01\n -1.18270703e+00 -1.09316240e+00 -2.29932894e-01  2.07481963e-01\n -1.23995780e+00 -7.84000472e-01 -4.35173659e-01 -1.03401619e+00\n  2.46166170e-01 -2.61117208e-01 -2.24360086e-01 -7.89218237e-01\n  1.06241248e+00 -1.13487062e+00 -6.99014177e-01  9.88155881e-01\n  1.02936602e+00  3.54092812e-01  1.31793254e+00 -6.35374244e-02\n -5.19334352e-01 -2.65343508e-01 -6.12010915e-02  6.57705353e-01\n -1.32983420e+00  9.91228136e-01  7.88044048e-01 -6.34171936e-01\n  3.69614499e-02  6.77865433e-01  3.49680967e-01 -1.06850143e+00\n  6.50813521e-01  7.52791962e-01 -6.39925177e-01  1.00655813e+00\n  2.73709147e-01 -5.63060237e-01  6.67384742e-01  4.28440274e-01\n -1.45619372e-01  1.36271433e+00  1.29895150e-01  1.11504215e+00\n  3.36386179e-01 -6.29133867e-02 -2.29764687e-01  8.48374365e-01\n  8.83902087e-01  6.78154415e-01 -5.47574954e-01  3.46568079e-01\n  1.24142445e+00  4.94450338e-01  1.43705141e+00  4.45581101e-01\n -1.04962267e+00  1.18833608e-01  1.62136736e-01 -1.07522655e+00\n  1.07797558e+00  4.59777174e-01  4.42573812e-01  3.36045332e-02\n -4.50429603e-01 -3.26318340e-01 -3.24011636e-01 -9.67382546e-01\n -2.63004824e-01  5.18375262e-01  5.77047173e-01  4.42358253e-01\n  4.29963881e-02  5.05336089e-02 -8.11597849e-01 -8.63906814e-01\n -4.26707030e-01  7.48257708e-01  9.19099866e-01  5.64474890e-01\n -1.46121366e-01 -6.88643855e-01  7.18055795e-01 -1.28312984e-01\n -1.01201101e+00 -4.79245414e-01 -3.41486448e-01  1.14013160e+00\n -4.89447231e-02  1.77348046e-01  3.78897596e-01 -6.30351204e-01\n -1.98971014e-02 -9.39068824e-01 -1.03975364e+00  6.74369704e-01\n -5.31396398e-02 -6.49666198e-01  7.93284452e-02 -3.67740883e-02\n  1.32032041e-02 -2.09906848e-01 -1.03344024e+00  1.21508208e+00\n -7.92299105e-01 -6.29917609e-01 -1.20211804e+00 -1.61461944e+00\n -8.13571511e-01 -1.40961468e+00 -1.99364313e-01  6.55227726e-01\n  1.50643398e-01 -7.44605609e-02 -1.92762703e-02  9.15233312e-01\n  1.38225005e-01 -3.57320844e-01  8.34881558e-01  3.59369295e-01\n -1.69125559e-01 -1.03309962e+00  1.08680030e-01  6.94425318e-01\n -8.58908594e-02 -2.60398981e-01 -2.88165307e-01  1.79424385e-01\n -5.48103655e-01 -1.06306302e-01  2.01478742e-02  5.35974228e-01\n -1.16554969e-01 -1.23859578e+00  1.35018289e-01  1.02956443e+00\n  3.74549248e-01 -6.34650376e-01  4.34591269e-01 -2.78486120e-01\n  8.51664010e-01  2.43105187e-01 -1.06718330e+00 -4.10513435e-02\n  1.37121238e-01  6.47089247e-01  6.19201737e-01  8.23784262e-01\n -8.77474689e-01 -5.20214951e-01 -5.27100189e-01 -6.26038485e-01\n -5.39693538e-01 -8.05302871e-01  8.68765436e-01  7.41249773e-01\n  2.90421508e-01  4.31711168e-01 -1.42499113e-01 -1.79927577e+00\n -3.89407592e-01  1.57350914e-01  4.94009143e-02  2.81330395e-01\n  2.67675332e-01 -8.36221453e-01 -7.42125783e-01 -1.39735063e+00\n  4.20982563e-01  2.83332574e-02  1.71006533e-01  5.04270647e-02\n -1.34265308e-01  4.20485786e-01 -4.63603118e-01 -2.02262518e-01\n  1.15993878e-01  1.42108992e+00  1.32880693e+00  8.12534016e-01\n -2.81305573e-01 -1.43881263e-01 -9.06905555e-01 -2.22620171e-01\n -1.34562822e+00 -8.67630817e-01  1.13780600e+00  1.03320535e+00\n -2.64485009e-02 -4.56939226e-01  2.06482284e-01 -6.69429647e-01\n  7.05041446e-01  7.11159070e-01 -3.97381115e-01  7.16258341e-01\n -2.01095737e-01  7.67625773e-01  4.01724126e-01 -1.09417633e+00\n -6.69986020e-01  5.67118752e-01  5.12087052e-01  3.35251645e-01\n -1.24487743e+00 -1.05209580e+00 -4.24795501e-01  5.87540938e-03\n -9.06358743e-01 -1.28027444e+00 -6.82435279e-01  3.72853145e-01\n  1.76496821e-01  1.79128326e-02 -4.75780408e-01  1.80359876e-01\n  8.73922873e-01  4.04536235e-01  7.71950682e-01 -1.10642526e-01\n  8.89317849e-01 -1.00823225e+00 -1.90380285e-01 -1.27433534e+00\n  2.16264186e-01  1.10869445e+00  9.41749518e-01 -2.84002530e-01\n -1.47396744e+00  1.72083314e-01  6.07607854e-01 -2.43704750e+00\n -9.26004358e-02  3.32265165e-01  5.05215654e-01  1.00277492e-01\n -4.78325921e-01 -1.04901305e+00  2.17926175e-01  6.70238345e-03\n -1.22926454e+00  5.48156440e-01 -3.61350400e-01  7.86995970e-01\n -1.46266332e+00 -3.76744720e-01 -1.43980831e+00  1.44689139e-02\n -5.78630754e-01 -5.50959750e-01 -7.14309295e-01 -8.49282898e-02\n -1.09660223e+00 -9.73990955e-01 -1.24396406e+00 -1.10175368e+00\n -1.17500683e-03  2.68194942e-01 -1.36975152e+00  5.46099891e-01\n -5.10107839e-01 -4.51928288e-01  1.96068430e-02  6.05336401e-01\n -1.88985238e-01  4.23076666e-01  4.41388130e-01  4.90020878e-01\n -1.16044539e-01  1.41648913e+00  3.58527795e-01  6.20180494e-01\n  1.30948069e+00 -6.37863556e-01 -7.47685726e-01 -5.52236844e-01\n -1.47400802e-01  1.34937417e+00  2.34881518e-01 -3.54498931e-01\n  8.34016336e-01  2.36928185e-01  5.47474780e-01 -2.90460686e-01\n -1.05469740e+00  6.28872220e-01  4.77511828e-01  1.42515738e-01\n  1.32477701e+00  1.91959793e-01  9.96940816e-01 -2.19607814e-01\n  3.18565480e-01  1.45494543e+00 -6.92259013e-01  1.50221042e-01\n -2.65066718e-01 -2.84727508e-01 -1.68112717e+00 -2.80947964e-01\n  5.95050432e-01  2.00317035e-01  2.40687920e-01  4.66752781e-01\n  3.76478816e-01 -1.23389363e-01  1.09469515e+00  4.38043971e-01\n  2.24689592e-02  6.50502262e-01 -7.52393769e-01 -3.34205994e-01\n  2.79895062e-01  6.31143148e-02  7.26705410e-01 -5.96548473e-01\n -6.59585261e-01  4.79432673e-01  8.11438103e-01 -1.42850663e-01\n  7.50157481e-03 -5.28112868e-01  4.20034343e-01 -9.85635060e-02\n  6.63535935e-01 -1.03824782e+00 -2.37407418e-02 -4.71225955e-01\n -7.21997431e-01  1.47143508e-01 -1.66346817e-01  7.43987294e-02\n  5.99687734e-01 -2.65743507e-01  5.73309530e-01  9.75895622e-01\n  2.02663886e-01  6.43648043e-01 -2.33412254e-01  2.76654689e-02\n  1.36971706e-02  6.60632588e-02 -6.76273759e-01  4.18085542e-01\n  3.26086479e-01 -1.38179621e+00  9.88094604e-01  8.54749411e-01\n -9.89599363e-02 -1.40363808e+00  9.85847615e-01  4.47479291e-01\n -1.10753189e+00 -1.25433521e+00 -8.88792802e-01  8.18715213e-01\n -5.30817046e-01 -2.46191192e-01  1.04199209e+00 -1.47541908e-02\n -2.32149390e-01 -9.53425074e-01 -5.49217039e-01  6.33765839e-01\n  5.11019667e-01  7.68402947e-01 -1.83704245e+00  7.80938130e-01\n  5.84077805e-01  8.91948002e-01  2.88694002e-01 -1.58780699e+00\n -9.72357843e-01  7.95457153e-01  1.36858698e-01 -8.49786736e-01\n -6.59494178e-01  8.14124123e-03  3.31459149e-01  3.44440029e-01\n -1.12005495e+00 -4.28083339e-01 -5.17244582e-01  6.65518517e-01\n -7.45466311e-01 -7.95662999e-01 -1.98156382e+00 -4.18400398e-03\n -9.58116537e-01  5.83801443e-01  2.95176054e-01  3.64790439e-01\n -1.14486033e+00  7.61786929e-01 -9.48218175e-01  4.30349685e-01\n  8.74887529e-01 -1.33922719e-01  4.66778168e-01  1.22210555e+00\n  5.87949887e-01  9.67710396e-01  3.50906443e-01 -1.26399031e-01\n -2.75184598e-01 -2.11716963e-01 -2.33944534e-01 -2.69862216e-01\n  5.35966557e-01 -1.82820805e+00  5.39316911e-01 -2.21352848e-01].\nReshape your data either using array.reshape(-1, 1) if your data has a single feature or array.reshape(1, -1) if it contains a single sample."
     ]
    }
   ],
   "source": [
    "y_pred = hypereg.predict(X_test)\n",
    "\n",
    "y_pred = y_scaler.inverse_transform(y_pred)\n",
    "\n",
    "\"\"\"\n",
    "Su código aquí\n",
    "\"\"\""
   ]
  },
  {
   "cell_type": "markdown",
   "metadata": {
    "id": "usk2GDO-Tsmy"
   },
   "source": [
    "> k) Calcule el error cuadrático medio en la escala original de bicicletas"
   ]
  },
  {
   "cell_type": "code",
   "execution_count": null,
   "metadata": {
    "id": "N8H1CN0oTsxG"
   },
   "outputs": [],
   "source": [
    "mean_squared_error(...)"
   ]
  },
  {
   "cell_type": "markdown",
   "metadata": {
    "id": "lKdGZ5slT59v"
   },
   "source": [
    "> l) ¿Mejoran los resultados con respecto a los modelo anteriores?\n",
    "\n",
    "> m) Grafique los resultados de la predicción (y_pred) versus los target de la prueba (y_test)"
   ]
  },
  {
   "cell_type": "code",
   "execution_count": null,
   "metadata": {
    "id": "00mlzpdCT8lb"
   },
   "outputs": [],
   "source": [
    "plt.scatter(y_test, y_pred)\n",
    "\n",
    "plt.axis('equal')\n",
    "\n",
    "plt.xlabel('Test')\n",
    "plt.ylabel('Prediction')\n",
    "plt.title('Test vs Prediction')\n",
    "\n",
    "plt.show()"
   ]
  },
  {
   "cell_type": "markdown",
   "metadata": {
    "id": "8Y6DNuw9qDQS"
   },
   "source": [
    "## 1.4 Conclusiones:\n",
    "\n",
    "(Escriba aquí sus conclusiones de la pregunta 1: Regresión lineal para la predicción de la demanda de bicicletas compartidas en Seúl)"
   ]
  },
  {
   "cell_type": "markdown",
   "metadata": {
    "id": "FMBCbHCN5r7S"
   },
   "source": [
    "# 2. Clasificación de hongos\n",
    "\n"
   ]
  },
  {
   "cell_type": "markdown",
   "metadata": {
    "id": "UZbj_ChKFwXo"
   },
   "source": [
    "\n",
    "\n",
    "La tarea de clasificación se refiere a un problema en el que se tiene un conjunto de datos y se quiere predecir la clase a la que pertenece cada elemento del conjunto de datos.\n",
    "\n",
    "Para hacer esto, utilizaríamos un algoritmo de clasificación que examina las características de cada fruta en el conjunto de datos y aprende patrones que pueden ser utilizados para predecir su clase.\n",
    "\n",
    "Hay muchos algoritmos de clasificación diferentes que se pueden utilizar en el aprendizaje automático, por ejemplo la regresión logística, el SVM (máquina de soporte vectorial), Random Forest y redes neuronales, etcétera.\n",
    "\n",
    "Una vez que se entrena el modelo, se utiliza para predecir la clase de nuevos datos que no se incluyeron en el conjunto de datos original. Para medir el desempeño del modelo, se pueden utilizar diferentes métricas de evaluación, como la precisión, el recall y la F1-score.\n",
    "\n",
    "La tarea de clasificación es muy útil en muchas áreas, como la medicina, la banca, el comercio electrónico y la publicidad, ya que permite la automatización de tareas que antes requerían una gran cantidad de tiempo y recursos humanos.\n",
    "\n",
    "<center><img src=https://w0.peakpx.com/wallpaper/496/595/HD-wallpaper-red-mushroom-mushroom-red-beautiful.jpg></center>\n",
    "\n",
    "Este conjunto de datos incluye descripciones de muestras correspondientes a 23 especies de hongos de la familia Agaricus y Hongo Lepiota extraídas de la Guía de campo de hongos norteamericanos de la Audubon Society. Cada especie se identifica como definitivamente comestible, definitivamente venenosa o de comestibilidad desconocida y no recomendada. Esta última clase se ha combinado con la venenosa."
   ]
  },
  {
   "cell_type": "markdown",
   "metadata": {
    "id": "_G3OZUw38FcJ"
   },
   "source": [
    "## 2.1 Manipulación y exploración del conjunto de datos"
   ]
  },
  {
   "cell_type": "code",
   "execution_count": null,
   "metadata": {},
   "outputs": [],
   "source": [
    "import pandas as pd"
   ]
  },
  {
   "cell_type": "code",
   "execution_count": null,
   "metadata": {
    "colab": {
     "base_uri": "https://localhost:8080/"
    },
    "id": "vPfpZ8zWFygZ",
    "outputId": "67ee96fa-0b17-402f-b277-fb4abd9b3fa8"
   },
   "outputs": [],
   "source": [
    "#!kaggle datasets download -d uciml/mushroom-classification"
   ]
  },
  {
   "cell_type": "code",
   "execution_count": null,
   "metadata": {
    "colab": {
     "base_uri": "https://localhost:8080/"
    },
    "id": "CTkr6KXFpWLz",
    "outputId": "35be0cc4-7af5-4124-bca4-d9b36f7d39c3"
   },
   "outputs": [],
   "source": [
    "#!unzip mushroom-classification.zip"
   ]
  },
  {
   "cell_type": "code",
   "execution_count": null,
   "metadata": {
    "id": "tO2RzdBgovmC"
   },
   "outputs": [],
   "source": [
    "df = pd.read_csv('mushrooms.csv')"
   ]
  },
  {
   "cell_type": "code",
   "execution_count": null,
   "metadata": {
    "id": "HeWH4Rtvo2eK"
   },
   "outputs": [],
   "source": [
    "df.head()"
   ]
  },
  {
   "cell_type": "code",
   "execution_count": null,
   "metadata": {
    "colab": {
     "base_uri": "https://localhost:8080/",
     "height": 601
    },
    "id": "zHMHTQQnqqts",
    "outputId": "b64a7e51-f19c-491a-b036-08f38e7d9425"
   },
   "outputs": [],
   "source": [
    "def datainfo():\n",
    "    temp_ps = pd.DataFrame(index=df.columns)\n",
    "    temp_ps['DataType'] = df.dtypes\n",
    "    temp_ps[\"Non-null_Values\"] = df.count()\n",
    "    temp_ps['Unique_Values'] = df.nunique()\n",
    "    temp_ps['NaN_Values'] = df.isnull().sum()\n",
    "    temp_ps['NaN_Values_Percentage'] = (temp_ps['NaN_Values']/len(df))*100 \n",
    "    return temp_ps\n",
    "\n",
    "datainfo()"
   ]
  },
  {
   "cell_type": "markdown",
   "metadata": {
    "id": "v2kvhHwfygON"
   },
   "source": [
    "### 2.1.1 Exploración de features\n",
    "\n",
    "> a) ¿Por qué la variable _veil-type_ no aporta ningún valor al entrenamiento? Grafique, justifique y elimine la columna."
   ]
  },
  {
   "cell_type": "markdown",
   "metadata": {},
   "source": [
    "Porque solo tiene un valor unico por lo cual no tiene ninguan variabilidad. Como todos los valores en la variable son iguales, no hay ninguna información que se pueda extraer de ella para distinguir entre diferentes clases de hongos."
   ]
  },
  {
   "cell_type": "code",
   "execution_count": null,
   "metadata": {
    "colab": {
     "base_uri": "https://localhost:8080/",
     "height": 467
    },
    "id": "CwH3fAB8uVrs",
    "outputId": "4b3c9cb9-c262-45af-b6d0-6192200e25ff"
   },
   "outputs": [],
   "source": [
    "sns.countplot(x=\"veil-type\", data=df)"
   ]
  },
  {
   "cell_type": "code",
   "execution_count": null,
   "metadata": {
    "id": "tvp6YJH4zDRm"
   },
   "outputs": [],
   "source": [
    "df.drop('veil-type', axis=1, inplace=True)"
   ]
  },
  {
   "cell_type": "markdown",
   "metadata": {
    "id": "d1RmGujEYLub"
   },
   "source": [
    "> b) Grafique la distribución de cada variable"
   ]
  },
  {
   "cell_type": "code",
   "execution_count": null,
   "metadata": {
    "id": "r0HBjhQ8zK5n"
   },
   "outputs": [],
   "source": [
    "for col in df.columns:    \n",
    "    sns.catplot(x=col, kind=\"count\", data=df, height=3, aspect=1.5)\n",
    "\n",
    "# Fuente: https://www.kaggle.com/code/itzsalil/starter-mushroom-classification-1a2d7941-1\n",
    "# Distribution graphs (histogram/bar graph) of column data\n"
   ]
  },
  {
   "cell_type": "code",
   "execution_count": null,
   "metadata": {},
   "outputs": [],
   "source": [
    "sns.countplot(x=\"cap-shape\", data=df)\n",
    "plt.show()"
   ]
  },
  {
   "cell_type": "markdown",
   "metadata": {
    "id": "_A4vBrbujC62"
   },
   "source": [
    "> c) Separe el conjunto de datos en los subconjuntos de entrenamiento y prueba."
   ]
  },
  {
   "cell_type": "code",
   "execution_count": null,
   "metadata": {},
   "outputs": [],
   "source": [
    "X=df.drop('class',axis=1)\n",
    "y=df['class']\n",
    "X_train, X_test, y_train, y_test = train_test_split(X, y, test_size=0.1)"
   ]
  },
  {
   "cell_type": "markdown",
   "metadata": {
    "id": "h2nEGvc3aUqJ"
   },
   "source": [
    "> d) Codifique las variables de entrada para que puedan ser trabajadas en las siguientes preguntas."
   ]
  },
  {
   "cell_type": "code",
   "execution_count": null,
   "metadata": {},
   "outputs": [],
   "source": [
    "from sklearn.calibration import LabelEncoder\n",
    "\n",
    "#Fuente: https://www.kaggle.com/code/nitinchan/mushroom-classification-rf-features-encodings\n",
    "sample_1 = X.copy()\n",
    "label = LabelEncoder()\n",
    "for col in sample_1.columns:\n",
    "    sample_1[col] = label.fit_transform(sample_1[col])\n",
    "# Print Updated Data\n",
    "sample_1.head(10)"
   ]
  },
  {
   "cell_type": "code",
   "execution_count": null,
   "metadata": {},
   "outputs": [],
   "source": [
    "X = sample_1"
   ]
  },
  {
   "cell_type": "markdown",
   "metadata": {
    "id": "24H4pse5D0rh"
   },
   "source": [
    "> e) Separe los subconjuntos en _X_ e _y_"
   ]
  },
  {
   "cell_type": "code",
   "execution_count": null,
   "metadata": {
    "colab": {
     "base_uri": "https://localhost:8080/"
    },
    "id": "zpRGMbAmapJb",
    "outputId": "afca674e-67b7-41e7-8287-16dd689ccd6c"
   },
   "outputs": [],
   "source": [
    "# load data and split into train/test sets\n",
    "train_set = df.sample(frac=0.7, random_state=42)\n",
    "test_set = df.drop(train_set.index)\n",
    "\n",
    "# create a list to store the columns to be dropped\n",
    "drop_cols = []\n",
    "\n",
    "# iterate over columns and check for binary variables\n",
    "for col in train_set.columns:\n",
    "    if len(train_set[col].unique()) == 2:\n",
    "        # convert binary variables to 0/1\n",
    "        train_set[col] = pd.factorize(train_set[col])[0]\n",
    "        test_set[col] = pd.factorize(test_set[col])[0]\n",
    "    else:\n",
    "        # get dummies for categorical variables with more than 2 categories\n",
    "        train_set = pd.concat([train_set, pd.get_dummies(train_set[col], prefix=col)], axis=1)\n",
    "        test_set = pd.concat([test_set, pd.get_dummies(test_set[col], prefix=col)], axis=1)\n",
    "        # add the original column to the list of columns to be dropped\n",
    "        drop_cols.append(col)\n",
    "\n",
    "# drop the original categorical columns from the train and test sets\n",
    "train_set.drop(drop_cols, axis=1, inplace=True)\n",
    "test_set.drop(drop_cols, axis=1, inplace=True)\n",
    "\n",
    "# ensure that the train and test sets have the same columns\n",
    "train_set, test_set = train_set.align(test_set, join='outer', axis=1, fill_value=0)\n",
    "\n",
    "# print the shapes of the train and test sets\n",
    "print('Train set shape:', train_set.shape)\n",
    "print('Test set shape:', test_set.shape)\n"
   ]
  },
  {
   "cell_type": "code",
   "execution_count": null,
   "metadata": {
    "id": "sFLinCmeFlJ7"
   },
   "outputs": [],
   "source": [
    "X_train = train_set.drop('class', axis=1)\n",
    "y_train = train_set['class']\n",
    "X_test = test_set.drop('class', axis=1)\n",
    "y_test = test_set['class']"
   ]
  },
  {
   "cell_type": "markdown",
   "metadata": {
    "id": "wOZyIyBi8qem"
   },
   "source": [
    "### 2.1.2 Principal Component Analisis\n",
    "\n",
    "PCA (Principal Component Analysis) es una técnica de reducción de dimensionalidad comúnmente usada en machine learning para reducir el número de características en el conjunto de datos conservando la información más importante.\n",
    "\n",
    "> a) Aplique PCA a los datos preprocesados para reducir el número de características a un conjunto más pequeño de componentes principales que capturen los patrones más importantes de los datos. Pruebe con n_components = n_features - k, donde k={1,10,50}, es decir, cree 3 posibles transformaciones de \"*X_train*\" y apliquelas sobre \"*X_test*\"."
   ]
  },
  {
   "cell_type": "markdown",
   "metadata": {
    "id": "ks2RQ2eMeT8U"
   },
   "source": [
    "**Nota:** En adelante se le llamará \"representación de los datos\" a las distintas _feature selection/extraction_, por ejemplo: una posible representación de los datos es aplicar PCA con las 80 componentes principales."
   ]
  },
  {
   "cell_type": "code",
   "execution_count": null,
   "metadata": {
    "id": "_G2xFi8So5-H"
   },
   "outputs": [],
   "source": [
    "result_x_train_pca = []\n",
    "result_x_test_pca = []\n",
    "\n",
    "\n",
    "for i in k:\n",
    "    n = len(X_train.columns) - i #n_features - k\n",
    "  # get the indices of the features sorted by mutual information score\n",
    "    pca = PCA(n_components= n)\n",
    "    pca.fit(X_train)\n",
    "    result_x_train_pca.append( pca.transform(X_train) )\n",
    "    result_x_test_pca.append( pca.transform(X_test) )\n",
    "\n"
   ]
  },
  {
   "cell_type": "markdown",
   "metadata": {
    "id": "u3rcLNkJ8Mun"
   },
   "source": [
    "### 2.1.3 Mutual Information\n",
    "\n",
    "La información mutua es una medida de dependencia entre variables, se puede usar para medir el grado de asociación entre las _features_ y el _target_, y usar esta información para seleccionar las _features_ más relevantes para posteriormente realizar la clasificación. Al utilizar la información mutua para seleccionar las características más informativas, puede mejorar potencialmente el rendimiento de su modelo de aprendizaje automático reduciendo la cantidad de información irrelevante o redundante en el conjunto de datos.\n",
    "\n",
    "> a) Calcule la información mutua entre cada característica y la variable objetivo (comestible o venenoso) para medir el grado de asociación entre cada característica y la variable objetivo.\n",
    "\n",
    "> b) Seleccione las n características con las puntuaciones de información mutua más altas como entrada para un modelo de aprendizaje automático. Pruebe con n = n_features - k, para k={1,10,50}, es decir, cree 3 posibles transformaciones de \"X_train\" y apliquelas sobre \"X_test\".\n",
    "\n",
    "\n",
    "\n"
   ]
  },
  {
   "cell_type": "code",
   "execution_count": null,
   "metadata": {
    "id": "lqINeaZ3MdOJ"
   },
   "outputs": [],
   "source": [
    "mi =mutual_info_classif(X_train, y_train)"
   ]
  },
  {
   "cell_type": "code",
   "execution_count": null,
   "metadata": {},
   "outputs": [],
   "source": [
    "n = 5\n",
    "ind = np.argpartition(mi, -n)[-n:] # Obtener las maximas n features\n",
    "# fuente https://stackoverflow.com/questions/6910641/how-do-i-get-indices-of-n-maximum-values-in-a-numpy-array\n",
    "X_train.columns[ind] # Obtener nombre de las features\n",
    "X_train[X_train.columns[ind]]"
   ]
  },
  {
   "cell_type": "code",
   "execution_count": null,
   "metadata": {
    "id": "akk4t7pyNNBF"
   },
   "outputs": [],
   "source": [
    "# set k to the number of features you want to exclude\n",
    "k = [1, 10, 50]\n",
    "result_x_test = []\n",
    "result_x_train = []\n",
    "for i in k:\n",
    "  # compute the number of features to select\n",
    "  n = len(mi) - i\n",
    "  ind = np.argpartition(mi, -n)[-n:]\n",
    "  # get the indices of the features sorted by mutual information score\n",
    "  result_x_train.append(X_train[X_train.columns[ind]].copy())\n",
    "  result_x_test.append( X_test[X_test.columns[ind]].copy() )\n",
    "  # select the top n features\n",
    "print(result_x_train[2].head())\n"
   ]
  },
  {
   "cell_type": "markdown",
   "metadata": {
    "id": "um0CQ3Qv86Jz"
   },
   "source": [
    "## 2.2 Modelos de clasificación\n",
    "\n",
    "Primero entrenaremos el modelo Naïve Bayes con los conjuntos de datos de entrenamiento generados en el punto 2.1, luego entrenaremos otros clasificadores utilizando como conjunto de entrenamiento la mejor representación de los datos según las metricas de clasificación obtenidas con el modelo Naïve Bayes."
   ]
  },
  {
   "cell_type": "markdown",
   "metadata": {
    "id": "uP7cUph-H4_p"
   },
   "source": [
    "### 2.2.1 Naïve Bayes\n",
    "\n",
    "Naïve Bayes es un modelo generativo clásico para la clasificación en el aprendizaje automático. En el contexto de la clasificación de hongos, puede utilizar Naïve Bayes para modelar la distribución de probabilidad de cada característica dada la etiqueta de clase (comestible o venenosa) y utilizar la regla de Bayes para calcular la probabilidad posterior de cada etiqueta de clase dadas las características observadas.\n",
    "\n",
    "Al utilizar Naïve Bayes para la clasificación, se puede conseguir un buen rendimiento con cantidades relativamente pequeñas de datos de entrenamiento y modelos relativamente sencillos. Sin embargo, Naïve Bayes asume que las características son condicionalmente independientes dada la etiqueta de clase, lo que puede no ser cierto en la práctica. No obstante, Naïve Bayes puede ser un modelo _baseline_ útil para comparar con modelos más complejos.\n",
    "\n",
    "Dado el conjuntos de entrenamiento con características observadas, se utiliza la regla de Bayes para calcular la probabilidad a posteriori de cada etiqueta de clase dadas las características observadas. La etiqueta de clase con la probabilidad a posteriori más alta sería la etiqueta de clase predicha para la muestra de hongos.\n",
    "\n",
    "Si consideramos que $P(x_1, \\dots, x_n)$ es constante, entonces:\n",
    "\n",
    "\\begin{align}\\begin{aligned}P(y \\mid x_1, \\dots, x_n) \\propto P(y) \\prod_{i=1}^{n} P(x_i \\mid y)\\\\\\Downarrow\\\\\\hat{y} = \\arg\\max_y P(y) \\prod_{i=1}^{n} P(x_i \\mid y).\\end{aligned}\\end{align}\n",
    "\n",
    "Usted deberá utilizar la estimación Máxima A Posteriori (MAP) para estimar $P(y)$ y $P(x_i \\mid y)$, donde $P(y)$ es la frecuancia relativa de la clase $y$ y $P(x_i \\mid y)$ asumiremos que se distribuye de forma Gaussiana, es decir:\n",
    "\n",
    "\\begin{align}\\begin{aligned}P(x_i \\mid y) = \\frac{1}{\\sqrt{2\\pi\\sigma^2_y}} \\exp\\left(-\\frac{(x_i - \\mu_y)^2}{2\\sigma^2_y}\\right)\\end{aligned}\\end{align}\n",
    "\n",
    "> a) ¿Qué otras distribuciones de probabilidad se pueden asumir para este problema considerando los valores posibles de las _features_ y del target en el conjunto de datos? Nombre mínimo 2.\n",
    "\n",
    "Para las preguntas b) y c) considere que los datos siguen una distribución de probabilidad Gaussiana y entrene el clasificador utilizando el módulo _GaussianNB_ de la librería _sklearn_.\n",
    "\n",
    "> b) Entrene e clasificador Naïve Bayes con los datos en _bruto_, es decir, tal cual como vienen, sin haber aplicado ninguna extracción o selección de características.\n",
    "\n",
    "> c) Entrene e clasificador Naïve Bayes con cada una de las representaciones obtenidas en el punto 2.1."
   ]
  },
  {
   "cell_type": "code",
   "execution_count": null,
   "metadata": {
    "id": "Xf1Dtw5HPc3D"
   },
   "outputs": [],
   "source": [
    "clf = GaussianNB()\n",
    "clf.fit(X_train_..., y_train_...)\n",
    "\n",
    "y_pred = clf.predict(X_test_...)\n",
    "\n",
    "\"\"\"\n",
    "Su códig aquí\n",
    "\"\"\""
   ]
  },
  {
   "cell_type": "markdown",
   "metadata": {
    "id": "reBuUAOAZRji"
   },
   "source": [
    "> d) Para cada representación de los datos del punto 2.1, obtenga las metricas de clasificación utilizando *classification_report* de la librería sklearn"
   ]
  },
  {
   "cell_type": "code",
   "execution_count": null,
   "metadata": {
    "id": "gil4sig8bTLq"
   },
   "outputs": [],
   "source": [
    "print(classification_report(y_test_..., y_pred, labels=['edible', 'poisonous'], ...))"
   ]
  },
  {
   "cell_type": "markdown",
   "metadata": {
    "id": "zSbWWmEGdl0Q"
   },
   "source": [
    "> e) Determine la mejor representación de los datos según las metricas obtenidas en la pregunta anterior y utilice esa representación de aquí en adelante para entrenar a los otros clasificadores.\n",
    "\n",
    "> f) Muestre los errores tipo 1 y tipo 2."
   ]
  },
  {
   "cell_type": "code",
   "execution_count": null,
   "metadata": {
    "id": "YxBQ4ho8pL3S"
   },
   "outputs": [],
   "source": [
    "# assume you have a classification report saved in the variable `report`\n",
    "cm = confusion_matrix(y_true, y_pred)  # replace y_true and y_pred with your actual true and predicted labels\n",
    "\n",
    "# extract the true positive, false positive, false negative, and true negative counts from the confusion matrix\n",
    "tn, fp, fn, tp = cm.ravel()\n",
    "\n",
    "# create a 2x2 matrix of the type 1 and type 2 errors\n",
    "error_matrix = [[fp, fn], [tn, tp]]\n",
    "\n",
    "# plot the heatmap using seaborn\n",
    "sns.heatmap(error_matrix, annot=True, cmap='Blues', fmt='d', xticklabels=['Type 1', 'Type 2'], yticklabels=['Type 1', 'Type 2'])\n"
   ]
  },
  {
   "cell_type": "markdown",
   "metadata": {
    "id": "VBsq1Fz79PYq"
   },
   "source": [
    "### 2.2.2 Linear Discriminant Analisis\n",
    "\n",
    "El análisis discriminante lineal (LDA) es un algoritmo clásico de clasificación lineal, y su objetivo es encontrar una combinación lineal de características que maximice la separación entre las dos clases (setas comestibles y venenosas). En otras palabras, el LDA intenta proyectar los datos en un espacio de menor dimensión, preservando al mismo tiempo la mayor discriminación de clases posible.\n",
    "\n",
    "La etiqueta de clase con la media más cercana en el espacio transformado sería la etiqueta de clase predicha para la muestra de setas.\n",
    "\n",
    "> a) ¿Qué es lo que asume el modelo LDA sobre la distribución condicional de las clases?\n",
    "\n",
    "> b) ¿Qué es lo que asume el modelo LDA sobre las matrices de covarianza de la distribución condicional?\n",
    "\n",
    "> c) Entrene este clasificador con el mejor dataset del punto 2.1 según los resultados obtenidos con el clasificador Naïve Bayes en el punto 2.2.1."
   ]
  },
  {
   "cell_type": "code",
   "execution_count": null,
   "metadata": {
    "id": "jxrmNpGNWWoS"
   },
   "outputs": [],
   "source": [
    "clf = LinearDiscriminantAnalysis(n_components=)\n",
    "clf.fit(X_train_..., y_train_...)\n",
    "\n",
    "y_pred = clf.predict(X_test_...)\n",
    "\n",
    "\"\"\"\n",
    "Su códig aquí\n",
    "\"\"\""
   ]
  },
  {
   "cell_type": "markdown",
   "metadata": {
    "id": "iLo4nrTbgoZh"
   },
   "source": [
    "> d) Obtenga las metricas de clasificación utilizando *classification_report* de la librería sklearn"
   ]
  },
  {
   "cell_type": "code",
   "execution_count": null,
   "metadata": {
    "id": "P-6ME0RNgq-g"
   },
   "outputs": [],
   "source": [
    "print(classification_report(y_test_..., y_pred, labels=['edible', 'poisonous'], ...))"
   ]
  },
  {
   "cell_type": "markdown",
   "metadata": {
    "id": "9J1Rk1aApr84"
   },
   "source": [
    "> e) Muestre los errores tipo 1 y tipo 2."
   ]
  },
  {
   "cell_type": "code",
   "execution_count": null,
   "metadata": {
    "id": "sX4iJOCBpwQj"
   },
   "outputs": [],
   "source": [
    "# assume you have a classification report saved in the variable `report`\n",
    "cm = confusion_matrix(y_true, y_pred)  # replace y_true and y_pred with your actual true and predicted labels\n",
    "\n",
    "# extract the true positive, false positive, false negative, and true negative counts from the confusion matrix\n",
    "tn, fp, fn, tp = cm.ravel()\n",
    "\n",
    "# create a 2x2 matrix of the type 1 and type 2 errors\n",
    "error_matrix = [[fp, fn], [tn, tp]]\n",
    "\n",
    "# plot the heatmap using seaborn\n",
    "sns.heatmap(error_matrix, annot=True, cmap='Blues', fmt='d', xticklabels=['Type 1', 'Type 2'], yticklabels=['Type 1', 'Type 2'])\n"
   ]
  },
  {
   "cell_type": "markdown",
   "metadata": {
    "id": "lgXLc7RX8-8k"
   },
   "source": [
    "### 2.2.3 Regresión logística\n",
    "\n",
    "La regresión logística es un modelo discriminativo de clasificación clásico que puede utilizarse para la clasificación de hongos. El objetivo de la regresión logística es encontrar el modelo lineal que mejor se ajuste y que pueda predecir la probabilidad de que cada muestra de hongo pertenezca a una clase determinada (comestible o venenosa).\n",
    "\n",
    "> a) ¿En qué consiste la estimación de máxima verosimilitud de coeficientes?\n",
    "\n",
    "> b) ¿Qué asume este modelo de la relación entre las características y la variable objetivo?\n",
    "\n",
    "> c) ¿Qué se hace para evitar el sobreajuste de este modelo?\n",
    "\n",
    "> d) Entrene este clasificador con el mejor dataset del punto 2.1 según los resultados obtenidos con el clasificador Naïve Bayes en el punto 2.2.1.\n",
    "\n",
    "**Nota:** Usted puede variar o probar con distintos hiperparámetros siempre y cuando se utilizen de forma correcta el modelo y los datos para que pueda obtener predicciones comparables con los otros modelos. Puede basarse en los hiperparámetros probados con el regresor logistico y en la documentación de la librería."
   ]
  },
  {
   "cell_type": "code",
   "execution_count": null,
   "metadata": {
    "id": "faocESHchCK_"
   },
   "outputs": [],
   "source": [
    "clf = LogisticRegression(...)\n",
    "clf.fit(X_train_..., y_train_...)\n",
    "\n",
    "y_pred = clf.predict(X_test_...)\n",
    "\n",
    "\"\"\"\n",
    "Su códig aquí\n",
    "\"\"\""
   ]
  },
  {
   "cell_type": "markdown",
   "metadata": {
    "id": "_Gk5_iFrhE-r"
   },
   "source": [
    "> e) Obtenga las metricas de clasificación utilizando *classification_report* de la librería sklearn"
   ]
  },
  {
   "cell_type": "code",
   "execution_count": null,
   "metadata": {
    "id": "US3MfxZGhHQN"
   },
   "outputs": [],
   "source": [
    "print(classification_report(y_test_..., y_pred, labels=['edible', 'poisonous'], ...))"
   ]
  },
  {
   "cell_type": "markdown",
   "metadata": {
    "id": "kqY0jMAHpyB0"
   },
   "source": [
    "> f) Muestre los errores tipo 1 y tipo 2."
   ]
  },
  {
   "cell_type": "code",
   "execution_count": null,
   "metadata": {
    "id": "Uz2Wy17up2SU"
   },
   "outputs": [],
   "source": [
    "# assume you have a classification report saved in the variable `report`\n",
    "cm = confusion_matrix(y_true, y_pred)  # replace y_true and y_pred with your actual true and predicted labels\n",
    "\n",
    "# extract the true positive, false positive, false negative, and true negative counts from the confusion matrix\n",
    "tn, fp, fn, tp = cm.ravel()\n",
    "\n",
    "# create a 2x2 matrix of the type 1 and type 2 errors\n",
    "error_matrix = [[fp, fn], [tn, tp]]\n",
    "\n",
    "# plot the heatmap using seaborn\n",
    "sns.heatmap(error_matrix, annot=True, cmap='Blues', fmt='d', xticklabels=['Type 1', 'Type 2'], yticklabels=['Type 1', 'Type 2'])\n"
   ]
  },
  {
   "cell_type": "markdown",
   "metadata": {
    "id": "DwRKRvP_9KIs"
   },
   "source": [
    "### 2.2.4 Support Vector Machines\n",
    "\n",
    "Las máquinas de vectores soporte (SVM) son un algoritmo de aprendizaje automático potente y versátil que puede utilizarse para la clasificación de hongos. La idea principal detrás de SVM es encontrar el hiperplano que mejor separa las diferentes clases en el conjunto de datos.\n",
    "\n",
    "Utilice los datos de entrenamiento para ajustar un modelo SVM a los datos. Esto implica encontrar el hiperplano que maximice el margen entre las muestras positivas y negativas. El margen es la distancia entre el hiperplano y las muestras más cercanas de cada clase.\n",
    "\n",
    "Si los datos no se pueden separar linealmente, utilice funciones de kernel para transformar los datos en un espacio de mayor dimensión en el que se puedan separar. Las funciones kernel más comunes incluyen funciones polinómicas, de base radial (RBF) y sigmoidales.\n",
    "\n",
    "Entrene un clasificador SVM con el mejor dataset del punto 2.1 según los resultados obtenidos con el clasificador Naïve Bayes en el punto 2.2.1.\n",
    "\n",
    "Entrene el clasificador con los siguientes tipos de _kernel_:\n",
    "\n",
    "> a) Lineal, con 2 valores del coeficiente gamma distintos.\n",
    "\n",
    "> b) Polinómico, con 2 valores del coeficiente gamma distintos.\n",
    "\n",
    "> c) rbf, con 2 valores del coeficiente gamma distintos."
   ]
  },
  {
   "cell_type": "code",
   "execution_count": null,
   "metadata": {
    "id": "FKtqj_fFDokx"
   },
   "outputs": [],
   "source": [
    "clf = NuSVC(kernel={'linear', 'poly', 'rbf'}, gamma=...)\n",
    "clf.fit(X_train_..., y_train_...)\n",
    "\n",
    "y_pred = clf.predict(X_test_...)\n",
    "\n",
    "\"\"\"\n",
    "Su códig aquí\n",
    "\"\"\""
   ]
  },
  {
   "cell_type": "markdown",
   "metadata": {
    "id": "qQJhlgd3mUS3"
   },
   "source": [
    "> d) Obtenga las metricas de clasificación utilizando *classification_report* de la librería sklearn"
   ]
  },
  {
   "cell_type": "code",
   "execution_count": null,
   "metadata": {
    "id": "nYGDlhIXmah5"
   },
   "outputs": [],
   "source": [
    "print(classification_report(y_test_..., y_pred, labels=['edible', 'poisonous'], ...))"
   ]
  },
  {
   "cell_type": "markdown",
   "metadata": {
    "id": "i8kgyvVIp4Q-"
   },
   "source": [
    "> e) Muestre los errores tipo 1 y tipo 2."
   ]
  },
  {
   "cell_type": "code",
   "execution_count": null,
   "metadata": {
    "id": "iosBy5v1p70p"
   },
   "outputs": [],
   "source": [
    "# assume you have a classification report saved in the variable `report`\n",
    "cm = confusion_matrix(y_true, y_pred)  # replace y_true and y_pred with your actual true and predicted labels\n",
    "\n",
    "# extract the true positive, false positive, false negative, and true negative counts from the confusion matrix\n",
    "tn, fp, fn, tp = cm.ravel()\n",
    "\n",
    "# create a 2x2 matrix of the type 1 and type 2 errors\n",
    "error_matrix = [[fp, fn], [tn, tp]]\n",
    "\n",
    "# plot the heatmap using seaborn\n",
    "sns.heatmap(error_matrix, annot=True, cmap='Blues', fmt='d', xticklabels=['Type 1', 'Type 2'], yticklabels=['Type 1', 'Type 2'])\n"
   ]
  },
  {
   "cell_type": "markdown",
   "metadata": {
    "id": "7owu3oyXp8Zf"
   },
   "source": [
    "## 2.3 Conclusiones:\n",
    "\n",
    "(Escriba aquí sus conclusiones de la pregunta 2: Clasificación de hongos)"
   ]
  }
 ],
 "metadata": {
  "colab": {
   "provenance": [],
   "toc_visible": true
  },
  "kernelspec": {
   "display_name": "Python 3 (ipykernel)",
   "language": "python",
   "name": "python3"
  },
  "language_info": {
   "codemirror_mode": {
    "name": "ipython",
    "version": 3
   },
   "file_extension": ".py",
   "mimetype": "text/x-python",
   "name": "python",
   "nbconvert_exporter": "python",
   "pygments_lexer": "ipython3",
   "version": "3.9.7"
  }
 },
 "nbformat": 4,
 "nbformat_minor": 1
}
